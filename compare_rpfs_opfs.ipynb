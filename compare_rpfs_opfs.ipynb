{
 "cells": [
  {
   "cell_type": "code",
   "execution_count": 1,
   "metadata": {},
   "outputs": [],
   "source": [
    "import networkx as nx\n",
    "import json\n",
    "import matplotlib.pyplot as plt\n",
    "\n",
    "%matplotlib inline"
   ]
  },
  {
   "cell_type": "code",
   "execution_count": 2,
   "metadata": {},
   "outputs": [],
   "source": [
    "DATASET_NAME = 'USpowerGrid'\n"
   ]
  },
  {
   "cell_type": "code",
   "execution_count": 3,
   "metadata": {},
   "outputs": [],
   "source": [
    "rp_path = 'data/rpfs_pos/USpowerGrid/stress,node_resolution.json'\n",
    "op_path = 'data/opfs_pos/USpowerGrid/node_resolution.json'"
   ]
  },
  {
   "cell_type": "code",
   "execution_count": 4,
   "metadata": {},
   "outputs": [],
   "source": [
    "with open(rp_path) as f:\n",
    "    rdata = json.load(f)\n",
    "\n",
    "with open(op_path) as f:\n",
    "    odata = json.load(f)\n"
   ]
  },
  {
   "cell_type": "code",
   "execution_count": 5,
   "metadata": {},
   "outputs": [],
   "source": [
    "quality_metrics_names = [\n",
    "    'angular_resolution',\n",
    "    'aspect_ratio',\n",
    "    'crossing_angle_maximization',\n",
    "    'crossing_number',\n",
    "    'gabriel_graph_property',\n",
    "    'ideal_edge_length',\n",
    "    'node_resolution',\n",
    "    'shape_based_metrics',\n",
    "    'stress'\n",
    "]\n",
    "\n",
    "qname = 'node_resolution'\n",
    "\n",
    "d = {}\n",
    "\n",
    "for name in quality_metrics_names:\n",
    "    d[name] = []\n",
    "\n"
   ]
  },
  {
   "cell_type": "code",
   "execution_count": 6,
   "metadata": {},
   "outputs": [],
   "source": [
    "for e in odata['e']:\n",
    "    points = {}\n",
    "    for qn in quality_metrics_names:\n",
    "        points[qn] = []\n",
    "    for seed in e['seed']:\n",
    "        t = e['seed'][seed]\n",
    "        q = t[qname]\n",
    "\n",
    "        points[qname].append(q)\n",
    "\n",
    "    d[qname].append(points[qname])\n",
    "\n",
    "for e in rdata['e']:\n",
    "    points = {}\n",
    "    for qn in quality_metrics_names:\n",
    "        points[qn] = []\n",
    "    for seed in e['seed']:\n",
    "        t = e['seed'][seed]\n",
    "        q = t[qname]\n",
    "\n",
    "        points[qname].append(q)\n",
    "\n",
    "    d[qname].append(points[qname])\n"
   ]
  },
  {
   "cell_type": "code",
   "execution_count": 7,
   "metadata": {},
   "outputs": [
    {
     "data": {
      "image/png": "[encoded data removed]",
      "text/plain": [
       "<Figure size 432x288 with 1 Axes>"
      ]
     },
     "metadata": {
      "needs_background": "light"
     },
     "output_type": "display_data"
    }
   ],
   "source": [
    "bp = plt.boxplot(d[qname])\n",
    "plt.title(qname)\n",
    "plt.grid()\n",
    "plt.show()\n",
    "# 0  352350\n",
    "# 19 377400\n",
    "# 12 566600"
   ]
  }
 ],
 "metadata": {
  "kernelspec": {
   "display_name": "Python 3.9.11 ('.venv': poetry)",
   "language": "python",
   "name": "python3"
  },
  "language_info": {
   "codemirror_mode": {
    "name": "ipython",
    "version": 3
   },
   "file_extension": ".py",
   "mimetype": "text/x-python",
   "name": "python",
   "nbconvert_exporter": "python",
   "pygments_lexer": "ipython3",
   "version": "3.9.11"
  },
  "orig_nbformat": 4,
  "vscode": {
   "interpreter": {
    "hash": "5031a1c082d374b42824ba4074361c835f9bfd3c33854874e61fd39ef2ddb484"
   }
  }
 },
 "nbformat": 4,
 "nbformat_minor": 2
}

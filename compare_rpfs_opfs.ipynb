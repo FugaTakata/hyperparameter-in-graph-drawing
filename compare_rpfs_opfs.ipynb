{
 "cells": [
  {
   "cell_type": "code",
   "execution_count": null,
   "metadata": {},
   "outputs": [],
   "source": [
    "import json\n",
    "import matplotlib.pyplot as plt\n",
    "\n",
    "%matplotlib inline\n"
   ]
  },
  {
   "cell_type": "code",
   "execution_count": null,
   "metadata": {},
   "outputs": [],
   "source": [
    "DATASET_NAME = 'qh882'\n"
   ]
  },
  {
   "cell_type": "code",
   "execution_count": null,
   "metadata": {},
   "outputs": [],
   "source": [
    "rp_path = f'data/rpfs/{DATASET_NAME}/q=all_seed=20_d=2022-11-12_22-28-01.json'\n",
    "op_path = f'data/opfs/{DATASET_NAME}/q=all_seed=20.json'\n"
   ]
  },
  {
   "cell_type": "code",
   "execution_count": null,
   "metadata": {},
   "outputs": [],
   "source": [
    "rdata = []\n",
    "with open(rp_path) as f:\n",
    "    for row in f.readlines():\n",
    "        rdata.append(json.loads(row))\n",
    "\n",
    "with open(op_path) as f:\n",
    "    odata = json.load(f)\n"
   ]
  },
  {
   "cell_type": "code",
   "execution_count": null,
   "metadata": {},
   "outputs": [],
   "source": [
    "quality_metrics_names = [\n",
    "    'angular_resolution',\n",
    "    'aspect_ratio',\n",
    "    'crossing_angle',\n",
    "    'crossing_number',\n",
    "    'gabriel_graph_property',\n",
    "    'ideal_edge_length',\n",
    "    'node_resolution',\n",
    "    'run_time',\n",
    "    'shape_based_metrics',\n",
    "    'stress'\n",
    "]\n"
   ]
  },
  {
   "cell_type": "code",
   "execution_count": null,
   "metadata": {},
   "outputs": [],
   "source": [
    "rqs = {}\n",
    "for qn in quality_metrics_names:\n",
    "    rqs[qn] = []\n",
    "\n",
    "qb = {}\n",
    "for qn in quality_metrics_names:\n",
    "    qb[qn] = []\n",
    "\n",
    "for rd in rdata:\n",
    "    qm = {}\n",
    "    for qn in quality_metrics_names:\n",
    "        qm[qn] = []\n",
    "    for d in rd['data']:\n",
    "        for qn in quality_metrics_names:\n",
    "            qm[qn].append(d['quality'][qn])\n",
    "    for qn in quality_metrics_names:\n",
    "        rqs[qn].append(qm[qn])\n"
   ]
  },
  {
   "cell_type": "code",
   "execution_count": null,
   "metadata": {},
   "outputs": [],
   "source": [
    "oqs = {}\n",
    "for qn in quality_metrics_names:\n",
    "    oqs[qn] = []\n",
    "\n",
    "qb = {}\n",
    "for qn in quality_metrics_names:\n",
    "    qb[qn] = []\n",
    "\n",
    "\n",
    "for qn in quality_metrics_names:\n",
    "    qm = {**qb}\n",
    "    for o in odata['data'][qn]['data']:\n",
    "        oqs[qn].append(o['quality'][qn])\n"
   ]
  },
  {
   "cell_type": "code",
   "execution_count": null,
   "metadata": {},
   "outputs": [],
   "source": [
    "from quality_metrics import angular_resolution, aspect_ratio, crossing_angle, crossing_number, gabriel_graph_property, ideal_edge_length, node_resolution, run_time, shape_based_metrics, stress\n",
    "\n",
    "qmap = {\n",
    "    'angular_resolution': angular_resolution,\n",
    "    'aspect_ratio': aspect_ratio,\n",
    "    'crossing_angle': crossing_angle,\n",
    "    'crossing_number': crossing_number,\n",
    "    'gabriel_graph_property': gabriel_graph_property,\n",
    "    'ideal_edge_length': ideal_edge_length,\n",
    "    'node_resolution': node_resolution,\n",
    "    'run_time': run_time,\n",
    "    'shape_based_metrics': shape_based_metrics,\n",
    "    'stress': stress\n",
    "}\n"
   ]
  },
  {
   "cell_type": "code",
   "execution_count": null,
   "metadata": {},
   "outputs": [],
   "source": [
    "for qn in quality_metrics_names:\n",
    "    b_data = [oqs[qn], *rqs[qn]]\n",
    "    plt.title(f\"{qn} {'+' if qmap[qn].direction == 'maximize' else '-'}\")\n",
    "    plt.boxplot(b_data)\n",
    "    plt.savefig(f'images/optimization/{DATASET_NAME}/{qn}.png',\n",
    "                format='png', dpi=300, facecolor='white')\n",
    "    plt.show()\n"
   ]
  }
 ],
 "metadata": {
  "kernelspec": {
   "display_name": "Python 3.9.11 ('.venv': poetry)",
   "language": "python",
   "name": "python3"
  },
  "language_info": {
   "codemirror_mode": {
    "name": "ipython",
    "version": 3
   },
   "file_extension": ".py",
   "mimetype": "text/x-python",
   "name": "python",
   "nbconvert_exporter": "python",
   "pygments_lexer": "ipython3",
   "version": "3.9.11"
  },
  "orig_nbformat": 4,
  "vscode": {
   "interpreter": {
    "hash": "5031a1c082d374b42824ba4074361c835f9bfd3c33854874e61fd39ef2ddb484"
   }
  }
 },
 "nbformat": 4,
 "nbformat_minor": 2
}

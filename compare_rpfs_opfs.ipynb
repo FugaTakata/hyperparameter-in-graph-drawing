{
 "cells": [
  {
   "cell_type": "code",
   "execution_count": 8,
   "metadata": {},
   "outputs": [],
   "source": [
    "import json\n",
    "import matplotlib.pyplot as plt\n",
    "\n",
    "%matplotlib inline\n"
   ]
  },
  {
   "cell_type": "markdown",
   "metadata": {},
   "source": []
  },
  {
   "cell_type": "code",
   "execution_count": 9,
   "metadata": {},
   "outputs": [],
   "source": [
    "DATASET_NAME = 'USpowerGrid'\n"
   ]
  },
  {
   "cell_type": "code",
   "execution_count": 10,
   "metadata": {},
   "outputs": [],
   "source": [
    "# USpowerGrid\n",
    "if DATASET_NAME == 'USpowerGrid':\n",
    "    rp_filenames = [\n",
    "        'q=all_seed=20_d=2022-11-14_07-33-23.json',\n",
    "        'q=all_seed=20_d=2022-11-14_07-33-25.json',\n",
    "        # 'q=all_seed=20_d=2022-11-14_07-33-29.json',\n",
    "        'q=all_seed=20_d=2022-11-14_07-33-31.json'\n",
    "    ]\n",
    "\n",
    "    op_filenames = [\n",
    "        'q=all_seed=20_target_quality=angular_resolution_date=2022-11-13_17-42-45.json',\n",
    "        'q=all_seed=20_target_quality=aspect_ratio_date=2022-11-13_17-42-56.json',\n",
    "        'q=all_seed=20_target_quality=crossing_angle_date=2022-11-13_17-43-05.json',\n",
    "        'q=all_seed=20_target_quality=crossing_number_date=2022-11-13_17-43-18.json',\n",
    "        'q=all_seed=20_target_quality=gabriel_graph_property_date=2022-11-14_02-46-57.json',\n",
    "        'q=all_seed=20_target_quality=ideal_edge_length_date=2022-11-14_02-46-57.json',\n",
    "        'q=all_seed=20_target_quality=node_resolution_date=2022-11-14_02-46-57.json',\n",
    "        'q=all_seed=20_target_quality=run_time_date=2022-11-14_02-46-57.json',\n",
    "        'q=all_seed=20_target_quality=shape_based_metrics_date=2022-11-14_02-46-57.json',\n",
    "        'q=all_seed=20_target_quality=stress_date=2022-11-14_02-46-57.json'\n",
    "    ]\n",
    "\n",
    "\n"
   ]
  },
  {
   "cell_type": "code",
   "execution_count": 11,
   "metadata": {},
   "outputs": [],
   "source": [
    "# 1138_bus\n",
    "if DATASET_NAME == '1138_bus':\n",
    "    rp_filenames = [\n",
    "        'q=all_seed=20_d=2022-11-17_08-18-22.json',\n",
    "        'q=all_seed=20_d=2022-11-17_08-18-26.json',\n",
    "        # 'q=all_seed=20_d=2022-11-17_08-18-28.json',\n",
    "        # 'q=all_seed=20_d=2022-11-17_08-18-31.json'\n",
    "    ]\n",
    "\n",
    "    op_filenames = [\n",
    "        'q=all_seed=20_target_quality=angular_resolution.json',\n",
    "        'q=all_seed=20_target_quality=aspect_ratio.json',\n",
    "        'q=all_seed=20_target_quality=crossing_angle.json',\n",
    "        'q=all_seed=20_target_quality=crossing_number.json',\n",
    "        'q=all_seed=20_target_quality=gabriel_graph_property.json',\n",
    "        'q=all_seed=20_target_quality=ideal_edge_length.json',\n",
    "        'q=all_seed=20_target_quality=node_resolution.json',\n",
    "        'q=all_seed=20_target_quality=run_time.json',\n",
    "        'q=all_seed=20_target_quality=shape_based_metrics.json',\n",
    "        'q=all_seed=20_target_quality=stress.json'\n",
    "    ]\n"
   ]
  },
  {
   "cell_type": "code",
   "execution_count": 12,
   "metadata": {},
   "outputs": [],
   "source": [
    "quality_metrics_names = [\n",
    "    'angular_resolution',\n",
    "    'aspect_ratio',\n",
    "    'crossing_angle',\n",
    "    'crossing_number',\n",
    "    'gabriel_graph_property',\n",
    "    'ideal_edge_length',\n",
    "    'node_resolution',\n",
    "    'run_time',\n",
    "    'shape_based_metrics',\n",
    "    'stress'\n",
    "]"
   ]
  },
  {
   "cell_type": "code",
   "execution_count": 13,
   "metadata": {},
   "outputs": [],
   "source": [
    "# rp_path = f'data/rpfs/{DATASET_NAME}/q=all_seed=10_d=2022-11-10_14-18-50.json'\n",
    "# op_path = f'data/opfs/{DATASET_NAME}/q=all_seed=20.json'\n"
   ]
  },
  {
   "cell_type": "code",
   "execution_count": 14,
   "metadata": {},
   "outputs": [
    {
     "ename": "FileNotFoundError",
     "evalue": "[Errno 2] No such file or directory: 'data/n_rpfs/USpowerGrid/q=all_seed=20_d=2022-11-14_07-33-23.json'",
     "output_type": "error",
     "traceback": [
      "\u001b[0;31m---------------------------------------------------------------------------\u001b[0m",
      "\u001b[0;31mFileNotFoundError\u001b[0m                         Traceback (most recent call last)",
      "Cell \u001b[0;32mIn[14], line 4\u001b[0m\n\u001b[1;32m      2\u001b[0m \u001b[39mfor\u001b[39;00m rp_filename \u001b[39min\u001b[39;00m rp_filenames:\n\u001b[1;32m      3\u001b[0m     rp_path \u001b[39m=\u001b[39m \u001b[39mf\u001b[39m\u001b[39m'\u001b[39m\u001b[39mdata/n_rpfs/\u001b[39m\u001b[39m{\u001b[39;00mDATASET_NAME\u001b[39m}\u001b[39;00m\u001b[39m/\u001b[39m\u001b[39m{\u001b[39;00mrp_filename\u001b[39m}\u001b[39;00m\u001b[39m'\u001b[39m\n\u001b[0;32m----> 4\u001b[0m     \u001b[39mwith\u001b[39;00m \u001b[39mopen\u001b[39;49m(rp_path) \u001b[39mas\u001b[39;00m f:\n\u001b[1;32m      5\u001b[0m         \u001b[39mfor\u001b[39;00m row \u001b[39min\u001b[39;00m f\u001b[39m.\u001b[39mreadlines():\n\u001b[1;32m      6\u001b[0m             rdata\u001b[39m.\u001b[39mappend(json\u001b[39m.\u001b[39mloads(row))\n",
      "File \u001b[0;32m~/dev/vdslab-project/hyperparameter_optimization/.venv/lib/python3.9/site-packages/IPython/core/interactiveshell.py:282\u001b[0m, in \u001b[0;36m_modified_open\u001b[0;34m(file, *args, **kwargs)\u001b[0m\n\u001b[1;32m    275\u001b[0m \u001b[39mif\u001b[39;00m file \u001b[39min\u001b[39;00m {\u001b[39m0\u001b[39m, \u001b[39m1\u001b[39m, \u001b[39m2\u001b[39m}:\n\u001b[1;32m    276\u001b[0m     \u001b[39mraise\u001b[39;00m \u001b[39mValueError\u001b[39;00m(\n\u001b[1;32m    277\u001b[0m         \u001b[39mf\u001b[39m\u001b[39m\"\u001b[39m\u001b[39mIPython won\u001b[39m\u001b[39m'\u001b[39m\u001b[39mt let you open fd=\u001b[39m\u001b[39m{\u001b[39;00mfile\u001b[39m}\u001b[39;00m\u001b[39m by default \u001b[39m\u001b[39m\"\u001b[39m\n\u001b[1;32m    278\u001b[0m         \u001b[39m\"\u001b[39m\u001b[39mas it is likely to crash IPython. If you know what you are doing, \u001b[39m\u001b[39m\"\u001b[39m\n\u001b[1;32m    279\u001b[0m         \u001b[39m\"\u001b[39m\u001b[39myou can use builtins\u001b[39m\u001b[39m'\u001b[39m\u001b[39m open.\u001b[39m\u001b[39m\"\u001b[39m\n\u001b[1;32m    280\u001b[0m     )\n\u001b[0;32m--> 282\u001b[0m \u001b[39mreturn\u001b[39;00m io_open(file, \u001b[39m*\u001b[39;49margs, \u001b[39m*\u001b[39;49m\u001b[39m*\u001b[39;49mkwargs)\n",
      "\u001b[0;31mFileNotFoundError\u001b[0m: [Errno 2] No such file or directory: 'data/n_rpfs/USpowerGrid/q=all_seed=20_d=2022-11-14_07-33-23.json'"
     ]
    }
   ],
   "source": [
    "rdata = []\n",
    "for rp_filename in rp_filenames:\n",
    "    rp_path = f'data/n_rpfs/{DATASET_NAME}/{rp_filename}'\n",
    "    with open(rp_path) as f:\n",
    "        for row in f.readlines():\n",
    "            rdata.append(json.loads(row))\n",
    "\n",
    "odata = {}\n",
    "for op_filename in op_filenames:\n",
    "    op_path = f'data/n_opfs/{DATASET_NAME}/{op_filename}'\n",
    "    for qn in quality_metrics_names:\n",
    "        with open(op_path) as f:\n",
    "            if qn in op_filename:\n",
    "                odata[qn] = json.load(f)\n"
   ]
  },
  {
   "cell_type": "code",
   "execution_count": null,
   "metadata": {},
   "outputs": [],
   "source": [
    "rqs = {}\n",
    "for qn in quality_metrics_names:\n",
    "    rqs[qn] = []\n",
    "\n",
    "qb = {}\n",
    "for qn in quality_metrics_names:\n",
    "    qb[qn] = []\n",
    "\n",
    "for rd in rdata:\n",
    "    qm = {}\n",
    "    for qn in quality_metrics_names:\n",
    "        qm[qn] = []\n",
    "    print(rd['params'])\n",
    "    for d in rd['data']:\n",
    "        for qn in quality_metrics_names:\n",
    "            qm[qn].append(d['quality'][qn])\n",
    "    for qn in quality_metrics_names:\n",
    "        rqs[qn].append(qm[qn])\n"
   ]
  },
  {
   "cell_type": "code",
   "execution_count": null,
   "metadata": {},
   "outputs": [],
   "source": [
    "oqs = {}\n",
    "for qn in quality_metrics_names:\n",
    "    oqs[qn] = []\n",
    "\n",
    "qb = {}\n",
    "for qn in quality_metrics_names:\n",
    "    qb[qn] = []\n",
    "\n",
    "\n",
    "for qn in quality_metrics_names:\n",
    "    qm = {**qb}\n",
    "    for o in odata[qn]['data'][qn]['data']:\n",
    "        oqs[qn].append(o['quality'][qn])\n"
   ]
  },
  {
   "cell_type": "code",
   "execution_count": null,
   "metadata": {},
   "outputs": [],
   "source": [
    "from quality_metrics import angular_resolution, aspect_ratio, crossing_angle, crossing_number, gabriel_graph_property, ideal_edge_length, node_resolution, run_time, shape_based_metrics, stress\n",
    "\n",
    "qmap = {\n",
    "    'angular_resolution': angular_resolution,\n",
    "    'aspect_ratio': aspect_ratio,\n",
    "    'crossing_angle': crossing_angle,\n",
    "    'crossing_number': crossing_number,\n",
    "    'gabriel_graph_property': gabriel_graph_property,\n",
    "    'ideal_edge_length': ideal_edge_length,\n",
    "    'node_resolution': node_resolution,\n",
    "    'run_time': run_time,\n",
    "    'shape_based_metrics': shape_based_metrics,\n",
    "    'stress': stress\n",
    "}\n"
   ]
  },
  {
   "cell_type": "code",
   "execution_count": null,
   "metadata": {},
   "outputs": [],
   "source": [
    "for qn in quality_metrics_names:\n",
    "    b_data = [oqs[qn], *rqs[qn]]\n",
    "    plt.title(f\"{qn} {'+' if qmap[qn].direction == 'maximize' else '-'}\")\n",
    "    plt.boxplot(b_data)\n",
    "    plt.savefig(f'images/optimization/{DATASET_NAME}/{qn}.png',\n",
    "                format='png', dpi=300, facecolor='white')\n",
    "    plt.show()\n"
   ]
  }
 ],
 "metadata": {
  "kernelspec": {
   "display_name": "Python 3.9.11 ('.venv': poetry)",
   "language": "python",
   "name": "python3"
  },
  "language_info": {
   "codemirror_mode": {
    "name": "ipython",
    "version": 3
   },
   "file_extension": ".py",
   "mimetype": "text/x-python",
   "name": "python",
   "nbconvert_exporter": "python",
   "pygments_lexer": "ipython3",
   "version": "3.9.12 (main, Mar 26 2022, 15:51:15) \n[Clang 13.1.6 (clang-1316.0.21.2)]"
  },
  "orig_nbformat": 4,
  "vscode": {
   "interpreter": {
    "hash": "5031a1c082d374b42824ba4074361c835f9bfd3c33854874e61fd39ef2ddb484"
   }
  }
 },
 "nbformat": 4,
 "nbformat_minor": 2
}

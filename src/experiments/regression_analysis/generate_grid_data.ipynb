{
 "cells": [
  {
   "attachments": {},
   "cell_type": "markdown",
   "metadata": {},
   "source": [
    "# データを作る\n",
    "## 初期配置\n",
    "- ランダムな座標をつくる\n",
    "\n",
    "## SparseSGD\n",
    "- 初期配置には↑を使う\n",
    "- グリッド状にパラメータを決める\n",
    "- 実行して評価指標の測定\n"
   ]
  },
  {
   "cell_type": "code",
   "execution_count": 1,
   "metadata": {},
   "outputs": [],
   "source": [
    "DATASET_NAME = \"USpowerGrid\"\n",
    "\n",
    "EDGE_WEIGHT = 30\n",
    "\n",
    "NUM_OF_ITERATIONS = 100\n",
    "NUM_OF_PIVOTS = 50\n",
    "EPS = 0.1\n",
    "\n",
    "N_SEED = 1\n"
   ]
  },
  {
   "cell_type": "code",
   "execution_count": 2,
   "metadata": {},
   "outputs": [],
   "source": [
    "import pandas as pd\n",
    "from tqdm import tqdm\n"
   ]
  },
  {
   "cell_type": "code",
   "execution_count": 3,
   "metadata": {},
   "outputs": [],
   "source": [
    "from uuid import uuid4\n",
    "\n",
    "\n",
    "def generate_data_id():\n",
    "    return str(uuid4())\n"
   ]
  },
  {
   "cell_type": "code",
   "execution_count": 4,
   "metadata": {},
   "outputs": [],
   "source": [
    "from random import randint\n",
    "\n",
    "\n",
    "def generate_seed():\n",
    "    return randint(0, 2**32)\n"
   ]
  },
  {
   "cell_type": "code",
   "execution_count": 5,
   "metadata": {},
   "outputs": [],
   "source": [
    "def generate_data_object(data_id, pos, quality_metrics, params):\n",
    "    return {\"id\": data_id, \"pos\": pos, **quality_metrics, **params}\n"
   ]
  },
  {
   "cell_type": "code",
   "execution_count": 6,
   "metadata": {},
   "outputs": [],
   "source": [
    "from config import paths\n",
    "\n",
    "EXPERIMENT_DATA_DIR = (\n",
    "    paths.get_project_root_path()\n",
    "    .joinpath(\"data\")\n",
    "    .joinpath(\"experiments\")\n",
    "    .joinpath(\"regression_analysis\")\n",
    ")\n",
    "EXPERIMENT_DATA_DIR.mkdir(exist_ok=True, parents=True)\n",
    "\n",
    "NAME_ABBREVIATIONS = {\n",
    "    \"angular_resolution\": \"ANR\",\n",
    "    \"aspect_ratio\": \"AR\",\n",
    "    \"crossing_angle\": \"CA\",\n",
    "    \"crossing_number\": \"CN\",\n",
    "    \"gabriel_graph_property\": \"GB\",\n",
    "    \"ideal_edge_lengths\": \"IE\",\n",
    "    \"node_resolution\": \"NR\",\n",
    "    \"run_time\": \"RT\",\n",
    "    \"neighborhood_preservation\": \"NP\",\n",
    "    \"stress\": \"ST\",\n",
    "}\n"
   ]
  },
  {
   "cell_type": "code",
   "execution_count": 7,
   "metadata": {},
   "outputs": [],
   "source": [
    "from utils.graph import load_nx_graph\n",
    "\n",
    "dataset_path = paths.get_dataset_path(dataset_name=DATASET_NAME)\n",
    "nx_graph = load_nx_graph(dataset_name=DATASET_NAME, edge_weight=EDGE_WEIGHT)\n"
   ]
  },
  {
   "cell_type": "code",
   "execution_count": 8,
   "metadata": {},
   "outputs": [],
   "source": [
    "from generators.graph import egraph_graph\n",
    "from egraph import warshall_floyd\n",
    "\n",
    "eg_graph, eg_indices = egraph_graph(nx_graph=nx_graph)\n",
    "eg_distance_matrix = warshall_floyd(eg_graph, lambda _: EDGE_WEIGHT)\n"
   ]
  },
  {
   "cell_type": "code",
   "execution_count": null,
   "metadata": {},
   "outputs": [],
   "source": [
    "from itertools import product\n",
    "from config.parameters import domain_ss\n",
    "\n",
    "params_steps = {\n",
    "    \"number_of_pivots\": 5,\n",
    "    \"number_of_iterations\": 10,\n",
    "    \"eps\": 0.05,\n",
    "}\n",
    "\n",
    "params_candidates = {}\n",
    "params_names = [\"number_of_pivots\", \"number_of_iterations\", \"eps\"]\n",
    "for params_name in params_names:\n",
    "    lower = domain_ss[params_name][\"l\"]\n",
    "    upper = domain_ss[params_name][\"u\"]\n",
    "\n",
    "    params_candidates[params_name] = [\n",
    "        v * params_steps[params_name] for v in list(range(1, 20 + 1))\n",
    "    ]\n",
    "\n",
    "params_list = [\n",
    "    {\n",
    "        \"number_of_pivots\": number_of_pivots,\n",
    "        \"number_of_iterations\": number_of_iterations,\n",
    "        \"eps\": eps,\n",
    "    }\n",
    "    for number_of_pivots, number_of_iterations, eps in list(\n",
    "        product(\n",
    "            *[params_candidates[params_name] for params_name in params_names]\n",
    "        )\n",
    "    )\n",
    "]\n"
   ]
  },
  {
   "cell_type": "code",
   "execution_count": null,
   "metadata": {},
   "outputs": [],
   "source": [
    "from egraph import Coordinates, Rng, SparseSgd, crossing_edges\n",
    "from utils.quality_metrics import measure_qualities\n",
    "from config.quality_metrics import ALL_QM_NAMES\n",
    "\n",
    "data = []\n",
    "for params in tqdm(params_list):\n",
    "    mean_quality_metrics = {}\n",
    "    for qm_name in ALL_QM_NAMES:\n",
    "        mean_quality_metrics[qm_name] = []\n",
    "\n",
    "    for _ in range(N_SEED):\n",
    "        eg_drawing = Coordinates.initial_placement(eg_graph)\n",
    "        seed = generate_seed()\n",
    "        rng = Rng.seed_from(seed)\n",
    "        sparse_sgd = SparseSgd(\n",
    "            eg_graph, lambda _: EDGE_WEIGHT, params[\"number_of_pivots\"], rng\n",
    "        )\n",
    "        scheduler = sparse_sgd.scheduler(\n",
    "            params[\"number_of_iterations\"], params[\"eps\"]\n",
    "        )\n",
    "\n",
    "        def step(eta):\n",
    "            sparse_sgd.shuffle(rng)\n",
    "            sparse_sgd.apply(eg_drawing, eta)\n",
    "\n",
    "        scheduler.run(step)\n",
    "\n",
    "        eg_crossings = crossing_edges(eg_graph, eg_drawing)\n",
    "        quality_metrics = measure_qualities(\n",
    "            target_qm_names=ALL_QM_NAMES,\n",
    "            eg_graph=eg_graph,\n",
    "            eg_drawing=eg_drawing,\n",
    "            eg_crossings=eg_crossings,\n",
    "            eg_distance_matrix=eg_distance_matrix,\n",
    "        )\n",
    "        quality_metrics[\"aspect_ratio\"] *= -1\n",
    "        quality_metrics[\"neighborhood_preservation\"] *= -1\n",
    "        for qm_name in ALL_QM_NAMES:\n",
    "            mean_quality_metrics[qm_name].append(quality_metrics[qm_name])\n",
    "\n",
    "        pos = {\n",
    "            u: (eg_drawing.x(i), eg_drawing.y(i))\n",
    "            for u, i in eg_indices.items()\n",
    "        }\n",
    "        data_id = generate_data_id()\n",
    "        data_object = {\n",
    "            \"data_id\": data_id,\n",
    "            \"pos\": pos,\n",
    "            **quality_metrics,\n",
    "            **params,\n",
    "        }\n",
    "        data.append(data_object)\n"
   ]
  },
  {
   "cell_type": "code",
   "execution_count": null,
   "metadata": {},
   "outputs": [],
   "source": [
    "data_export_path = EXPERIMENT_DATA_DIR.joinpath(\"grid\").joinpath(\n",
    "    f\"{DATASET_NAME}-{generate_data_id()}.pkl\"\n",
    ")\n",
    "data_export_path.parent.mkdir(parents=True, exist_ok=True)\n",
    "\n",
    "data_df = pd.DataFrame(data)\n",
    "data_df.to_pickle(data_export_path)\n"
   ]
  },
  {
   "cell_type": "code",
   "execution_count": null,
   "metadata": {},
   "outputs": [],
   "source": [
    "data_df"
   ]
  },
  {
   "cell_type": "code",
   "execution_count": null,
   "metadata": {},
   "outputs": [],
   "source": [
    "data.__sizeof__()"
   ]
  }
 ],
 "metadata": {
  "kernelspec": {
   "display_name": ".venv",
   "language": "python",
   "name": "python3"
  },
  "language_info": {
   "codemirror_mode": {
    "name": "ipython",
    "version": 3
   },
   "file_extension": ".py",
   "mimetype": "text/x-python",
   "name": "python",
   "nbconvert_exporter": "python",
   "pygments_lexer": "ipython3",
   "version": "3.11.2"
  },
  "orig_nbformat": 4
 },
 "nbformat": 4,
 "nbformat_minor": 2
}

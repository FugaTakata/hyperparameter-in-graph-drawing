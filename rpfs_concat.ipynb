{
 "cells": [
  {
   "cell_type": "code",
   "execution_count": 1,
   "metadata": {},
   "outputs": [],
   "source": [
    "dataset_name = '1138_bus'\n",
    "\n",
    "export_path = f'data/rpfs/{dataset_name}/q=all_seed=20_d=2022-11-13_00-55-33.json'\n",
    "\n",
    "\n",
    "filenames = [\n",
    "    'q=all_seed=20_d=2022-11-12_16-14-12.json',\n",
    "    'q=all_seed=20_d=2022-11-12_16-14-15.json',\n",
    "    'q=all_seed=20_d=2022-11-12_16-14-17.json',\n",
    "    'q=all_seed=20_d=2022-11-12_16-14-20.json',\n",
    "    'q=all_seed=20_d=2022-11-13_00-54-03.json',\n",
    "    'q=all_seed=20_d=2022-11-13_00-54-05.json',\n",
    "    'q=all_seed=20_d=2022-11-13_00-54-12.json',\n",
    "    'q=all_seed=20_d=2022-11-13_00-54-14.json',\n",
    "    'q=all_seed=20_d=2022-11-13_00-54-17.json',\n",
    "    'q=all_seed=20_d=2022-11-13_00-54-28.json',\n",
    "    'q=all_seed=20_d=2022-11-13_00-55-32.json'\n",
    "]\n",
    "\n",
    "paths = [f'data/rpfs/{dataset_name}/{filename}' for filename in filenames]\n"
   ]
  },
  {
   "cell_type": "code",
   "execution_count": 2,
   "metadata": {},
   "outputs": [],
   "source": [
    "import json\n",
    "\n",
    "data = []\n",
    "for path in paths:\n",
    "    with open(path) as f:\n",
    "        for row in f.readlines():\n",
    "            data.append(json.loads(row))\n",
    "with open(export_path, mode='a') as f:\n",
    "    for datum in data:\n",
    "        f.write(json.dumps(datum, ensure_ascii=False) + '\\n')\n"
   ]
  }
 ],
 "metadata": {
  "kernelspec": {
   "display_name": "Python 3.9.11 ('.venv': poetry)",
   "language": "python",
   "name": "python3"
  },
  "language_info": {
   "codemirror_mode": {
    "name": "ipython",
    "version": 3
   },
   "file_extension": ".py",
   "mimetype": "text/x-python",
   "name": "python",
   "nbconvert_exporter": "python",
   "pygments_lexer": "ipython3",
   "version": "3.9.11"
  },
  "orig_nbformat": 4,
  "vscode": {
   "interpreter": {
    "hash": "5031a1c082d374b42824ba4074361c835f9bfd3c33854874e61fd39ef2ddb484"
   }
  }
 },
 "nbformat": 4,
 "nbformat_minor": 2
}

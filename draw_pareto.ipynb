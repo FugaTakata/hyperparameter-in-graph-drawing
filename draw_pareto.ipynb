{
 "cells": [
  {
   "cell_type": "code",
   "execution_count": null,
   "metadata": {},
   "outputs": [],
   "source": [
    "import datetime\n",
    "import optuna\n",
    "import json\n",
    "\n",
    "dataset_name = '1138_bus'\n",
    "study_name = 'crossing_number,ideal_edge_length,run_time,shape_based_metrics,stress'\n",
    "\n",
    "target_qs = [\n",
    "    'angular_resolution',\n",
    "    'aspect_ratio',\n",
    "    'crossing_angle',\n",
    "    'crossing_number',\n",
    "    'gabriel_graph_property',\n",
    "    'ideal_edge_length',\n",
    "    'node_resolution',\n",
    "    'run_time',\n",
    "    'shape_based_metrics',\n",
    "    'stress'\n",
    "]\n"
   ]
  },
  {
   "cell_type": "code",
   "execution_count": null,
   "metadata": {},
   "outputs": [],
   "source": [
    "studies = []\n",
    "\n",
    "\n",
    "study = optuna.load_study(\n",
    "    study_name=study_name, storage=f'sqlite:///db/optimization/{dataset_name}/{target_q}.db')\n"
   ]
  },
  {
   "cell_type": "code",
   "execution_count": null,
   "metadata": {},
   "outputs": [],
   "source": [
    "import networkx as nx\n",
    "import matplotlib\n",
    "\n",
    "for best_trial in study.best_trials:\n",
    "    pos = best_trial.user_attrs['pos']\n"
   ]
  }
 ],
 "metadata": {
  "kernelspec": {
   "display_name": "Python 3.9.11 ('.venv': poetry)",
   "language": "python",
   "name": "python3"
  },
  "language_info": {
   "name": "python",
   "version": "3.9.11"
  },
  "orig_nbformat": 4,
  "vscode": {
   "interpreter": {
    "hash": "5031a1c082d374b42824ba4074361c835f9bfd3c33854874e61fd39ef2ddb484"
   }
  }
 },
 "nbformat": 4,
 "nbformat_minor": 2
}

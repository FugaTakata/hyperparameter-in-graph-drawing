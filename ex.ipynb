{
 "cells": [
  {
   "cell_type": "code",
   "execution_count": null,
   "metadata": {},
   "outputs": [],
   "source": [
    "from utils import generate_graph_from_nx_graph, graph_preprocessing\n",
    "import json\n",
    "import networkx as nx\n",
    "import pprint\n",
    "import matplotlib.pyplot as plt\n",
    "\n",
    "dataset_name = 'qh882'\n",
    "\n",
    "print(dataset_name)\n",
    "\n",
    "DATASET_PATH = f'lib/egraph-rs/js/dataset/{dataset_name}.json'\n",
    "\n",
    "EDGE_WEIGHT = 30\n",
    "\n",
    "\n",
    "with open(DATASET_PATH) as f:\n",
    "    graph_data = json.load(f)\n",
    "nx_graph = graph_preprocessing(nx.node_link_graph(graph_data), EDGE_WEIGHT)\n",
    "graph, indices = generate_graph_from_nx_graph(nx_graph)\n",
    "all_shortest_paths = dict(nx.all_pairs_dijkstra_path_length(nx_graph))\n"
   ]
  },
  {
   "cell_type": "code",
   "execution_count": null,
   "metadata": {},
   "outputs": [],
   "source": [
    "from utils import draw_graph\n",
    "\n",
    "params = {\n",
    "    \"edge_length\": 56,\n",
    "    \"number_of_pivots\": 917,\n",
    "    \"number_of_iterations\": 155,\n",
    "    \"eps\": 0.8459816384096752\n",
    "}\n",
    "pos = draw_graph(graph, indices, params)\n",
    "\n",
    "# 0.0 0.0\n",
    "# -7.373688220977783 6.754903793334961\n",
    "# 1.2363839149475098 -14.08798599243164\n",
    "# 10.538476943969727 13.745561599731445\n",
    "# -19.694271087646484 -3.4836318492889404"
   ]
  },
  {
   "cell_type": "code",
   "execution_count": null,
   "metadata": {},
   "outputs": [],
   "source": [
    "import time\n",
    "from utils import edge_crossing_finder\n",
    "from quality_metrics import angular_resolution, aspect_ratio, crossing_angle, crossing_number, gabriel_graph_property, ideal_edge_length, node_resolution,run_time, shape_based_metrics, stress\n",
    "import numpy as np\n",
    "\n",
    "\n",
    "def calc_qs(nx_graph, pos, all_shortest_paths, qnames, edge_weight=1):\n",
    "    start = time.time()\n",
    "    result = {}\n",
    "    edge_crossing = None\n",
    "    if 'crossing_angle' in qnames or 'crossing_number' in qnames:\n",
    "        edge_crossing = edge_crossing_finder(nx_graph, pos)\n",
    "\n",
    "    for qname in qnames:\n",
    "        if qname == 'angular_resolution':\n",
    "            result[qname] = angular_resolution.quality(nx_graph, pos)\n",
    "        elif qname == 'aspect_ratio':\n",
    "            result[qname] = aspect_ratio.quality(nx_graph, pos)\n",
    "        elif qname == 'crossing_angle':\n",
    "            result[qname] = crossing_angle.quality(\n",
    "                nx_graph, pos, edge_crossing)\n",
    "        elif qname == 'crossing_number':\n",
    "            result[qname] = crossing_number.quality(\n",
    "                nx_graph, pos, edge_crossing)\n",
    "        elif qname == 'gabriel_graph_property':\n",
    "            result[qname] = gabriel_graph_property.quality(nx_graph, pos)\n",
    "        elif qname == 'ideal_edge_length':\n",
    "            result[qname] = ideal_edge_length.quality(\n",
    "                nx_graph, pos, all_shortest_paths)\n",
    "        elif qname == 'node_resolution':\n",
    "            result[qname] = node_resolution.quality(pos)\n",
    "        elif qname == 'shape_based_metrics':\n",
    "            result[qname] = shape_based_metrics.quality(\n",
    "                nx_graph, pos, edge_weight)\n",
    "        elif qname == 'stress':\n",
    "            result[qname] = stress.quality(nx_graph, pos, all_shortest_paths)\n",
    "\n",
    "    print(time.time() - start)\n",
    "    return result"
   ]
  },
  {
   "cell_type": "code",
   "execution_count": null,
   "metadata": {},
   "outputs": [],
   "source": [
    "calc_qs(nx_graph, pos, all_shortest_paths, [\n",
    "        'angular_resolution',\n",
    "        'aspect_ratio',\n",
    "        'crossing_angle',\n",
    "        'crossing_number',\n",
    "        'gabriel_graph_property',\n",
    "        'ideal_edge_length',\n",
    "        'node_resolution',\n",
    "        'shape_based_metrics',\n",
    "        'stress'\n",
    "    ], edge_weight=EDGE_WEIGHT)"
   ]
  },
  {
   "cell_type": "code",
   "execution_count": null,
   "metadata": {},
   "outputs": [],
   "source": [
    "nx.draw(nx_graph, pos, node_size=1)\n",
    "plt.show()"
   ]
  },
  {
   "cell_type": "code",
   "execution_count": null,
   "metadata": {},
   "outputs": [],
   "source": [
    "target_opt_path = 'data/optimization/bull/q=all_n_trials=100_d=2022-11-10_14-17-37.json'\n",
    "\n",
    "# targetとなるparamsデータ取得\n",
    "with open(target_opt_path) as f:\n",
    "    opt_data = json.load(f)\n",
    "\n",
    "opt_params = []\n",
    "for best_num in opt_data['best_trial_numbers']:\n",
    "    trial = opt_data['trials'][f'{best_num}']\n",
    "    p = trial['params']\n",
    "    print(trial)"
   ]
  },
  {
   "cell_type": "code",
   "execution_count": null,
   "metadata": {},
   "outputs": [],
   "source": [
    "ds = [\n",
    "    '3elt',\n",
    "    '1138_bus',\n",
    "    'bull',\n",
    "    'chvatal',\n",
    "    'cubical',\n",
    "    'davis_southern_women',\n",
    "    'desargues',\n",
    "    'diamond',\n",
    "    'dodecahedral',\n",
    "    'dwt_1005',\n",
    "    'dwt_2680',\n",
    "    'florentine_families',\n",
    "    'frucht',\n",
    "    'heawood',\n",
    "    'hoffman_singleton',\n",
    "    'house_x',\n",
    "    'house',\n",
    "    'icosahedral',\n",
    "    'karate_club',\n",
    "    'krackhardt_kite',\n",
    "    'les_miserables',\n",
    "    'moebius_kantor',\n",
    "    'octahedral',\n",
    "    'pappus',\n",
    "    'petersen',\n",
    "    'poli',\n",
    "    'qh882',\n",
    "    'sedgewick_maze',\n",
    "    'tutte',\n",
    "    'USpowerGrid'\n",
    "]\n"
   ]
  },
  {
   "cell_type": "code",
   "execution_count": null,
   "metadata": {},
   "outputs": [],
   "source": [
    "rs = []\n",
    "\n",
    "for dataset_name in ds:\n",
    "    DATASET_PATH = f'lib/egraph-rs/js/dataset/{dataset_name}.json'\n",
    "\n",
    "    with open(DATASET_PATH) as f:\n",
    "        graph_data = json.load(f)\n",
    "    nx_graph = graph_preprocessing(nx.node_link_graph(graph_data), EDGE_WEIGHT)\n",
    "\n",
    "    # print(dataset_name, len(nx_graph.nodes), len(nx_graph.edges))\n",
    "    rs.append((dataset_name, len(nx_graph.nodes), len(nx_graph.edges)))"
   ]
  },
  {
   "cell_type": "code",
   "execution_count": null,
   "metadata": {},
   "outputs": [],
   "source": [
    "rs = sorted(rs, key=lambda x: x[1])\n",
    "# pprint.pprint(rs)\n",
    "plt.yscale(\"log\")\n",
    "plt.xscale(\"log\")\n",
    "for r in rs:\n",
    "    plt.scatter(r[1], r[2], label=r[0])\n",
    "    plt.text(r[1], r[2], r[0])\n",
    "plt.show()"
   ]
  },
  {
   "cell_type": "code",
   "execution_count": null,
   "metadata": {},
   "outputs": [],
   "source": [
    "for i in [\n",
    "    # ('diamond', 4, 5),\n",
    "    # ('bull', 5, 5),\n",
    "    # ('house_x', 5, 8),\n",
    "    # ('house', 5, 6),\n",
    "    # ('octahedral', 6, 12),\n",
    "    # ('cubical', 8, 12),\n",
    "    # ('sedgewick_maze', 8, 10),\n",
    "    # ('krackhardt_kite', 10, 18),\n",
    "    # ('petersen', 10, 15),\n",
    "    # ('chvatal', 12, 24),\n",
    "    # ('frucht', 12, 18),\n",
    "    # ('icosahedral', 12, 30),\n",
    "    # ('heawood', 14, 21),\n",
    "    # ('florentine_families', 15, 20),\n",
    "    # ('moebius_kantor', 16, 24),\n",
    "    # ('pappus', 18, 27),\n",
    "    # ('desargues', 20, 30),\n",
    "    # ('dodecahedral', 20, 30),\n",
    "    # ('davis_southern_women', 32, 89),\n",
    "    ('karate_club', 34, 78),\n",
    "    # ('tutte', 46, 69),\n",
    "    # ('hoffman_singleton', 50, 175),\n",
    "    ('les_miserables', 77, 254),\n",
    "    ('qh882', 882, 1533),\n",
    "    # ('dwt_1005', 1005, 3808),\n",
    "    # ('1138_bus', 1138, 1458),\n",
    "    # ('poli', 2343, 2667),\n",
    "    # ('dwt_2680', 2680, 11173),\n",
    "    # ('3elt', 4720, 13722),\n",
    "    # ('USpowerGrid', 4941, 6594)\n",
    "]:\n",
    "    print(i[0])"
   ]
  },
  {
   "cell_type": "code",
   "execution_count": null,
   "metadata": {},
   "outputs": [],
   "source": [
    "target_pareto_qs = 'angular_resolution,aspect_ratio'\n",
    "\n",
    "all_qnames = [\n",
    "    'angular_resolution',\n",
    "    'aspect_ratio',\n",
    "    'crossing_angle',\n",
    "    'crossing_number',\n",
    "    'gabriel_graph_property',\n",
    "    'ideal_edge_length',\n",
    "    'node_resolution',\n",
    "    'shape_based_metrics',\n",
    "    'stress'\n",
    "]\n",
    "\n",
    "target_pareto_qnames = [\n",
    "    qname for qname in all_qnames] if target_pareto_qs == 'all' else target_pareto_qs.split(',')\n",
    "\n",
    "\n",
    "# targetとなる最適化済みparamsデータ取得\n",
    "with open('data/optimization/USpowerGrid/q=all_n_trials=100_d=2022-11-10_14-17-37.json') as f:\n",
    "    opt_data = json.load(f)\n",
    "\n",
    "\n",
    "inf = float('inf')\n",
    "max_pareto_params = {\n",
    "    'angular_resolution': None,\n",
    "    'aspect_ratio': None,\n",
    "    'crossing_angle': None,\n",
    "    'crossing_number': None,\n",
    "    'gabriel_graph_property': None,\n",
    "    'ideal_edge_length': None,\n",
    "    'node_resolution': None,\n",
    "    'shape_based_metrics': None,\n",
    "    'stress': None\n",
    "}\n",
    "\n",
    "qmap = {\n",
    "    'angular_resolution': angular_resolution,\n",
    "    'aspect_ratio': aspect_ratio,\n",
    "    'crossing_angle': crossing_angle,\n",
    "    'crossing_number': crossing_number,\n",
    "    'gabriel_graph_property': gabriel_graph_property,\n",
    "    'ideal_edge_length': ideal_edge_length,\n",
    "    'node_resolution': node_resolution,\n",
    "    'shape_based_metrics': shape_based_metrics,\n",
    "    'stress': stress\n",
    "}\n",
    "m = {\n",
    "        'angular_resolution': -inf,\n",
    "        'aspect_ratio': -inf,\n",
    "        'crossing_angle':  inf,\n",
    "        'crossing_number':  inf,\n",
    "        'gabriel_graph_property': -inf,\n",
    "        'ideal_edge_length':  inf,\n",
    "        'node_resolution': -inf,\n",
    "        'shape_based_metrics': -inf,\n",
    "        'stress':  inf,\n",
    "    }\n",
    "\n",
    "opt_params = []\n",
    "seed = 0\n",
    "for best_num in opt_data['best_trial_numbers']:\n",
    "    trial = opt_data['trials'][f'{best_num}']\n",
    "    qs = trial['quality']\n",
    "    pos = trial['pos']\n",
    "    params = trial['params']\n",
    "\n",
    "    for tpq in all_qnames:\n",
    "        q = qs[tpq]\n",
    "        if qmap[tpq].direction == 'maximize':\n",
    "            if m[tpq] < q:\n",
    "                m[tpq] = q\n",
    "        elif qmap[tpq].direction == 'minimize':\n",
    "            if q < m[tpq]:\n",
    "                m[tpq] = q\n",
    "\n",
    "\n",
    "    for tpq in target_pareto_qnames:\n",
    "        q = qs[tpq]\n",
    "        if max_pareto_params[tpq] is None:\n",
    "            max_pareto_params[tpq] = {\n",
    "                    'trial_n': best_num,'params': params, 'quality': qs, 'seed': seed, 'pos': pos\n",
    "            }\n",
    "        if qmap[tpq].direction == 'maximize':\n",
    "            if max_pareto_params[tpq]['quality'][tpq] < q:\n",
    "                max_pareto_params[tpq] = {\n",
    "                    'trial_n': best_num,'params': params, 'quality': qs, 'seed': seed, 'pos': pos\n",
    "                }\n",
    "        elif qmap[tpq].direction == 'minimize':\n",
    "            if q < max_pareto_params[tpq]['quality'][tpq]:\n",
    "                max_pareto_params[tpq] = {\n",
    "                    'trial_n': best_num,'params': params, 'quality': qs, 'seed': seed, 'pos': pos\n",
    "                }\n",
    "\n",
    "pprint.pprint(m)\n",
    "{\n",
    "        \"angular_resolution\": 3.4290159314019115e-5,\n",
    "        \"aspect_ratio\": 0.8666761004741643,\n",
    "        \"crossing_angle\": 0.9986419546337182,\n",
    "        \"crossing_number\": 14474,\n",
    "        \"gabriel_graph_property\": 0.009093854475820016,\n",
    "        \"ideal_edge_length\": 2915.0515187151223,\n",
    "        \"node_resolution\": 0.0017676985543427887,\n",
    "        \"shape_based_metrics\": 0.05016736712298027,\n",
    "        \"stress\": 357446.10639993486\n",
    "}\n",
    "# for i in max_pareto_params:\n",
    "#     print(max_pareto_params[i]['trial_n'])"
   ]
  },
  {
   "cell_type": "code",
   "execution_count": null,
   "metadata": {},
   "outputs": [],
   "source": [
    "file_paths = [\n",
    "    # 'data/optimization/bull/q=stress_n_trials=100_d=2022-11-11_04-35-55.json',\n",
    "    # 'data/optimization/davis_southern_women/q=stress_n_trials=100_d=2022-11-11_04-35-59.json',\n",
    "    # 'data/optimization/diamond/q=stress_n_trials=100_d=2022-11-11_04-36-03.json',\n",
    "    # 'data/optimization/hoffman_singleton/q=stress_n_trials=100_d=2022-11-11_04-36-07.json',\n",
    "    # 'data/optimization/house_x/q=stress_n_trials=100_d=2022-11-11_04-36-12.json',\n",
    "    # 'data/optimization/les_miserables/q=stress_n_trials=100_d=2022-11-11_04-36-16.json',\n",
    "    # 'data/optimization/qh882/q=stress_n_trials=100_d=2022-11-11_04-36-22.json',\n",
    "    'data/optimization/tutte/q=stress_n_trials=100_d=2022-11-11_04-46-15.json',\n",
    "]\n"
   ]
  },
  {
   "cell_type": "code",
   "execution_count": null,
   "metadata": {},
   "outputs": [],
   "source": [
    "import json\n",
    "\n",
    "data = {}\n",
    "for path in file_paths:\n",
    "    with open(path) as f:\n",
    "        data[path] = json.load(f)\n",
    "\n",
    "opts = {}\n",
    "for path in file_paths:\n",
    "    best_num = data[path]['best_trial_numbers'][0]\n",
    "    opts[path] = data[path]['trials'][str(best_num)]\n",
    "\n",
    "\n",
    "tps = [\"number_of_pivots\", \"number_of_iterations\", \"eps\"]\n",
    "\n",
    "all = {}\n",
    "for path in file_paths:\n",
    "    all[path] = {}\n",
    "    td = data[path]['trials']\n",
    "    for trial in td:\n",
    "        all[path][trial] = td[str(trial)]"
   ]
  },
  {
   "cell_type": "code",
   "execution_count": null,
   "metadata": {},
   "outputs": [],
   "source": [
    "import matplotlib.pyplot as plt\n",
    "\n",
    "for i,tp in enumerate(tps):\n",
    "    x = []\n",
    "    y = []\n",
    "    print(tp)\n",
    "    for path in file_paths:\n",
    "        for trial in all[path]:\n",
    "            if all[path][trial]['quality']['stress'] > 1000:\n",
    "                continue\n",
    "            x.append(all[path][trial]['params'][tp])\n",
    "            y.append(all[path][trial]['quality']['stress'])\n",
    "            # plt.scatter(all[path][trial]['params'][tp], all[path][trial]['quality']['stress'])\n",
    "    plt.scatter(x, y, color='gray')\n",
    "    for path in file_paths:\n",
    "        t = opts[path]\n",
    "        for tp in tps:\n",
    "            if  t['quality']['stress'] > 1000:\n",
    "                    continue\n",
    "            plt.scatter(t['params'][tp], t['quality']['stress'])\n",
    "    plt.show()\n"
   ]
  },
  {
   "cell_type": "code",
   "execution_count": null,
   "metadata": {},
   "outputs": [],
   "source": [
    "import matplotlib.pyplot as plt\n",
    "\n",
    "\n",
    "# plt.figure(dpi=300)\n",
    "# plt.subplots_adjust(wspace=0.5, hspace=0.8)\n",
    "# for i,tp in enumerate(tps):\n",
    "#     plt.subplot(int(f'13{i+1}'))\n",
    "#     plt.scatter([tp] * len(all[tp]), all[tp], color='gray')\n",
    "#     for path in file_paths:\n",
    "#         t = opts[path]\n",
    "#         plt.scatter(tp, t['params'][tp], color='red')\n",
    "\n",
    "# plt.show()"
   ]
  },
  {
   "cell_type": "code",
   "execution_count": null,
   "metadata": {},
   "outputs": [],
   "source": [
    "points = []\n",
    "\n",
    "for i,tp in enumerate(tps):\n",
    "    p = []\n",
    "    for a in all[tp]:\n",
    "        p.append(a)\n",
    "    for path in file_paths:\n",
    "        t = opts[path]\n",
    "        # p.append(t['params'][tp])\n",
    "        plt.scatter(tp, t['params'][tp])\n",
    "    points.append(p)\n",
    "    plt.boxplot(p)\n",
    "    plt.show()"
   ]
  },
  {
   "cell_type": "code",
   "execution_count": null,
   "metadata": {},
   "outputs": [],
   "source": [
    "from quality_metrics import run_time\n",
    "import time\n",
    "rt = run_time.RunTime()\n",
    "\n",
    "rt.start()\n",
    "\n",
    "time.sleep(5)\n",
    "\n",
    "rt.end()\n",
    "\n",
    "q = rt.quality()\n",
    "print(q)"
   ]
  },
  {
   "cell_type": "code",
   "execution_count": null,
   "metadata": {},
   "outputs": [],
   "source": [
    "import optuna\n",
    "\n",
    "dataset_name = 'qh882'\n",
    "\n",
    "target_qs = [\n",
    "    'angular_resolution',\n",
    "    'aspect_ratio',\n",
    "    'crossing_angle',\n",
    "    'crossing_number',\n",
    "    'gabriel_graph_property',\n",
    "    'ideal_edge_length',\n",
    "    'node_resolution',\n",
    "    'run_time',\n",
    "    'shape_based_metrics',\n",
    "    'stress'\n",
    "]\n",
    "\n",
    "\n",
    "params = {}\n",
    "\n",
    "for target_q in target_qs:\n",
    "    study = optuna.load_study(\n",
    "        study_name=target_q, storage=f'sqlite:///db/optimization/{dataset_name}/{target_q}.db')\n",
    "    print(len(study.trials))\n",
    "\n",
    "    params[target_q] = study.best_trial.user_attrs['params']\n",
    "\n",
    "print(params)\n"
   ]
  },
  {
   "cell_type": "code",
   "execution_count": null,
   "metadata": {},
   "outputs": [],
   "source": [
    "print(df.loc[0]['user_attrs_quality_metrics'])\n",
    "print(df.loc[0])"
   ]
  },
  {
   "cell_type": "code",
   "execution_count": null,
   "metadata": {},
   "outputs": [],
   "source": [
    "import json\n",
    "\n",
    "ps = [\n",
    "'q=all_seed=20_d=2022-11-12_13-23-28.json',\n",
    "'q=all_seed=20_d=2022-11-12_13-23-30.json',\n",
    "'q=all_seed=20_d=2022-11-12_13-23-33.json',\n",
    "'q=all_seed=20_d=2022-11-12_13-23-35.json',\n",
    "'q=all_seed=20_d=2022-11-12_13-26-54.json',\n",
    "'q=all_seed=20_d=2022-11-12_13-28-39.json',\n",
    "'q=all_seed=20_d=2022-11-12_22-24-20.json',\n",
    "'q=all_seed=20_d=2022-11-12_22-24-23.json',\n",
    "'q=all_seed=20_d=2022-11-12_22-24-28.json',\n",
    "'q=all_seed=20_d=2022-11-12_22-24-34.json',\n",
    "'q=all_seed=20_d=2022-11-12_22-26-06.json',\n",
    "'q=all_seed=20_d=2022-11-12_22-26-36.json',\n",
    "'q=all_seed=20_d=2022-11-12_22-28-00.json'\n",
    "]\n",
    "\n",
    "d = []\n",
    "for p in ps:\n",
    "    with open(f'data/rpfs/qh882/{p}') as f:\n",
    "        for row in f.readlines():\n",
    "            d.append(json.loads(row))\n",
    "with open('data/rpfs/qh882/q=all_seed=20_d=2022-11-12.json', mode='a') as af:\n",
    "    for a in d:\n",
    "        af.write(json.dumps(a, ensure_ascii=False) + '\\n')"
   ]
  },
  {
   "cell_type": "code",
   "execution_count": null,
   "metadata": {},
   "outputs": [],
   "source": [
    "from quality_metrics import angular_resolution, aspect_ratio, crossing_angle, crossing_number, gabriel_graph_property, ideal_edge_length, node_resolution,run_time, shape_based_metrics, stress\n",
    "\n",
    "qmap = {\n",
    "    'angular_resolution': angular_resolution,\n",
    "    'aspect_ratio': aspect_ratio,\n",
    "    'crossing_angle': crossing_angle,\n",
    "    'crossing_number': crossing_number,\n",
    "    'gabriel_graph_property': gabriel_graph_property,\n",
    "    'ideal_edge_length': ideal_edge_length,\n",
    "    'node_resolution': node_resolution,\n",
    "    'run_time': run_time,\n",
    "    'shape_based_metrics': shape_based_metrics,\n",
    "    'stress': stress\n",
    "}\n",
    "d = {}\n",
    "for q in qmap:\n",
    "    d[q] = qmap[q].direction\n",
    "\n",
    "print(d)"
   ]
  },
  {
   "cell_type": "code",
   "execution_count": null,
   "metadata": {},
   "outputs": [],
   "source": [
    "import pandas as pd\n"
   ]
  },
  {
   "cell_type": "code",
   "execution_count": null,
   "metadata": {},
   "outputs": [],
   "source": [
    "a = pd.DataFrame([[0.1, 1, 2, '3adf', {'hello': 'nice'}]])\n",
    "b = pd.DataFrame([[0.2, 3, 4, '553adf', {'hello234': 'n43ice'}]])\n",
    "c = pd.DataFrame([[0.3, 4, 5, '34adf', {'o234': 'n43'}]])\n"
   ]
  },
  {
   "cell_type": "code",
   "execution_count": null,
   "metadata": {},
   "outputs": [],
   "source": [
    "a"
   ]
  },
  {
   "cell_type": "code",
   "execution_count": null,
   "metadata": {},
   "outputs": [],
   "source": [
    "b"
   ]
  },
  {
   "cell_type": "code",
   "execution_count": null,
   "metadata": {},
   "outputs": [],
   "source": [
    "df = pd.concat([b,a])"
   ]
  },
  {
   "cell_type": "code",
   "execution_count": null,
   "metadata": {},
   "outputs": [],
   "source": [
    "df.to_pickle('df.pkl')"
   ]
  },
  {
   "cell_type": "code",
   "execution_count": null,
   "metadata": {},
   "outputs": [],
   "source": [
    "df_from_pkl = pd.read_pickle('df.pkl')"
   ]
  },
  {
   "cell_type": "code",
   "execution_count": null,
   "metadata": {},
   "outputs": [],
   "source": [
    "df_from_pkl"
   ]
  },
  {
   "cell_type": "code",
   "execution_count": null,
   "metadata": {},
   "outputs": [],
   "source": [
    "df_concat = pd.concat([df_from_pkl, c])"
   ]
  },
  {
   "cell_type": "code",
   "execution_count": null,
   "metadata": {},
   "outputs": [],
   "source": [
    "df_concat"
   ]
  },
  {
   "cell_type": "code",
   "execution_count": null,
   "metadata": {},
   "outputs": [],
   "source": [
    "df_concat.to_pickle('df.pkl')"
   ]
  },
  {
   "cell_type": "code",
   "execution_count": null,
   "metadata": {},
   "outputs": [],
   "source": [
    "pd.read_pickle('df.pkl')\n"
   ]
  },
  {
   "cell_type": "code",
   "execution_count": null,
   "metadata": {},
   "outputs": [],
   "source": [
    "# a = pd.DataFrame(data=[[11,222,333]],columns=['a','b','cd'])\n",
    "a = pd.DataFrame(data=[{'a':12,'b':23,'cd':34}],columns=['a','b','cd'])"
   ]
  },
  {
   "cell_type": "code",
   "execution_count": null,
   "metadata": {},
   "outputs": [],
   "source": [
    "a.to_pickle('a.pkl')"
   ]
  },
  {
   "cell_type": "code",
   "execution_count": null,
   "metadata": {},
   "outputs": [],
   "source": [
    "pd.to_pickle(a, 'a.pkl')"
   ]
  },
  {
   "cell_type": "code",
   "execution_count": null,
   "metadata": {},
   "outputs": [],
   "source": [
    "pd.read_pickle('a.pkl')\n"
   ]
  },
  {
   "cell_type": "code",
   "execution_count": null,
   "metadata": {},
   "outputs": [],
   "source": [
    "b"
   ]
  },
  {
   "cell_type": "code",
   "execution_count": null,
   "metadata": {},
   "outputs": [],
   "source": [
    "a = {\n",
    "            \"result\": \"< Layout property viewLayout >\",\n",
    "            \"edge length property\": \"< Double property viewMetric >\",\n",
    "            \"node size\": \"< Size property viewSize >\",\n",
    "            \"unit edge length\": 10.0,\n",
    "            \"new initial placement\": True,\n",
    "            \"fixed iterations\": 0,\n",
    "            \"threshold\": 0.01,\n",
    "            \"page format\": \"square\",\n",
    "            \"quality vs speed\": \"beautiful and fast\",\n",
    "            \"edge length measurement\": \"bounding circle\",\n",
    "            \"allowed positions\": \"integer\",\n",
    "            \"tip over\": \"no growing row\",\n",
    "            \"presort\": \"decreasing height\",\n",
    "            \"galaxy choice\": \"non uniform lower mass\",\n",
    "            \"max iter change\": \"linearly decreasing\",\n",
    "            \"initial placement\": \"advanced\",\n",
    "            \"force model\": \"new\",\n",
    "            \"repulsive force method\": \"nmm\",\n",
    "            \"initial placement forces\": \"default\",\n",
    "            \"reduced tree construction\": \"subtree by subtree\",\n",
    "            \"smallest cell finding\": \"iteratively\",\n",
    "        }\n",
    "\n",
    "for i in a:\n",
    "    print(i)"
   ]
  },
  {
   "cell_type": "code",
   "execution_count": null,
   "metadata": {},
   "outputs": [],
   "source": [
    "def a(b,c):\n",
    "    print(b,c)"
   ]
  },
  {
   "cell_type": "code",
   "execution_count": null,
   "metadata": {},
   "outputs": [],
   "source": [
    "def a(b,c):\n",
    "    print(b,c)\n",
    "\n",
    "d = {\n",
    "    'h': 'd',\n",
    "    'k': 'j'\n",
    "}\n",
    "\n",
    "a(*d)"
   ]
  },
  {
   "cell_type": "code",
   "execution_count": null,
   "metadata": {},
   "outputs": [],
   "source": [
    "import networkx as nx\n",
    "import math\n",
    "\n",
    "g = nx.les_miserables_graph()\n",
    "initial_pos = nx.kamada_kawai_layout(g)\n",
    "seed = 0\n",
    "a = nx.spring_layout(g,\n",
    "                     k=1/math.sqrt(len(g.nodes)),\n",
    "                     pos=initial_pos,\n",
    "                     fixed=None,\n",
    "                     iterations=5000,\n",
    "                     threshold=0.0001,\n",
    "                     weight='weight',\n",
    "                     scale=None,\n",
    "                     center=None,\n",
    "                     dim=2,\n",
    "                     seed=seed)\n",
    "b = nx.spring_layout(g,\n",
    "                     k=1/math.sqrt(len(g.nodes)),\n",
    "                     pos=initial_pos,\n",
    "                     fixed=None,\n",
    "                     iterations=50,\n",
    "                     threshold=0.0001,\n",
    "                     weight='weight',\n",
    "                     scale=1,\n",
    "                     center=None,\n",
    "                     dim=2,\n",
    "                     seed=seed)\n",
    "\n",
    "for n in g.nodes:\n",
    "    print(a[n], b[n])\n",
    "\n",
    "nx.draw(g,a)\n",
    "# nx.draw(g,b)\n"
   ]
  },
  {
   "cell_type": "code",
   "execution_count": null,
   "metadata": {},
   "outputs": [],
   "source": [
    "from utils.graph import load_nx_graph\n",
    "\n",
    "dataset_name = '1138_bus'\n",
    "dataset_path = f'lib/egraph-rs/js/dataset/{dataset_name}.json'\n",
    "\n",
    "nx_graph = load_nx_graph(dataset_path=dataset_path,\n",
    "                             edge_weight=30)"
   ]
  },
  {
   "cell_type": "code",
   "execution_count": 14,
   "metadata": {},
   "outputs": [],
   "source": [
    "import pandas as pd\n",
    "df = pd.read_pickle('/Users/fuga_takata/dev/vdslab-project/hyperparameter_optimization/data/params/search/results/FM3/1138_bus.pkl')"
   ]
  },
  {
   "cell_type": "code",
   "execution_count": 19,
   "metadata": {},
   "outputs": [
    {
     "name": "stdout",
     "output_type": "stream",
     "text": [
      "[]\n",
      "0 0\n"
     ]
    }
   ],
   "source": [
    "\n",
    "import matplotlib.pyplot as plt\n",
    "import math\n",
    "\n",
    "g = 0\n",
    "p = 0\n",
    "indices = []\n",
    "# print(df)\n",
    "for ind, item in enumerate(df['quality_metrics']):\n",
    "    if math.isnan(item['angular_resolution']):\n",
    "        g += 1\n",
    "        indices.append(ind)\n",
    "\n",
    "print(indices)\n",
    "\n",
    "for ind, item in enumerate(df['pos']):\n",
    "    ids = sorted([node for node in item])\n",
    "\n",
    "    for index, s in enumerate(ids):\n",
    "        for t in ids[index + 1:]:\n",
    "            if item[s] == item[t]:\n",
    "                p += 1\n",
    "\n",
    "print(g, p)\n"
   ]
  },
  {
   "cell_type": "code",
   "execution_count": 16,
   "metadata": {},
   "outputs": [
    {
     "name": "stdout",
     "output_type": "stream",
     "text": [
      "{'angular_resolution': 0.001475188901735126, 'aspect_ratio': 0.6011029892069836, 'crossing_angle': 0.9685215882530273, 'crossing_number': 775, 'gabriel_graph_property': 0.011916743215610388, 'ideal_edge_length': 318.91060168675506, 'node_resolution': 0.04519244598981777, 'shape_based_metrics': 0.18327662536413647, 'stress': 82844.22722279305, 'run_time': 0.2577947578392923}\n",
      "{'angular_resolution': 0.0012551338597997324, 'aspect_ratio': 0.5966839023531174, 'crossing_angle': 0.9711546381302097, 'crossing_number': 765, 'gabriel_graph_property': 0.014961760349640375, 'ideal_edge_length': 309.37158310720145, 'node_resolution': 0.05983634997563079, 'shape_based_metrics': 0.18638609224620412, 'stress': 85562.02386576487, 'run_time': 0.2707905708812177}\n",
      "{'angular_resolution': 0.0002715068013449597, 'aspect_ratio': 0.6018833483596736, 'crossing_angle': 0.9844820917497985, 'crossing_number': 752, 'gabriel_graph_property': 0.011394124234426548, 'ideal_edge_length': 310.3548935494969, 'node_resolution': 0.03854663065545801, 'shape_based_metrics': 0.18904804162527714, 'stress': 88601.5047661073, 'run_time': 0.2880911829415709}\n",
      "{'angular_resolution': 9.77787075174528e-06, 'aspect_ratio': 0.6070243287445926, 'crossing_angle': 0.9663821966047214, 'crossing_number': 725, 'gabriel_graph_property': 0.014043355211353907, 'ideal_edge_length': 307.12986945961075, 'node_resolution': 0.054488872163553595, 'shape_based_metrics': 0.1863740706666888, 'stress': 89810.45800324944, 'run_time': 0.30921343015506864}\n",
      "{'angular_resolution': 0.0009872635520042819, 'aspect_ratio': 0.6102944308420674, 'crossing_angle': 0.9625689583395103, 'crossing_number': 714, 'gabriel_graph_property': 0.018139586122891085, 'ideal_edge_length': 304.3178762424145, 'node_resolution': 0.05077835255001509, 'shape_based_metrics': 0.18858949051287807, 'stress': 91378.33423955552, 'run_time': 0.32860888401046395}\n",
      "{'angular_resolution': 2.336534439892821e-05, 'aspect_ratio': 0.6091144613171826, 'crossing_angle': 0.9691905117771906, 'crossing_number': 622, 'gabriel_graph_property': 0.0036802179411183013, 'ideal_edge_length': 299.32513782626495, 'node_resolution': 0.07485116393745649, 'shape_based_metrics': 0.19330641402775103, 'stress': 92022.93732091339, 'run_time': 0.37094426713883877}\n",
      "{'angular_resolution': 0.00026614094276005757, 'aspect_ratio': 0.6240686641133038, 'crossing_angle': 0.9633146178666613, 'crossing_number': 626, 'gabriel_graph_property': 0.03017406210683366, 'ideal_edge_length': 300.89345391181547, 'node_resolution': 0.07129030201250207, 'shape_based_metrics': 0.1962919598464405, 'stress': 93028.62244665375, 'run_time': 0.4060701918788254}\n",
      "{'angular_resolution': 0.0007346759532395785, 'aspect_ratio': 0.6177616720401293, 'crossing_angle': 0.9555573957940643, 'crossing_number': 606, 'gabriel_graph_property': 0.01373664243840134, 'ideal_edge_length': 294.8978110760463, 'node_resolution': 0.07582612829179422, 'shape_based_metrics': 0.19803528742068943, 'stress': 92300.17880694084, 'run_time': 0.45443449215963483}\n",
      "{'angular_resolution': 0.0005279415495573565, 'aspect_ratio': 0.6198240137377765, 'crossing_angle': 0.9889801545668975, 'crossing_number': 613, 'gabriel_graph_property': 0.02464831643465297, 'ideal_edge_length': 292.6201035905068, 'node_resolution': 0.05575072008124117, 'shape_based_metrics': 0.1981085869846697, 'stress': 92539.1275921886, 'run_time': 0.4997474509291351}\n",
      "{'angular_resolution': 0.0005083686744995782, 'aspect_ratio': 0.6211736026366087, 'crossing_angle': 0.9657331767078261, 'crossing_number': 629, 'gabriel_graph_property': 0.03530547955544392, 'ideal_edge_length': 288.6064221473597, 'node_resolution': 0.05746046562033635, 'shape_based_metrics': 0.19698212717764485, 'stress': 91937.54125588344, 'run_time': 0.532937748124823}\n",
      "{'angular_resolution': 0.0011123058200971042, 'aspect_ratio': 0.6152596508706476, 'crossing_angle': 0.9532775551029239, 'crossing_number': 634, 'gabriel_graph_property': 0.02473544774337629, 'ideal_edge_length': 285.7101239003286, 'node_resolution': 0.06580282605448876, 'shape_based_metrics': 0.1945397491665039, 'stress': 92853.05368626451, 'run_time': 0.6158370820339769}\n",
      "{'angular_resolution': 0.00018233784427589228, 'aspect_ratio': 0.612046166672038, 'crossing_angle': 0.9780246671471636, 'crossing_number': 622, 'gabriel_graph_property': 0.011685954197021717, 'ideal_edge_length': 284.19821753480437, 'node_resolution': 0.06682601993086015, 'shape_based_metrics': 0.1947426547846116, 'stress': 93076.29313674952, 'run_time': 0.7001387081108987}\n",
      "{'angular_resolution': 0.00012859745225064488, 'aspect_ratio': 0.6067849258793193, 'crossing_angle': 0.9683382056664539, 'crossing_number': 638, 'gabriel_graph_property': 0.017888725907963036, 'ideal_edge_length': 283.56600426321256, 'node_resolution': 0.03357500341235958, 'shape_based_metrics': 0.19493403427097664, 'stress': 93868.86118824869, 'run_time': 0.7777655278332531}\n",
      "{'angular_resolution': 0.0014111283949403894, 'aspect_ratio': 0.6101577553511842, 'crossing_angle': 0.9719535044662762, 'crossing_number': 610, 'gabriel_graph_property': 0.02812055972535419, 'ideal_edge_length': 279.0705902699684, 'node_resolution': 0.08003081320735171, 'shape_based_metrics': 0.19597813846043388, 'stress': 92480.09020867503, 'run_time': 0.8588380650617182}\n",
      "{'angular_resolution': 0.0002545048607862044, 'aspect_ratio': 0.6090797960714066, 'crossing_angle': 0.987092544964643, 'crossing_number': 615, 'gabriel_graph_property': 0.03438635686246254, 'ideal_edge_length': 278.46052749534533, 'node_resolution': 0.0814568929558709, 'shape_based_metrics': 0.19529621906840436, 'stress': 93113.00621097484, 'run_time': 0.9436169920954853}\n",
      "{'angular_resolution': 0.0013914723098992579, 'aspect_ratio': 0.6062252582524265, 'crossing_angle': 0.972412671313359, 'crossing_number': 586, 'gabriel_graph_property': 0.007419685756944987, 'ideal_edge_length': 272.2806303333859, 'node_resolution': 0.03505467467434015, 'shape_based_metrics': 0.20149003075447736, 'stress': 91194.34299383737, 'run_time': 1.360777840949595}\n",
      "{'angular_resolution': 0.0005853756434287356, 'aspect_ratio': 0.6089876022784977, 'crossing_angle': 0.9817155386008212, 'crossing_number': 584, 'gabriel_graph_property': 0.0011724030767464523, 'ideal_edge_length': 263.69043411624943, 'node_resolution': 0.0664041044825558, 'shape_based_metrics': 0.1982611684596174, 'stress': 87852.06798447481, 'run_time': 1.7716566089075059}\n",
      "{'angular_resolution': 0.000214542046095916, 'aspect_ratio': 0.615948772112509, 'crossing_angle': 0.966488388751445, 'crossing_number': 575, 'gabriel_graph_property': 0.0026304152794520167, 'ideal_edge_length': 257.7451554004524, 'node_resolution': 0.05984685701879368, 'shape_based_metrics': 0.20067756090641878, 'stress': 84672.46614879066, 'run_time': 2.1240382108371705}\n",
      "{'angular_resolution': 0.00042068107879597436, 'aspect_ratio': 0.6231682590061353, 'crossing_angle': 0.9665502885142662, 'crossing_number': 581, 'gabriel_graph_property': 0.0026007283226422264, 'ideal_edge_length': 252.09279730330854, 'node_resolution': 0.06232722411795, 'shape_based_metrics': 0.2002551752467746, 'stress': 82058.17987074077, 'run_time': 2.4971055269706994}\n",
      "{'angular_resolution': 9.50767912169808e-05, 'aspect_ratio': 0.6312954326760769, 'crossing_angle': 0.9534062750209783, 'crossing_number': 573, 'gabriel_graph_property': 0.025852864034439642, 'ideal_edge_length': 248.73610195793228, 'node_resolution': 0.05586441750753691, 'shape_based_metrics': 0.20047048948501367, 'stress': 79991.59637522142, 'run_time': 2.686504503013566}\n",
      "{'angular_resolution': 6.213058302825231e-05, 'aspect_ratio': 0.6383875812635689, 'crossing_angle': 0.9497044583474966, 'crossing_number': 576, 'gabriel_graph_property': 0.017461886036860934, 'ideal_edge_length': 246.6158198137033, 'node_resolution': 0.041088740025976546, 'shape_based_metrics': 0.20130959826956324, 'stress': 78661.35699154099, 'run_time': 2.8452972029335797}\n",
      "{'angular_resolution': 0.00020713008676976895, 'aspect_ratio': 0.6438807289836386, 'crossing_angle': 0.9770589493263693, 'crossing_number': 581, 'gabriel_graph_property': 0.009072530351348486, 'ideal_edge_length': 244.11287124969252, 'node_resolution': 0.044155993278814094, 'shape_based_metrics': 0.2012625305159928, 'stress': 77256.19217662666, 'run_time': 3.0772157220635563}\n",
      "{'angular_resolution': 0.00014789768350657564, 'aspect_ratio': 0.6492204071622042, 'crossing_angle': 0.9654710564406112, 'crossing_number': 584, 'gabriel_graph_property': 0.007904825892906243, 'ideal_edge_length': 242.56156882361117, 'node_resolution': 0.06780252977180665, 'shape_based_metrics': 0.2002335043771248, 'stress': 76330.82307965009, 'run_time': 3.2133241870906204}\n",
      "{'angular_resolution': 0.0002256718896592411, 'aspect_ratio': 0.6339248159530817, 'crossing_angle': 0.9368895895610073, 'crossing_number': 587, 'gabriel_graph_property': 0.00744855476725773, 'ideal_edge_length': 240.10024968719296, 'node_resolution': 0.08432812688209874, 'shape_based_metrics': 0.20077068931677014, 'stress': 74978.44025114199, 'run_time': 3.551016349112615}\n",
      "{'angular_resolution': 9.065043482007953e-05, 'aspect_ratio': 0.6396045098451806, 'crossing_angle': 0.9379199086554205, 'crossing_number': 594, 'gabriel_graph_property': 0.0028567170218555867, 'ideal_edge_length': 238.8259588046413, 'node_resolution': 0.05765493933513723, 'shape_based_metrics': 0.20004682082049388, 'stress': 74233.1892572995, 'run_time': 3.923950473079458}\n",
      "{'angular_resolution': 0.0006563998878949838, 'aspect_ratio': 0.6435121022543895, 'crossing_angle': 0.9400640862494867, 'crossing_number': 607, 'gabriel_graph_property': 0.010059018076109235, 'ideal_edge_length': 237.5089800942748, 'node_resolution': 0.0995724909255109, 'shape_based_metrics': 0.19821822323179095, 'stress': 73712.2822235495, 'run_time': 4.281123419990763}\n",
      "{'angular_resolution': 0.00013351543766765243, 'aspect_ratio': 0.6461227587266504, 'crossing_angle': 0.9293829808556953, 'crossing_number': 564, 'gabriel_graph_property': 0.009062474810838416, 'ideal_edge_length': 239.29895415780612, 'node_resolution': 0.0993305843957479, 'shape_based_metrics': 0.20238902070223694, 'stress': 73954.1296610468, 'run_time': 4.661736308131367}\n",
      "{'angular_resolution': 0.0007320143878286573, 'aspect_ratio': 0.6479226036773076, 'crossing_angle': 0.9256222476445526, 'crossing_number': 566, 'gabriel_graph_property': 0.012826961590644736, 'ideal_edge_length': 238.76059356564588, 'node_resolution': 0.09989484025369598, 'shape_based_metrics': 0.20254606440058118, 'stress': 73725.3239870604, 'run_time': 5.027610643999651}\n",
      "{'angular_resolution': 0.00018467170265918818, 'aspect_ratio': 0.6094688336722069, 'crossing_angle': 0.9501690011675857, 'crossing_number': 605, 'gabriel_graph_property': 0.014885525714585084, 'ideal_edge_length': 279.2654389012457, 'node_resolution': 0.07008536556139497, 'shape_based_metrics': 0.19846803748626846, 'stress': 93218.82260858218, 'run_time': 0.9452732359059155}\n",
      "{'angular_resolution': 5.9441583044924964e-05, 'aspect_ratio': 0.6089909032959068, 'crossing_angle': 0.9781806193253181, 'crossing_number': 621, 'gabriel_graph_property': 0.022896535744056146, 'ideal_edge_length': 278.71408365844, 'node_resolution': 0.06698676590371218, 'shape_based_metrics': 0.19325826239512262, 'stress': 93069.90879691378, 'run_time': 0.9418627400882542}\n",
      "{'angular_resolution': 0.00013029719665438595, 'aspect_ratio': 0.6111177286031038, 'crossing_angle': 0.9944305846105064, 'crossing_number': 608, 'gabriel_graph_property': 0.012052979892098059, 'ideal_edge_length': 279.42928161719976, 'node_resolution': 0.08156865057856154, 'shape_based_metrics': 0.19707952168650483, 'stress': 93179.37241434465, 'run_time': 0.9408729048445821}\n",
      "{'angular_resolution': 0.0002465748954753219, 'aspect_ratio': 0.60761640631348, 'crossing_angle': 0.9525859380154571, 'crossing_number': 612, 'gabriel_graph_property': 0.016562745882391143, 'ideal_edge_length': 277.64039066534014, 'node_resolution': 0.07735161740983199, 'shape_based_metrics': 0.19650796805053425, 'stress': 92569.63736339347, 'run_time': 0.962324065156281}\n",
      "{'angular_resolution': 0.0002343822960275551, 'aspect_ratio': 0.60492234378485, 'crossing_angle': 0.9541859411788653, 'crossing_number': 610, 'gabriel_graph_property': 0.036707480843553374, 'ideal_edge_length': 279.12810346929706, 'node_resolution': 0.07387229759163506, 'shape_based_metrics': 0.1971966588754289, 'stress': 93109.61244855022, 'run_time': 0.951460134005174}\n",
      "{'angular_resolution': 8.148777855428975e-05, 'aspect_ratio': 0.6076690404628446, 'crossing_angle': 0.9660800241560215, 'crossing_number': 618, 'gabriel_graph_property': 0.03324687167410973, 'ideal_edge_length': 277.6274362185875, 'node_resolution': 0.0801769399527108, 'shape_based_metrics': 0.19531425110549905, 'stress': 92730.31462239318, 'run_time': 0.955952974036336}\n",
      "{'angular_resolution': 0.0003400321979582556, 'aspect_ratio': 0.6082194381331739, 'crossing_angle': 0.9628411596230263, 'crossing_number': 610, 'gabriel_graph_property': 0.02434887303973297, 'ideal_edge_length': 278.9953018017847, 'node_resolution': 0.07640643254683892, 'shape_based_metrics': 0.19644202637650818, 'stress': 92844.98889483037, 'run_time': 0.951025553047657}\n",
      "{'angular_resolution': 0.0001088684807137607, 'aspect_ratio': 0.6107520354933627, 'crossing_angle': 0.9546712746888248, 'crossing_number': 613, 'gabriel_graph_property': 0.026172018528116542, 'ideal_edge_length': 278.8112360134862, 'node_resolution': 0.07951526638828219, 'shape_based_metrics': 0.19736904860169097, 'stress': 92964.03035564744, 'run_time': 0.9517679351847619}\n",
      "{'angular_resolution': 0.0001497893472507446, 'aspect_ratio': 0.606494401406853, 'crossing_angle': 0.9502332234797262, 'crossing_number': 612, 'gabriel_graph_property': 0.01376395061085946, 'ideal_edge_length': 279.0886249912104, 'node_resolution': 0.07751254290635201, 'shape_based_metrics': 0.19747304780498703, 'stress': 93330.31760302518, 'run_time': 0.9480132560711354}\n",
      "{'angular_resolution': 0.0002545048607862044, 'aspect_ratio': 0.6090797960714066, 'crossing_angle': 0.987092544964643, 'crossing_number': 615, 'gabriel_graph_property': 0.03438635686246254, 'ideal_edge_length': 278.46052749534533, 'node_resolution': 0.0814568929558709, 'shape_based_metrics': 0.19529621906840436, 'stress': 93113.00621097484, 'run_time': 0.9442942859604955}\n",
      "{'angular_resolution': 0.00018620226959687613, 'aspect_ratio': 0.6083384912350641, 'crossing_angle': 0.9615364897137385, 'crossing_number': 615, 'gabriel_graph_property': 0.03923180154534839, 'ideal_edge_length': 277.79906486042916, 'node_resolution': 0.07547310971275269, 'shape_based_metrics': 0.1973044865096186, 'stress': 92721.30060004629, 'run_time': 0.9351430451497436}\n",
      "{'angular_resolution': 0.0002834142606233607, 'aspect_ratio': 0.6081508121736915, 'crossing_angle': 0.9531096729168013, 'crossing_number': 604, 'gabriel_graph_property': 0.02802577508835106, 'ideal_edge_length': 279.5125752287483, 'node_resolution': 0.05166829790313064, 'shape_based_metrics': 0.19816043343322798, 'stress': 93216.38837376451, 'run_time': 0.9530432589817792}\n",
      "{'angular_resolution': 0.0007555647238536492, 'aspect_ratio': 0.6090721553498851, 'crossing_angle': 0.9576211063518035, 'crossing_number': 619, 'gabriel_graph_property': 0.03433748627620677, 'ideal_edge_length': 278.05212266403544, 'node_resolution': 0.07224089343475125, 'shape_based_metrics': 0.19461208030227384, 'stress': 92744.1898752321, 'run_time': 0.9577439019922167}\n",
      "{'angular_resolution': 0.0002722631757757297, 'aspect_ratio': 0.6059897930982938, 'crossing_angle': 0.9542601553946949, 'crossing_number': 607, 'gabriel_graph_property': 0.03317282755419992, 'ideal_edge_length': 279.654449988508, 'node_resolution': 0.08078697808167, 'shape_based_metrics': 0.19829819171009577, 'stress': 93279.72325493908, 'run_time': 0.9434352340176702}\n",
      "{'angular_resolution': 0.00044538187557243553, 'aspect_ratio': 0.6063444144332345, 'crossing_angle': 0.996054551201202, 'crossing_number': 609, 'gabriel_graph_property': 0.02941642346350174, 'ideal_edge_length': 279.48264296416687, 'node_resolution': 0.06996978096755742, 'shape_based_metrics': 0.19900242329491205, 'stress': 93291.82139150113, 'run_time': 0.9459079471416771}\n",
      "{'angular_resolution': 1.7120717171634534e-05, 'aspect_ratio': 0.6107484642003189, 'crossing_angle': 0.9702403096472874, 'crossing_number': 602, 'gabriel_graph_property': 0.03166254827257084, 'ideal_edge_length': 280.6473446188562, 'node_resolution': 0.07429612862541245, 'shape_based_metrics': 0.1991810181201628, 'stress': 93413.70149401335, 'run_time': 0.945690848166123}\n",
      "{'angular_resolution': 0.00020834237478036273, 'aspect_ratio': 0.6065002494335393, 'crossing_angle': 0.9605390771085719, 'crossing_number': 615, 'gabriel_graph_property': 0.02910758374779873, 'ideal_edge_length': 279.15093454625105, 'node_resolution': 0.07750453653433943, 'shape_based_metrics': 0.19552515435885084, 'stress': 93094.30275593202, 'run_time': 0.947177937021479}\n",
      "{'angular_resolution': 0.0001960263255135682, 'aspect_ratio': 0.6091345561291448, 'crossing_angle': 0.9562410175272433, 'crossing_number': 601, 'gabriel_graph_property': 0.020906885150724478, 'ideal_edge_length': 280.1542072181549, 'node_resolution': 0.07225300632292057, 'shape_based_metrics': 0.19624726714159652, 'stress': 93311.62369029595, 'run_time': 0.938881064997986}\n",
      "{'angular_resolution': 4.513376999951022e-05, 'aspect_ratio': 0.6080445986812069, 'crossing_angle': 0.9882905423923523, 'crossing_number': 619, 'gabriel_graph_property': 0.029941943948666932, 'ideal_edge_length': 280.36403929929213, 'node_resolution': 0.07576358253529648, 'shape_based_metrics': 0.19954105425972923, 'stress': 93580.55678288596, 'run_time': 0.9509066150058061}\n",
      "{'angular_resolution': 0.0016532337508251601, 'aspect_ratio': 0.6125440957590391, 'crossing_angle': 0.9845116363004777, 'crossing_number': 609, 'gabriel_graph_property': 0.03219509604614658, 'ideal_edge_length': 278.115275666542, 'node_resolution': 0.08067562098944267, 'shape_based_metrics': 0.1928001479651277, 'stress': 92781.15194156345, 'run_time': 0.900317455874756}\n",
      "{'angular_resolution': 6.47148932548707e-06, 'aspect_ratio': 0.5864644477150229, 'crossing_angle': 0.9761803916601277, 'crossing_number': 618, 'gabriel_graph_property': 0.01582102777536535, 'ideal_edge_length': 282.69285348509385, 'node_resolution': 0.047830116134561326, 'shape_based_metrics': 0.1954379956311873, 'stress': 94486.04699220236, 'run_time': 0.7952372368890792}\n",
      "{'angular_resolution': 0.0003172559818657945, 'aspect_ratio': 0.5905981817698112, 'crossing_angle': 0.96122383473763, 'crossing_number': 637, 'gabriel_graph_property': 0.02838841492428253, 'ideal_edge_length': 282.7728405548073, 'node_resolution': 0.07517196109734624, 'shape_based_metrics': 0.19398251617297926, 'stress': 94662.26320251607, 'run_time': 0.7617872429545969}\n",
      "{'angular_resolution': 0.00014180981669893985, 'aspect_ratio': 0.596136735115142, 'crossing_angle': 0.9641176350481346, 'crossing_number': 612, 'gabriel_graph_property': 0.009572714295478964, 'ideal_edge_length': 284.0467980083809, 'node_resolution': 0.0709285302546067, 'shape_based_metrics': 0.19640396457421655, 'stress': 95225.62247028395, 'run_time': 0.7448423409368843}\n",
      "{'angular_resolution': 0.0007423896871215763, 'aspect_ratio': 0.5947575210809284, 'crossing_angle': 0.9741603970731659, 'crossing_number': 619, 'gabriel_graph_property': 0.027420289024749273, 'ideal_edge_length': 284.8346281131849, 'node_resolution': 0.07265859861747855, 'shape_based_metrics': 0.19622272398621432, 'stress': 95281.33604098287, 'run_time': 0.7220709009561688}\n",
      "{'angular_resolution': 7.761824962137954e-05, 'aspect_ratio': 0.5804817557860554, 'crossing_angle': 0.9513040635790971, 'crossing_number': 601, 'gabriel_graph_property': 0.018248517675476892, 'ideal_edge_length': 284.5402089447884, 'node_resolution': 0.043348073904270784, 'shape_based_metrics': 0.19816033075992226, 'stress': 95405.77579066, 'run_time': 0.6986536979675293}\n",
      "{'angular_resolution': 0.0008479605819603288, 'aspect_ratio': 0.5951980617321149, 'crossing_angle': 0.9849815622292148, 'crossing_number': 625, 'gabriel_graph_property': 0.008794921236200091, 'ideal_edge_length': 284.4751859657965, 'node_resolution': 0.07900264280129633, 'shape_based_metrics': 0.1991118381300691, 'stress': 95157.24753142893, 'run_time': 0.6900692759081721}\n",
      "{'angular_resolution': 0.002340613670170171, 'aspect_ratio': 0.5899897662861875, 'crossing_angle': 0.9595926465720879, 'crossing_number': 608, 'gabriel_graph_property': 0.006212509172610659, 'ideal_edge_length': 285.9005766344583, 'node_resolution': 0.05953011245988367, 'shape_based_metrics': 0.2010322692903949, 'stress': 95733.93255591921, 'run_time': 0.6810263590887189}\n",
      "{'angular_resolution': 0.0002446666579391841, 'aspect_ratio': 0.5918191630718314, 'crossing_angle': 0.967186988814533, 'crossing_number': 613, 'gabriel_graph_property': 0.010902490716446554, 'ideal_edge_length': 286.415095093245, 'node_resolution': 0.04154358873076649, 'shape_based_metrics': 0.20254834987062312, 'stress': 95841.47954337698, 'run_time': 0.6618454700801522}\n",
      "{'angular_resolution': 0.0002453098929073521, 'aspect_ratio': 0.6067917051380078, 'crossing_angle': 0.9870934168950887, 'crossing_number': 615, 'gabriel_graph_property': 0.0343862311930187, 'ideal_edge_length': 278.46052801560666, 'node_resolution': 0.0814557595857876, 'shape_based_metrics': 0.19529621906840436, 'stress': 93113.00802033624, 'run_time': 0.9541395909618586}\n",
      "{'angular_resolution': 0.0002451705014131048, 'aspect_ratio': 0.606791727017438, 'crossing_angle': 0.9870934588957042, 'crossing_number': 615, 'gabriel_graph_property': 0.034387596855091844, 'ideal_edge_length': 278.46053092840185, 'node_resolution': 0.08145575923924213, 'shape_based_metrics': 0.19529621906840436, 'stress': 93113.00779394338, 'run_time': 0.960983628872782}\n",
      "{'angular_resolution': 0.0002545048607862044, 'aspect_ratio': 0.6090797960714066, 'crossing_angle': 0.987092544964643, 'crossing_number': 615, 'gabriel_graph_property': 0.03438635686246254, 'ideal_edge_length': 278.46052749534533, 'node_resolution': 0.0814568929558709, 'shape_based_metrics': 0.19529621906840436, 'stress': 93113.00621097484, 'run_time': 0.9530226299539208}\n"
     ]
    }
   ],
   "source": [
    "for i in df['quality_metrics']:\n",
    "    print(i)"
   ]
  }
 ],
 "metadata": {
  "kernelspec": {
   "display_name": "hyperparameter_optimization",
   "language": "python",
   "name": "hyperparameter_optimization"
  },
  "language_info": {
   "codemirror_mode": {
    "name": "ipython",
    "version": 3
   },
   "file_extension": ".py",
   "mimetype": "text/x-python",
   "name": "python",
   "nbconvert_exporter": "python",
   "pygments_lexer": "ipython3",
   "version": "3.9.11"
  },
  "orig_nbformat": 4,
  "vscode": {
   "interpreter": {
    "hash": "ee7ab43ec383143e647fadf1deb6ec4fe29a47d56c02a13b833fd67d4c2739b9"
   }
  }
 },
 "nbformat": 4,
 "nbformat_minor": 2
}

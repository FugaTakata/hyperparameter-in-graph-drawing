{
 "cells": [
  {
   "cell_type": "code",
   "execution_count": 49,
   "metadata": {},
   "outputs": [],
   "source": [
    "ALL_QUALITY_METRICS_NAMES = [\n",
    "    \"angular_resolution\",\n",
    "    \"aspect_ratio\",\n",
    "    \"crossing_angle\",\n",
    "    \"crossing_number\",\n",
    "    \"gabriel_graph_property\",\n",
    "    \"ideal_edge_length\",\n",
    "    \"node_resolution\",\n",
    "    \"run_time\",\n",
    "    \"shape_based_metrics\",\n",
    "    \"stress\",\n",
    "]\n",
    "\n",
    "d = \"1138_bus\"\n",
    "l = \"FR\"\n"
   ]
  },
  {
   "cell_type": "code",
   "execution_count": 50,
   "metadata": {},
   "outputs": [
    {
     "name": "stdout",
     "output_type": "stream",
     "text": [
      "#!/bin/sh\n",
      "\n",
      "poetry run python -u g_rpfs.py -d 1138_bus -p 5 -s 50 -l SS && \\\n",
      "say hello\n"
     ]
    }
   ],
   "source": [
    "# rpfs\n",
    "\n",
    "p = 5\n",
    "s = 50\n",
    "\n",
    "print(\"#!/bin/sh\")\n",
    "print(\"\")\n",
    "\n",
    "\n",
    "print(f'poetry run python -u g_rpfs.py -d {d} -p {p} -s {s} -l {l} && \\\\')\n",
    "\n",
    "# print(f'../send_discord.sh done')\n",
    "print('say hello')"
   ]
  },
  {
   "cell_type": "code",
   "execution_count": 51,
   "metadata": {},
   "outputs": [
    {
     "name": "stdout",
     "output_type": "stream",
     "text": [
      "#!/bin/sh\n",
      "\n",
      "poetry run python -u g_opfs.py -d 1138_bus --seed-from 0 --seed-to 49 -l SS -t angular_resolution && \\\n",
      "poetry run python -u g_opfs.py -d 1138_bus --seed-from 0 --seed-to 49 -l SS -t aspect_ratio && \\\n",
      "say finished\n",
      "\n",
      "#!/bin/sh\n",
      "\n",
      "poetry run python -u g_opfs.py -d 1138_bus --seed-from 0 --seed-to 49 -l SS -t crossing_angle && \\\n",
      "poetry run python -u g_opfs.py -d 1138_bus --seed-from 0 --seed-to 49 -l SS -t crossing_number && \\\n",
      "say finished\n",
      "\n",
      "#!/bin/sh\n",
      "\n",
      "poetry run python -u g_opfs.py -d 1138_bus --seed-from 0 --seed-to 49 -l SS -t gabriel_graph_property && \\\n",
      "poetry run python -u g_opfs.py -d 1138_bus --seed-from 0 --seed-to 49 -l SS -t ideal_edge_length && \\\n",
      "poetry run python -u g_opfs.py -d 1138_bus --seed-from 0 --seed-to 49 -l SS -t node_resolution && \\\n",
      "say finished\n",
      "\n",
      "#!/bin/sh\n",
      "\n",
      "poetry run python -u g_opfs.py -d 1138_bus --seed-from 0 --seed-to 49 -l SS -t run_time && \\\n",
      "poetry run python -u g_opfs.py -d 1138_bus --seed-from 0 --seed-to 49 -l SS -t shape_based_metrics && \\\n",
      "poetry run python -u g_opfs.py -d 1138_bus --seed-from 0 --seed-to 49 -l SS -t stress && \\\n",
      "say finished\n",
      "\n"
     ]
    }
   ],
   "source": [
    "# opfs\n",
    "\n",
    "groups = [\n",
    "    [\"angular_resolution\", \"aspect_ratio\"],\n",
    "    [\"crossing_angle\", \"crossing_number\"],\n",
    "    [\"gabriel_graph_property\", \"ideal_edge_length\", \"node_resolution\"],\n",
    "    [\"run_time\", \"shape_based_metrics\", \"stress\"],\n",
    "]\n",
    "\n",
    "for g in groups:\n",
    "    print(\"#!/bin/sh\")\n",
    "    print(\"\")\n",
    "\n",
    "    for t in g:\n",
    "        print(\n",
    "            f\"poetry run python -u g_opfs.py -d {d} --seed-from 0 --seed-to 49 -l {l} -t {t} && \\\\\"\n",
    "        )\n",
    "\n",
    "    # print(f'../send_discord.sh done')\n",
    "    print(\"say finished\")\n",
    "    print('')"
   ]
  },
  {
   "cell_type": "code",
   "execution_count": 52,
   "metadata": {},
   "outputs": [
    {
     "name": "stdout",
     "output_type": "stream",
     "text": [
      "#!/bin/sh\n",
      "\n",
      "poetry run python -u optimization.py -d 1138_bus -n 25 -l SS -t angular_resolution && \\\n",
      "poetry run python -u optimization.py -d 1138_bus -n 25 -l SS -t aspect_ratio && \\\n",
      "poetry run python -u optimization.py -d 1138_bus -n 25 -l SS -t crossing_angle && \\\n",
      "poetry run python -u optimization.py -d 1138_bus -n 25 -l SS -t crossing_number && \\\n",
      "poetry run python -u optimization.py -d 1138_bus -n 25 -l SS -t gabriel_graph_property && \\\n",
      "poetry run python -u optimization.py -d 1138_bus -n 25 -l SS -t ideal_edge_length && \\\n",
      "poetry run python -u optimization.py -d 1138_bus -n 25 -l SS -t node_resolution && \\\n",
      "poetry run python -u optimization.py -d 1138_bus -n 25 -l SS -t run_time && \\\n",
      "poetry run python -u optimization.py -d 1138_bus -n 25 -l SS -t shape_based_metrics && \\\n",
      "poetry run python -u optimization.py -d 1138_bus -n 25 -l SS -t stress && \\\n",
      "say finished\n"
     ]
    }
   ],
   "source": [
    "# optimization\n",
    "\n",
    "n = 25\n",
    "\n",
    "print(\"#!/bin/sh\")\n",
    "print(\"\")\n",
    "\n",
    "for t in ALL_QUALITY_METRICS_NAMES:\n",
    "    print(f'poetry run python -u optimization.py -d {d} -n {n} -l {l} -t {t} && \\\\')\n",
    "\n",
    "# print(f'../send_discord.sh done')\n",
    "# print(f'../send_discord.sh local_done')\n",
    "print('say finished')\n"
   ]
  },
  {
   "cell_type": "code",
   "execution_count": 53,
   "metadata": {},
   "outputs": [
    {
     "name": "stdout",
     "output_type": "stream",
     "text": [
      "#!/bin/sh\n",
      "poetry run python -u re_runtime.py -d 1138_bus -f data/n_rpfs/SS/1138_bus/local/2023-01-12_15-59-32.pkl -l SS && \\\n",
      "../send_discord.sh done\n",
      "#!/bin/sh\n",
      "poetry run python -u re_runtime.py -d 1138_bus -f data/n_rpfs/SS/1138_bus/local/2023-01-12_16-05-07.pkl -l SS && \\\n",
      "../send_discord.sh done\n",
      "#!/bin/sh\n",
      "poetry run python -u re_runtime.py -d 1138_bus -f data/n_rpfs/SS/1138_bus/local/2023-01-12_16-05-13.pkl -l SS && \\\n",
      "../send_discord.sh done\n",
      "#!/bin/sh\n",
      "poetry run python -u re_runtime.py -d 1138_bus -f data/n_rpfs/SS/1138_bus/local/2023-01-12_16-08-22.pkl -l SS && \\\n",
      "../send_discord.sh done\n"
     ]
    }
   ],
   "source": [
    "a = [\n",
    "'2023-01-12_15-59-32.pkl',\n",
    "'2023-01-12_16-05-07.pkl',\n",
    "'2023-01-12_16-05-13.pkl',\n",
    "'2023-01-12_16-08-22.pkl',\n",
    "]\n",
    "\n",
    "for i in range(4):\n",
    "    print(\"#!/bin/sh\")\n",
    "    print(f'poetry run python -u re_runtime.py -d {d} -f {f\"data/n_rpfs/{l}/{d}/local/{a[i]}\"} -l {l} && \\\\')\n",
    "    print('../send_discord.sh done')"
   ]
  },
  {
   "cell_type": "code",
   "execution_count": 54,
   "metadata": {},
   "outputs": [
    {
     "name": "stdout",
     "output_type": "stream",
     "text": [
      "nohup ./0.sh > 0.out &\n",
      "nohup ./1.sh > 1.out &\n",
      "nohup ./2.sh > 2.out &\n",
      "nohup ./3.sh > 3.out &\n"
     ]
    }
   ],
   "source": [
    "sh = './o.sh'\n",
    "\n",
    "for i in range(4):\n",
    "    print(f'nohup ./{i}.sh > {i}.out &')"
   ]
  },
  {
   "cell_type": "code",
   "execution_count": 55,
   "metadata": {},
   "outputs": [
    {
     "name": "stdout",
     "output_type": "stream",
     "text": [
      "nohup ./a.sh > a.out &\n",
      "nohup ./b.sh > b.out &\n",
      "nohup ./c.sh > c.out &\n",
      "nohup ./d.sh > d.out &\n"
     ]
    }
   ],
   "source": [
    "for c in ['a', 'b', 'c', 'd']:\n",
    "    print(f'nohup ./{c}.sh > {c}.out &')"
   ]
  },
  {
   "cell_type": "code",
   "execution_count": null,
   "metadata": {},
   "outputs": [],
   "source": []
  },
  {
   "cell_type": "code",
   "execution_count": 56,
   "metadata": {},
   "outputs": [
    {
     "name": "stdout",
     "output_type": "stream",
     "text": [
      "nohup ./o.sh > a.out &\n",
      "nohup ./o.sh > b.out &\n",
      "nohup ./o.sh > c.out &\n",
      "nohup ./o.sh > d.out &\n"
     ]
    }
   ],
   "source": [
    "for c in ['a', 'b', 'c', 'd']:\n",
    "    print(f'nohup ./o.sh > {c}.out &')"
   ]
  }
 ],
 "metadata": {
  "kernelspec": {
   "display_name": "Python 3.9.11 ('.venv': poetry)",
   "language": "python",
   "name": "python3"
  },
  "language_info": {
   "codemirror_mode": {
    "name": "ipython",
    "version": 3
   },
   "file_extension": ".py",
   "mimetype": "text/x-python",
   "name": "python",
   "nbconvert_exporter": "python",
   "pygments_lexer": "ipython3",
   "version": "3.9.12"
  },
  "orig_nbformat": 4,
  "vscode": {
   "interpreter": {
    "hash": "5031a1c082d374b42824ba4074361c835f9bfd3c33854874e61fd39ef2ddb484"
   }
  }
 },
 "nbformat": 4,
 "nbformat_minor": 2
}

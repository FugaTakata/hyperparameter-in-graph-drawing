{
 "cells": [
  {
   "cell_type": "code",
   "execution_count": 1,
   "metadata": {},
   "outputs": [
    {
     "name": "stdout",
     "output_type": "stream",
     "text": [
      "#!/bin/sh\n",
      "\n",
      "poetry run python p_o.py 1138_bus angular_resolution 25 4 SS && \\\n",
      "poetry run python p_o.py 1138_bus aspect_ratio 25 4 SS && \\\n",
      "poetry run python p_o.py 1138_bus crossing_angle 25 4 SS && \\\n",
      "poetry run python p_o.py 1138_bus crossing_number 25 4 SS && \\\n",
      "poetry run python p_o.py 1138_bus gabriel_graph_property 25 4 SS && \\\n",
      "poetry run python p_o.py 1138_bus ideal_edge_length 25 4 SS && \\\n",
      "poetry run python p_o.py 1138_bus node_resolution 25 4 SS && \\\n",
      "poetry run python p_o.py 1138_bus run_time 25 4 SS && \\\n",
      "poetry run python p_o.py 1138_bus shape_based_metrics 25 4 SS && \\\n",
      "poetry run python p_o.py 1138_bus stress 25 4 SS && \\\n",
      "poetry run python p_o.py 1138_bus angular_resolution 25 4 FR && \\\n",
      "poetry run python p_o.py 1138_bus aspect_ratio 25 4 FR && \\\n",
      "poetry run python p_o.py 1138_bus crossing_angle 25 4 FR && \\\n",
      "poetry run python p_o.py 1138_bus crossing_number 25 4 FR && \\\n",
      "poetry run python p_o.py 1138_bus gabriel_graph_property 25 4 FR && \\\n",
      "poetry run python p_o.py 1138_bus ideal_edge_length 25 4 FR && \\\n",
      "poetry run python p_o.py 1138_bus node_resolution 25 4 FR && \\\n",
      "poetry run python p_o.py 1138_bus run_time 25 4 FR && \\\n",
      "poetry run python p_o.py 1138_bus shape_based_metrics 25 4 FR && \\\n",
      "poetry run python p_o.py 1138_bus stress 25 4 FR && \\\n",
      "poetry run python p_o.py 1138_bus angular_resolution 25 4 KK && \\\n",
      "poetry run python p_o.py 1138_bus aspect_ratio 25 4 KK && \\\n",
      "poetry run python p_o.py 1138_bus crossing_angle 25 4 KK && \\\n",
      "poetry run python p_o.py 1138_bus crossing_number 25 4 KK && \\\n",
      "poetry run python p_o.py 1138_bus gabriel_graph_property 25 4 KK && \\\n",
      "poetry run python p_o.py 1138_bus ideal_edge_length 25 4 KK && \\\n",
      "poetry run python p_o.py 1138_bus node_resolution 25 4 KK && \\\n",
      "poetry run python p_o.py 1138_bus run_time 25 4 KK && \\\n",
      "poetry run python p_o.py 1138_bus shape_based_metrics 25 4 KK && \\\n",
      "poetry run python p_o.py 1138_bus stress 25 4 KK && \\\n",
      "poetry run python p_o.py 1138_bus angular_resolution 25 4 FM3 && \\\n",
      "poetry run python p_o.py 1138_bus aspect_ratio 25 4 FM3 && \\\n",
      "poetry run python p_o.py 1138_bus crossing_angle 25 4 FM3 && \\\n",
      "poetry run python p_o.py 1138_bus crossing_number 25 4 FM3 && \\\n",
      "poetry run python p_o.py 1138_bus gabriel_graph_property 25 4 FM3 && \\\n",
      "poetry run python p_o.py 1138_bus ideal_edge_length 25 4 FM3 && \\\n",
      "poetry run python p_o.py 1138_bus node_resolution 25 4 FM3 && \\\n",
      "poetry run python p_o.py 1138_bus run_time 25 4 FM3 && \\\n",
      "poetry run python p_o.py 1138_bus shape_based_metrics 25 4 FM3 && \\\n",
      "poetry run python p_o.py 1138_bus stress 25 4 FM3 && \\\n",
      "../send_discord.sh finished\n"
     ]
    }
   ],
   "source": [
    "# p_o\n",
    "with_nohup = False\n",
    "all_qnames = [\n",
    "    'angular_resolution',\n",
    "    'aspect_ratio',\n",
    "    'crossing_angle',\n",
    "    'crossing_number',\n",
    "    'gabriel_graph_property',\n",
    "    'ideal_edge_length',\n",
    "    'node_resolution',\n",
    "    'run_time',\n",
    "    'shape_based_metrics',\n",
    "    'stress',\n",
    "]\n",
    "layout_name_abbreviations = [\n",
    "    'SS',\n",
    "    'FR',\n",
    "    'KK',\n",
    "    'FM3',\n",
    "]\n",
    "dataset_name = '1138_bus'\n",
    "n_trials_per_cpu = 25\n",
    "concurrency = 4\n",
    "\n",
    "print('#!/bin/sh')\n",
    "print('')\n",
    "for layout_name_abbreviation in layout_name_abbreviations:\n",
    "    for qname in all_qnames:\n",
    "        print(f\"{'nohup ' if with_nohup else ''}poetry run python p_o.py {dataset_name} {qname} {n_trials_per_cpu} {concurrency} {layout_name_abbreviation} && \\\\\")\n",
    "        # print(f\"{'nohup ' if with_nohup else ''}poetry run python p_o.py {dataset_name} {qname} {n_trials_per_cpu} {concurrency} {layout_name_abbreviation} > {layout_name_abbreviation}_{qname}.out &&\")\n",
    "print('../send_discord.sh finished')"
   ]
  },
  {
   "cell_type": "code",
   "execution_count": null,
   "metadata": {},
   "outputs": [
    {
     "ename": "SyntaxError",
     "evalue": "invalid syntax (932238606.py, line 1)",
     "output_type": "error",
     "traceback": [
      "\u001b[0;36m  Input \u001b[0;32mIn [13]\u001b[0;36m\u001b[0m\n\u001b[0;31m    nohup poetry run python p_o.py 1138_bus angular_resolution 50 2 SS > SS_angular_resolution.out &&\u001b[0m\n\u001b[0m          ^\u001b[0m\n\u001b[0;31mSyntaxError\u001b[0m\u001b[0;31m:\u001b[0m invalid syntax\n"
     ]
    },
    {
     "ename": "",
     "evalue": "",
     "output_type": "error",
     "traceback": [
      "\u001b[1;31mnotebook controller is DISPOSED. \n",
      "\u001b[1;31mView Jupyter <a href='command:jupyter.viewOutput'>log</a> for further details."
     ]
    }
   ],
   "source": [
    "# rp\n"
   ]
  }
 ],
 "metadata": {
  "kernelspec": {
   "display_name": "Python 3.9.11 ('.venv': poetry)",
   "language": "python",
   "name": "python3"
  },
  "language_info": {
   "codemirror_mode": {
    "name": "ipython",
    "version": 3
   },
   "file_extension": ".py",
   "mimetype": "text/x-python",
   "name": "python",
   "nbconvert_exporter": "python",
   "pygments_lexer": "ipython3",
   "version": "3.9.11"
  },
  "orig_nbformat": 4,
  "vscode": {
   "interpreter": {
    "hash": "5031a1c082d374b42824ba4074361c835f9bfd3c33854874e61fd39ef2ddb484"
   }
  }
 },
 "nbformat": 4,
 "nbformat_minor": 2
}

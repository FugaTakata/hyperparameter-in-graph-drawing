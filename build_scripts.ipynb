{
 "cells": [
  {
   "cell_type": "code",
   "execution_count": 2,
   "metadata": {},
   "outputs": [],
   "source": [
    "ALL_QUALITY_METRICS_NAMES = [\n",
    "    \"angular_resolution\",\n",
    "    \"aspect_ratio\",\n",
    "    \"crossing_angle\",\n",
    "    \"crossing_number\",\n",
    "    \"gabriel_graph_property\",\n",
    "    \"ideal_edge_length\",\n",
    "    \"node_resolution\",\n",
    "    # \"run_time\",\n",
    "    \"shape_based_metrics\",\n",
    "    \"stress\",\n",
    "]\n",
    "\n",
    "d = \"USpowerGrid\"\n",
    "l = \"FR\"\n"
   ]
  },
  {
   "cell_type": "code",
   "execution_count": 4,
   "metadata": {},
   "outputs": [
    {
     "name": "stdout",
     "output_type": "stream",
     "text": [
      "#!/bin/sh\n",
      "\n",
      "poetry run python -u g_rpfs.py -d les_miserables -p 5 -s 50 -l SS && \\\n",
      "say finished\n"
     ]
    }
   ],
   "source": [
    "# rpfs\n",
    "\n",
    "p = 5\n",
    "s = 50\n",
    "d = 'les_miserables'\n",
    "l = 'SS'\n",
    "\n",
    "print(\"#!/bin/sh\")\n",
    "print(\"\")\n",
    "\n",
    "\n",
    "print(f'poetry run python -u g_rpfs.py -d {d} -p {p} -s {s} -l {l} && \\\\')\n",
    "\n",
    "# print(f'../send_discord.sh done')\n",
    "print('say finished')"
   ]
  },
  {
   "cell_type": "code",
   "execution_count": 3,
   "metadata": {},
   "outputs": [
    {
     "name": "stdout",
     "output_type": "stream",
     "text": [
      "poetry run python -u g_opfs.py -d les_miserables --seed-from 0 --seed-to 49 -l FR -t angular_resolution & \\\n",
      "poetry run python -u g_opfs.py -d les_miserables --seed-from 0 --seed-to 49 -l FR -t aspect_ratio & \\\n",
      "poetry run python -u g_opfs.py -d les_miserables --seed-from 0 --seed-to 49 -l FR -t crossing_angle & \\\n",
      "poetry run python -u g_opfs.py -d les_miserables --seed-from 0 --seed-to 49 -l FR -t crossing_number & \\\n",
      "poetry run python -u g_opfs.py -d les_miserables --seed-from 0 --seed-to 49 -l FR -t gabriel_graph_property & \\\n",
      "poetry run python -u g_opfs.py -d les_miserables --seed-from 0 --seed-to 49 -l FR -t ideal_edge_length & \\\n",
      "poetry run python -u g_opfs.py -d les_miserables --seed-from 0 --seed-to 49 -l FR -t node_resolution & \\\n",
      "poetry run python -u g_opfs.py -d les_miserables --seed-from 0 --seed-to 49 -l FR -t run_time & \\\n",
      "poetry run python -u g_opfs.py -d les_miserables --seed-from 0 --seed-to 49 -l FR -t shape_based_metrics & \\\n",
      "poetry run python -u g_opfs.py -d les_miserables --seed-from 0 --seed-to 49 -l FR -t stress & \\\n"
     ]
    }
   ],
   "source": [
    "d = 'les_miserables'\n",
    "l = 'FR'\n",
    "\n",
    "for t in ALL_QUALITY_METRICS_NAMES:\n",
    "    print(\n",
    "        f\"poetry run python -u g_opfs.py -d {d} --seed-from 0 --seed-to 49 -l {l} -t {t} & \\\\\"\n",
    "    )"
   ]
  },
  {
   "cell_type": "code",
   "execution_count": 49,
   "metadata": {},
   "outputs": [
    {
     "name": "stdout",
     "output_type": "stream",
     "text": [
      "#!/bin/sh\n",
      "\n",
      "poetry run python -u g_opfs.py -d les_miserables --seed-from 0 --seed-to 49 -l FR -t angular_resolution && \\\n",
      "poetry run python -u g_opfs.py -d les_miserables --seed-from 0 --seed-to 49 -l FR -t aspect_ratio && \\\n",
      "poetry run python -u g_opfs.py -d les_miserables --seed-from 0 --seed-to 49 -l FR -t crossing_angle && \\\n",
      "../send_discord.sh done\n",
      "\n",
      "#!/bin/sh\n",
      "\n",
      "poetry run python -u g_opfs.py -d les_miserables --seed-from 0 --seed-to 49 -l FR -t crossing_number && \\\n",
      "poetry run python -u g_opfs.py -d les_miserables --seed-from 0 --seed-to 49 -l FR -t gabriel_graph_property && \\\n",
      "poetry run python -u g_opfs.py -d les_miserables --seed-from 0 --seed-to 49 -l FR -t ideal_edge_length && \\\n",
      "../send_discord.sh done\n",
      "\n",
      "#!/bin/sh\n",
      "\n",
      "poetry run python -u g_opfs.py -d les_miserables --seed-from 0 --seed-to 49 -l FR -t node_resolution && \\\n",
      "poetry run python -u g_opfs.py -d les_miserables --seed-from 0 --seed-to 49 -l FR -t run_time && \\\n",
      "poetry run python -u g_opfs.py -d les_miserables --seed-from 0 --seed-to 49 -l FR -t shape_based_metrics && \\\n",
      "poetry run python -u g_opfs.py -d les_miserables --seed-from 0 --seed-to 49 -l FR -t stress && \\\n",
      "../send_discord.sh done\n",
      "\n"
     ]
    }
   ],
   "source": [
    "# opfs\n",
    "\n",
    "d = \"les_miserables\"\n",
    "l = \"FR\"\n",
    "\n",
    "groups = [\n",
    "    [\"angular_resolution\", \"aspect_ratio\"],\n",
    "    [\"crossing_angle\", \"crossing_number\"],\n",
    "    [\"gabriel_graph_property\", \"ideal_edge_length\", \"node_resolution\"],\n",
    "    [\"run_time\", \"shape_based_metrics\", \"stress\"],\n",
    "]\n",
    "\n",
    "groups = [\n",
    "    [\n",
    "        \"angular_resolution\",\n",
    "        \"aspect_ratio\",\n",
    "        \"crossing_angle\",\n",
    "    ],\n",
    "    [\n",
    "        \"crossing_number\",\n",
    "        \"gabriel_graph_property\",\n",
    "        \"ideal_edge_length\",\n",
    "    ],\n",
    "    [\n",
    "        \"node_resolution\",\n",
    "        \"shape_based_metrics\",\n",
    "        \"stress\",\n",
    "    ],\n",
    "]\n",
    "\n",
    "for g in groups:\n",
    "    print(\"#!/bin/sh\")\n",
    "    print(\"\")\n",
    "\n",
    "    for t in g:\n",
    "        print(\n",
    "            f\"poetry run python -u g_opfs.py -d {d} --seed-from 0 --seed-to 49 -l {l} -t {t} && \\\\\"\n",
    "        )\n",
    "\n",
    "    print(f'../send_discord.sh done')\n",
    "    # print(\"say finished\")\n",
    "    print(\"\")"
   ]
  },
  {
   "cell_type": "code",
   "execution_count": 3,
   "metadata": {},
   "outputs": [
    {
     "name": "stdout",
     "output_type": "stream",
     "text": [
      "#!/bin/sh\n",
      "\n",
      "poetry run python -u optimization.py -d les_miserables -n 25 -l SS -t angular_resolution && \\\n",
      "poetry run python -u optimization.py -d les_miserables -n 25 -l SS -t aspect_ratio && \\\n",
      "poetry run python -u optimization.py -d les_miserables -n 25 -l SS -t crossing_angle && \\\n",
      "poetry run python -u optimization.py -d les_miserables -n 25 -l SS -t crossing_number && \\\n",
      "poetry run python -u optimization.py -d les_miserables -n 25 -l SS -t gabriel_graph_property && \\\n",
      "poetry run python -u optimization.py -d les_miserables -n 25 -l SS -t ideal_edge_length && \\\n",
      "poetry run python -u optimization.py -d les_miserables -n 25 -l SS -t node_resolution && \\\n",
      "poetry run python -u optimization.py -d les_miserables -n 25 -l SS -t shape_based_metrics && \\\n",
      "poetry run python -u optimization.py -d les_miserables -n 25 -l SS -t stress && \\\n",
      "say finished\n"
     ]
    }
   ],
   "source": [
    "# optimization\n",
    "\n",
    "n = 25\n",
    "d='les_miserables'\n",
    "l = 'SS'\n",
    "\n",
    "print(\"#!/bin/sh\")\n",
    "print(\"\")\n",
    "\n",
    "for t in ALL_QUALITY_METRICS_NAMES:\n",
    "    print(f'poetry run python -u optimization.py -d {d} -n {n} -l {l} -t {t} && \\\\')\n",
    "\n",
    "# print(f'../send_discord.sh done')\n",
    "# print(f'../send_discord.sh local_done')\n",
    "print('say finished')\n"
   ]
  },
  {
   "cell_type": "code",
   "execution_count": 6,
   "metadata": {},
   "outputs": [
    {
     "name": "stdout",
     "output_type": "stream",
     "text": [
      "#!/bin/sh\n",
      "poetry run python -u re_runtime.py -d 1138_bus -f data/n_rpfs/SS/1138_bus/local/2023-01-12_15-59-32.pkl -l SS && \\\n",
      "../send_discord.sh done\n",
      "#!/bin/sh\n",
      "poetry run python -u re_runtime.py -d 1138_bus -f data/n_rpfs/SS/1138_bus/local/2023-01-12_16-05-07.pkl -l SS && \\\n",
      "../send_discord.sh done\n",
      "#!/bin/sh\n",
      "poetry run python -u re_runtime.py -d 1138_bus -f data/n_rpfs/SS/1138_bus/local/2023-01-12_16-05-13.pkl -l SS && \\\n",
      "../send_discord.sh done\n",
      "#!/bin/sh\n",
      "poetry run python -u re_runtime.py -d 1138_bus -f data/n_rpfs/SS/1138_bus/local/2023-01-12_16-08-22.pkl -l SS && \\\n",
      "../send_discord.sh done\n"
     ]
    }
   ],
   "source": [
    "a = [\n",
    "'2023-01-12_15-59-32.pkl',\n",
    "'2023-01-12_16-05-07.pkl',\n",
    "'2023-01-12_16-05-13.pkl',\n",
    "'2023-01-12_16-08-22.pkl',\n",
    "]\n",
    "\n",
    "for i in range(4):\n",
    "    print(\"#!/bin/sh\")\n",
    "    print(f'poetry run python -u re_runtime.py -d {d} -f {f\"data/n_rpfs/{l}/{d}/local/{a[i]}\"} -l {l} && \\\\')\n",
    "    print('../send_discord.sh done')"
   ]
  },
  {
   "cell_type": "code",
   "execution_count": 15,
   "metadata": {},
   "outputs": [
    {
     "name": "stdout",
     "output_type": "stream",
     "text": [
      "nohup ./a.sh > a.out &\n",
      "nohup ./b.sh > b.out &\n",
      "nohup ./c.sh > c.out &\n",
      "nohup ./d.sh > d.out &\n"
     ]
    }
   ],
   "source": [
    "for c in ['a', 'b', 'c', 'd']:\n",
    "    print(f'nohup ./{c}.sh > {c}.out &')"
   ]
  },
  {
   "cell_type": "code",
   "execution_count": 17,
   "metadata": {},
   "outputs": [
    {
     "name": "stdout",
     "output_type": "stream",
     "text": [
      "#!/bin/sh\n",
      "\n",
      "poetry run python -u optimization.py -d 1138_bus -n 34 -l SS -t ideal_edge_length node_resolution run_time stress && \\\n",
      "../send_discord.sh done\n"
     ]
    }
   ],
   "source": [
    "n = 34\n",
    "\n",
    "d = \"1138_bus\"\n",
    "l = \"SS\"\n",
    "\n",
    "# ALL_QUALITY_METRICS_NAMES = [\n",
    "#     \"angular_resolution\",\n",
    "#     \"aspect_ratio\",\n",
    "#     \"crossing_angle\",\n",
    "#     \"crossing_number\",\n",
    "#     \"gabriel_graph_property\",\n",
    "#     \"ideal_edge_length\",\n",
    "#     \"node_resolution\",\n",
    "#     \"run_time\",\n",
    "#     \"shape_based_metrics\",\n",
    "#     \"stress\",\n",
    "# ]\n",
    "\n",
    "targets = {\n",
    "    \"FR\": [\n",
    "        \"angular_resolution\",\n",
    "        \"crossing_angle\",\n",
    "        \"ideal_edge_length\",\n",
    "        \"node_resolution\",\n",
    "        \"run_time\",\n",
    "        \"shape_based_metrics\",\n",
    "        \"stress\",\n",
    "    ],\n",
    "    \"SS\": [\n",
    "        \"ideal_edge_length\",\n",
    "        \"node_resolution\",\n",
    "        \"run_time\",\n",
    "        \"stress\",\n",
    "    ],\n",
    "}\n",
    "\n",
    "# targets = [\n",
    "#     \"ideal_edge_length\",\n",
    "#     \"node_resolution\",\n",
    "#     \"run_time\",\n",
    "#     \"shape_based_metrics\",\n",
    "#     \"stress\",\n",
    "# ]\n",
    "\n",
    "print(\"#!/bin/sh\")\n",
    "print(\"\")\n",
    "print(\n",
    "    f\"poetry run python -u optimization.py -d {d} -n {n} -l {l} -t {' '.join(targets[l])} && \\\\\"\n",
    ")\n",
    "# print(\"say done\")\n",
    "print(\"../send_discord.sh done\")"
   ]
  },
  {
   "cell_type": "code",
   "execution_count": 2,
   "metadata": {},
   "outputs": [
    {
     "data": {
      "text/plain": [
       "'angular_resolution,aspect_ratio,crossing_angle,ideal_edge_length,node_resolution,run_time,shape_based_metrics,stress'"
      ]
     },
     "execution_count": 2,
     "metadata": {},
     "output_type": "execute_result"
    }
   ],
   "source": [
    "','.join(targets)"
   ]
  },
  {
   "cell_type": "code",
   "execution_count": 46,
   "metadata": {},
   "outputs": [
    {
     "name": "stdout",
     "output_type": "stream",
     "text": [
      "nohup ./a.sh > a.out & \\\n",
      "nohup ./a.sh > b.out & \\\n",
      "nohup ./a.sh > c.out & \\\n",
      "nohup ./a.sh > d.out & \\\n"
     ]
    }
   ],
   "source": [
    "for c in [\"a\", \"b\", \"c\", \"d\"]:\n",
    "    print(f\"nohup ./a.sh > {c}.out & \\\\\")"
   ]
  },
  {
   "cell_type": "code",
   "execution_count": 47,
   "metadata": {},
   "outputs": [
    {
     "name": "stdout",
     "output_type": "stream",
     "text": [
      "nohup ./a.sh > a.out & \\\n",
      "nohup ./b.sh > b.out & \\\n",
      "nohup ./c.sh > c.out & \\\n",
      "nohup ./d.sh > d.out & \\\n"
     ]
    }
   ],
   "source": [
    "# for c in [\"a\", \"b\", \"c\"]:\n",
    "for c in [\"a\", \"b\", \"c\", \"d\"]:\n",
    "    print(f\"nohup ./{c}.sh > {c}.out & \\\\\")"
   ]
  },
  {
   "cell_type": "code",
   "execution_count": 12,
   "metadata": {},
   "outputs": [
    {
     "name": "stdout",
     "output_type": "stream",
     "text": [
      "#!/bin/sh\n",
      "\n",
      "poetry run python -u g_ex2.py -d USpowerGrid -n 4 -l SS && \\\n",
      "say finished\n"
     ]
    }
   ],
   "source": [
    "# g_ex2\n",
    "SS = \"SS\"\n",
    "FR = \"FR\"\n",
    "FM3 = \"FM3\"\n",
    "KK = \"KK\"\n",
    "\n",
    "n = 4\n",
    "d = \"USpowerGrid\"\n",
    "l = SS\n",
    "\n",
    "print(\"#!/bin/sh\")\n",
    "print('')\n",
    "print(\n",
    "    f\"poetry run python -u g_ex2.py -d {d} -n {n} -l {l} && \\\\\"\n",
    ")\n",
    "print('say finished')"
   ]
  },
  {
   "cell_type": "code",
   "execution_count": 41,
   "metadata": {},
   "outputs": [
    {
     "name": "stdout",
     "output_type": "stream",
     "text": [
      "#!/bin/sh\n",
      "\n",
      "poetry run python -u re_runtime.py -d 1138_bus -f data/n_rpfs/FR/1138_bus/03c14ea7-1f07-484d-ae24-67b1ecaff63f.pkl -l FR\n",
      "../send_discord.sh done\n",
      "#!/bin/sh\n",
      "\n",
      "poetry run python -u re_runtime.py -d 1138_bus -f data/n_rpfs/FR/1138_bus/44d8cbef-3c58-482e-a1fe-14ed56869081.pkl -l FR\n",
      "../send_discord.sh done\n",
      "#!/bin/sh\n",
      "\n",
      "poetry run python -u re_runtime.py -d 1138_bus -f data/n_rpfs/FR/1138_bus/97a89d3a-4390-49e6-8b84-37a0a1199664.pkl -l FR\n",
      "../send_discord.sh done\n",
      "#!/bin/sh\n",
      "\n",
      "poetry run python -u re_runtime.py -d 1138_bus -f data/n_rpfs/FR/1138_bus/b95fb092-dfab-4cf6-9a1b-1ec6353b55b1.pkl -l FR\n",
      "../send_discord.sh done\n"
     ]
    }
   ],
   "source": [
    "# ss\n",
    "paths = [\n",
    "    \"0ea9019c-f575-4f0e-b4ee-d1f37aa8f8b0.pkl\",\n",
    "    \"ab63ae0f-b788-4afc-85b6-4c10a2692b37.pkl\",\n",
    "    \"dd771890-06d1-4378-9328-ed98dc68d42c.pkl\",\n",
    "    \"e6e73eae-e760-4db5-8db8-e88fabeb192f.pkl\",\n",
    "]\n",
    "\n",
    "# fr\n",
    "paths = [\n",
    "    \"03c14ea7-1f07-484d-ae24-67b1ecaff63f.pkl\",\n",
    "    \"44d8cbef-3c58-482e-a1fe-14ed56869081.pkl\",\n",
    "    \"97a89d3a-4390-49e6-8b84-37a0a1199664.pkl\",\n",
    "    \"b95fb092-dfab-4cf6-9a1b-1ec6353b55b1.pkl\",\n",
    "]\n",
    "\n",
    "d = \"1138_bus\"\n",
    "l = \"FR\"\n",
    "\n",
    "for p in paths:\n",
    "    print(\"#!/bin/sh\")\n",
    "    print(\"\")\n",
    "    print(\n",
    "        f\"poetry run python -u re_runtime.py -d {d} -f data/n_rpfs/{l}/{d}/{p} -l {l}\"\n",
    "    )\n",
    "    print(\"../send_discord.sh done\")"
   ]
  },
  {
   "cell_type": "code",
   "execution_count": 3,
   "metadata": {},
   "outputs": [
    {
     "name": "stdout",
     "output_type": "stream",
     "text": [
      "#!/bin/sh\n",
      "poetry run python g_ex2.py -l SS -t ideal_edge_length node_resolution run_time stress && \\\n",
      "poetry run python g_ex2.py -l FR -t angular_resolution crossing_angle ideal_edge_length node_resolution run_time shape_based_metrics stress && \\\n",
      "poetry run python g_ex3.py -l SS -t ideal_edge_length node_resolution run_time stress && \\\n",
      "poetry run python g_ex3.py -l FR -t angular_resolution crossing_angle ideal_edge_length node_resolution run_time shape_based_metrics stress && \\\n",
      "../send_discord.sh done\n"
     ]
    }
   ],
   "source": [
    "print('#!/bin/sh')\n",
    "\n",
    "print('poetry run python g_ex2.py -l SS -t ideal_edge_length node_resolution run_time stress && \\\\')\n",
    "print('poetry run python g_ex2.py -l FR -t angular_resolution crossing_angle ideal_edge_length node_resolution run_time shape_based_metrics stress && \\\\')\n",
    "\n",
    "print('poetry run python g_ex3.py -l SS -t ideal_edge_length node_resolution run_time stress && \\\\')\n",
    "print('poetry run python g_ex3.py -l FR -t angular_resolution crossing_angle ideal_edge_length node_resolution run_time shape_based_metrics stress && \\\\')\n",
    "print('../send_discord.sh done')"
   ]
  },
  {
   "cell_type": "code",
   "execution_count": 4,
   "metadata": {},
   "outputs": [
    {
     "name": "stdout",
     "output_type": "stream",
     "text": [
      "#!/bin/sh\n",
      "poetry run python -u add_quality_question2.py -l FR -q 50f4e977-0cce-41a3-93e7-02b802040572 && \\\n",
      "say done\n",
      "\n",
      "#!/bin/sh\n",
      "poetry run python -u add_quality_question2.py -l FR -q aea9bccd-587e-45af-81c5-68471c680e45 && \\\n",
      "say done\n",
      "\n",
      "#!/bin/sh\n",
      "poetry run python -u add_quality_question2.py -l FR -q 7d61ab59-99b5-4069-b2b4-9493f37b4b21 && \\\n",
      "say done\n",
      "\n",
      "#!/bin/sh\n",
      "poetry run python -u add_quality_question2.py -l FR -q 66276681-c8f5-40c8-aa4c-8459268891c8 && \\\n",
      "say done\n",
      "\n"
     ]
    }
   ],
   "source": [
    "import os\n",
    "l = 'FR'\n",
    "\n",
    "\n",
    "qs = os.listdir(f'data/question2/{l}')\n",
    "\n",
    "\n",
    "for q in qs:\n",
    "    print('#!/bin/sh')\n",
    "    print(f'poetry run python -u add_quality_question2.py -l {l} -q {q} && \\\\')\n",
    "    # print('../send_discord.sh local_done')\n",
    "    print('say done')\n",
    "\n",
    "    print()"
   ]
  },
  {
   "cell_type": "code",
   "execution_count": null,
   "metadata": {},
   "outputs": [],
   "source": [
    "for c in [\"a\", \"b\", \"c\", \"d\"]:\n",
    "    print(f\"nohup ./a.sh > {c}.out & \\\\\")"
   ]
  }
 ],
 "metadata": {
  "kernelspec": {
   "display_name": "Python 3.9.11 ('.venv': poetry)",
   "language": "python",
   "name": "python3"
  },
  "language_info": {
   "codemirror_mode": {
    "name": "ipython",
    "version": 3
   },
   "file_extension": ".py",
   "mimetype": "text/x-python",
   "name": "python",
   "nbconvert_exporter": "python",
   "pygments_lexer": "ipython3",
   "version": "3.9.12"
  },
  "orig_nbformat": 4,
  "vscode": {
   "interpreter": {
    "hash": "5031a1c082d374b42824ba4074361c835f9bfd3c33854874e61fd39ef2ddb484"
   }
  }
 },
 "nbformat": 4,
 "nbformat_minor": 2
}

{
 "cells": [
  {
   "cell_type": "code",
   "execution_count": null,
   "metadata": {},
   "outputs": [],
   "source": [
    "d = \"USpowerGrid\"\n",
    "l = \"SS\"\n"
   ]
  },
  {
   "cell_type": "code",
   "execution_count": null,
   "metadata": {},
   "outputs": [],
   "source": [
    "import pandas as pd\n",
    "from quality_metrics import (\n",
    "    angular_resolution,\n",
    "    aspect_ratio,\n",
    "    crossing_angle,\n",
    "    crossing_number,\n",
    "    gabriel_graph_property,\n",
    "    ideal_edge_length,\n",
    "    node_resolution,\n",
    "    run_time,\n",
    "    shape_based_metrics,\n",
    "    stress,\n",
    ")\n",
    "import os"
   ]
  },
  {
   "cell_type": "code",
   "execution_count": null,
   "metadata": {},
   "outputs": [],
   "source": [
    "QUALITY_METRICS = {\n",
    "    \"angular_resolution\": angular_resolution,\n",
    "    \"aspect_ratio\": aspect_ratio,\n",
    "    \"crossing_angle\": crossing_angle,\n",
    "    \"crossing_number\": crossing_number,\n",
    "    \"gabriel_graph_property\": gabriel_graph_property,\n",
    "    \"ideal_edge_length\": ideal_edge_length,\n",
    "    \"node_resolution\": node_resolution,\n",
    "    \"run_time\": run_time,\n",
    "    \"shape_based_metrics\": shape_based_metrics,\n",
    "    \"stress\": stress,\n",
    "}\n",
    "\n",
    "\n",
    "ALL_QUALITY_METRICS_NAMES = sorted([name for name in QUALITY_METRICS])"
   ]
  },
  {
   "cell_type": "code",
   "execution_count": null,
   "metadata": {},
   "outputs": [],
   "source": [
    "export_directory = f\"data/n_opfs/{l}/{d}\"\n",
    "\n",
    "df = pd.DataFrame()\n",
    "\n",
    "for name in ALL_QUALITY_METRICS_NAMES:\n",
    "    df = pd.concat([df, pd.read_pickle(f\"{export_directory}/{name}.pkl\")])\n",
    "\n",
    "df.info()\n",
    "\n",
    "os.makedirs(export_directory, exist_ok=True)\n",
    "df.to_pickle(f\"{export_directory}/ignore_all.pkl\")"
   ]
  },
  {
   "cell_type": "code",
   "execution_count": null,
   "metadata": {},
   "outputs": [],
   "source": [
    "df"
   ]
  }
 ],
 "metadata": {
  "kernelspec": {
   "display_name": ".venv",
   "language": "python",
   "name": "python3"
  },
  "language_info": {
   "codemirror_mode": {
    "name": "ipython",
    "version": 3
   },
   "file_extension": ".py",
   "mimetype": "text/x-python",
   "name": "python",
   "nbconvert_exporter": "python",
   "pygments_lexer": "ipython3",
   "version": "3.9.12"
  },
  "orig_nbformat": 4,
  "vscode": {
   "interpreter": {
    "hash": "5031a1c082d374b42824ba4074361c835f9bfd3c33854874e61fd39ef2ddb484"
   }
  }
 },
 "nbformat": 4,
 "nbformat_minor": 2
}

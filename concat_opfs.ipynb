{
 "cells": [
  {
   "cell_type": "code",
   "execution_count": 3,
   "metadata": {},
   "outputs": [],
   "source": [
    "import pandas as pd\n",
    "from quality_metrics import (\n",
    "    angular_resolution,\n",
    "    aspect_ratio,\n",
    "    crossing_angle,\n",
    "    crossing_number,\n",
    "    gabriel_graph_property,\n",
    "    ideal_edge_length,\n",
    "    node_resolution,\n",
    "    run_time,\n",
    "    shape_based_metrics,\n",
    "    stress,\n",
    ")\n",
    "\n",
    "\n",
    "d = \"USpowerGrid\"\n",
    "l = \"FR\"\n",
    "\n",
    "\n",
    "QUALITY_METRICS = {\n",
    "    \"angular_resolution\": angular_resolution,\n",
    "    \"aspect_ratio\": aspect_ratio,\n",
    "    \"crossing_angle\": crossing_angle,\n",
    "    \"crossing_number\": crossing_number,\n",
    "    \"gabriel_graph_property\": gabriel_graph_property,\n",
    "    \"ideal_edge_length\": ideal_edge_length,\n",
    "    \"node_resolution\": node_resolution,\n",
    "    \"run_time\": run_time,\n",
    "    \"shape_based_metrics\": shape_based_metrics,\n",
    "    \"stress\": stress,\n",
    "}\n",
    "\n",
    "# con = {\n",
    "#     \"angular_resolution\": \"stress\",\n",
    "#     \"aspect_ratio\": \"angular_resolution\",\n",
    "#     \"crossing_angle\": \"aspect_ratio\",\n",
    "#     \"crossing_number\": \"crossing_angle\",\n",
    "#     \"gabriel_graph_property\": \"crossing_number\",\n",
    "#     \"ideal_edge_length\": \"gabriel_graph_property\",\n",
    "#     \"node_resolution\": \"ideal_edge_length\",\n",
    "#     \"run_time\": \"node_resolution\",\n",
    "#     \"shape_based_metrics\": \"run_time\",\n",
    "#     \"stress\": \"shape_based_metrics\",\n",
    "# }\n",
    "\n",
    "ALL_QUALITY_METRICS_NAMES = sorted([name for name in QUALITY_METRICS])\n",
    "\n",
    "opfs_dfs = {}\n",
    "for name in ALL_QUALITY_METRICS_NAMES:\n",
    "    opfs_dfs[name] = pd.read_pickle(f\"data/n_opfs/{l}/{d}/{name}.pkl\")"
   ]
  },
  {
   "cell_type": "code",
   "execution_count": 4,
   "metadata": {},
   "outputs": [],
   "source": [
    "ad = []\n",
    "for name in ALL_QUALITY_METRICS_NAMES:\n",
    "    tdf = opfs_dfs[name]\n",
    "    for i, data in tdf.iterrows():\n",
    "        dc = data.to_dict()\n",
    "        ad.append(dc)\n",
    "\n",
    "new_df = pd.DataFrame(ad)\n",
    "pd.to_pickle(new_df, f\"data/n_opfs/{l}/{d}/all.pkl\")"
   ]
  }
 ],
 "metadata": {
  "kernelspec": {
   "display_name": ".venv",
   "language": "python",
   "name": "python3"
  },
  "language_info": {
   "codemirror_mode": {
    "name": "ipython",
    "version": 3
   },
   "file_extension": ".py",
   "mimetype": "text/x-python",
   "name": "python",
   "nbconvert_exporter": "python",
   "pygments_lexer": "ipython3",
   "version": "3.9.12"
  },
  "orig_nbformat": 4,
  "vscode": {
   "interpreter": {
    "hash": "5031a1c082d374b42824ba4074361c835f9bfd3c33854874e61fd39ef2ddb484"
   }
  }
 },
 "nbformat": 4,
 "nbformat_minor": 2
}

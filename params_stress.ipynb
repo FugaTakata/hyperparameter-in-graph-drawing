{
 "cells": [
  {
   "cell_type": "code",
   "execution_count": null,
   "metadata": {},
   "outputs": [],
   "source": [
    "import json\n",
    "\n",
    "with open('data/rpfs_pos/USpowerGrid.json') as f:\n",
    "    jsondata = json.load(f)\n"
   ]
  },
  {
   "cell_type": "code",
   "execution_count": null,
   "metadata": {},
   "outputs": [],
   "source": [
    "import numpy as np\n",
    "\n",
    "\n",
    "tq = 'stress'\n",
    "\n",
    "data = []\n",
    "indices = []\n",
    "\n",
    "\n",
    "for i,e in enumerate(jsondata['e']):\n",
    "    params = e['params']\n",
    "    qs = []\n",
    "    n_len = None\n",
    "    for seed in e['seed']:\n",
    "        t = e['seed'][seed]\n",
    "        qs.append(t[tq])\n",
    "        n_len = len([p for p in t['pos']])\n",
    "\n",
    "    data.append([np.mean(np.array(qs)), params['edge_length'], params['number_of_pivots'], params['number_of_iterations'], params['eps']])\n",
    "    # data.append([np.mean(np.array(qs)), (params['edge_length'] - 1) / (100 - 1), (params['number_of_pivots'] - 1) / (n_len - 1), (params['number_of_iterations'] - 1) / (100 - 1), (params['eps'] - 0.01)/(1 - 0.01)])\n",
    "    indices.append(i)\n"
   ]
  },
  {
   "cell_type": "code",
   "execution_count": null,
   "metadata": {},
   "outputs": [],
   "source": [
    "xs = []\n",
    "ys = []\n",
    "\n",
    "for d in data:\n",
    "    xs.append(d[4])\n",
    "    ys.append(d[0])"
   ]
  },
  {
   "cell_type": "code",
   "execution_count": null,
   "metadata": {},
   "outputs": [],
   "source": [
    "import matplotlib.pyplot as plt\n",
    "\n",
    "\n",
    "plt.scatter(xs, ys)\n",
    "\n",
    "plt.show()\n"
   ]
  },
  {
   "cell_type": "code",
   "execution_count": 83,
   "metadata": {},
   "outputs": [
    {
     "name": "stdout",
     "output_type": "stream",
     "text": [
      "<builtins.Graph object at 0x1286b9120>\n"
     ]
    }
   ],
   "source": [
    "import json\n",
    "import argparse\n",
    "\n",
    "import optuna\n",
    "import networkx as nx\n",
    "\n",
    "from utils import graph_preprocessing, generate_graph_from_nx_graph, draw_graph, edge_crossing_finder\n",
    "from quality_metrics import angular_resolution, aspect_ratio, crossing_angle, crossing_number, gabriel_graph_property, ideal_edge_length, node_resolution, shape_based_metrics, stress\n",
    "\n",
    "\n",
    "def objective_wrapper(nx_graph, graph, indices, qnames, all_shortest_paths, edge_weight=1):\n",
    "    def objective(trial: optuna.Trial):\n",
    "        params = {\n",
    "            'edge_length': trial.suggest_int('edge_length', 1, 100),\n",
    "            'number_of_pivots': trial.suggest_int('number_of_pivots', 1, len(nx_graph.nodes)),\n",
    "            'number_of_iterations': trial.suggest_int('number_of_iterations', 1, 1000),\n",
    "            'eps': trial.suggest_float('eps', 0.01, 1)\n",
    "        }\n",
    "        trial.set_user_attr('params', params)\n",
    "\n",
    "        pos = draw_graph(graph, indices, params)\n",
    "        trial.set_user_attr('pos', pos)\n",
    "\n",
    "        # quality_metrics = calc_quality_metrics(\n",
    "        #     nx_graph, pos, all_shortest_paths, edge_weight)\n",
    "        quality_metrics = calc_qs(\n",
    "            nx_graph, pos, all_shortest_paths, qnames, edge_weight)\n",
    "        trial.set_user_attr('quality_metrics', quality_metrics)\n",
    "\n",
    "        result = tuple([quality_metrics[name]\n",
    "                       for name in qnames])\n",
    "        return result\n",
    "    return objective\n",
    "\n",
    "\n",
    "def parse_args():\n",
    "    # lib/egraph-rs/js/dataset/{dataset_name}.json\n",
    "    # data/optimization/{dataset_name}/{target_qs}.json\n",
    "    parser = argparse.ArgumentParser()\n",
    "    # USpowerGrid\n",
    "    parser.add_argument('dataset_name')\n",
    "\n",
    "    # node_resolution,stress or all\n",
    "    parser.add_argument('target_qs')\n",
    "\n",
    "    # target parameter\n",
    "    # parser.add_argument('target_params')\n",
    "\n",
    "    args = parser.parse_args()\n",
    "\n",
    "    return args\n",
    "\n",
    "\n",
    "def calc_qs(nx_graph, pos, all_shortest_paths, qnames, edge_weight=1):\n",
    "    result = {}\n",
    "    edge_crossing = None\n",
    "    if 'crossing_angle' in qnames or 'crossing_number' in qnames:\n",
    "        edge_crossing = edge_crossing_finder(nx_graph, pos)\n",
    "\n",
    "    for qname in qnames:\n",
    "        if qname == 'angular_resolution':\n",
    "            result[qname] = angular_resolution.quality(nx_graph, pos)\n",
    "        elif qname == 'aspect_ratio':\n",
    "            result[qname] = aspect_ratio.quality(pos)\n",
    "        elif qname == 'crossing_angle':\n",
    "            result[qname] = crossing_angle.quality(\n",
    "                nx_graph, pos, edge_crossing)\n",
    "        elif qname == 'crossing_number':\n",
    "            result[qname] = crossing_number.quality(\n",
    "                nx_graph, pos, edge_crossing)\n",
    "        elif qname == 'gabriel_graph_property':\n",
    "            result[qname] = gabriel_graph_property.quality(nx_graph, pos)\n",
    "        elif qname == 'ideal_edge_length':\n",
    "            result[qname] = ideal_edge_length.quality(nx_graph, pos)\n",
    "        elif qname == 'node_resolution':\n",
    "            result[qname] = node_resolution.quality(pos)\n",
    "        elif qname == 'shape_based_metrics':\n",
    "            result[qname] = shape_based_metrics.quality(\n",
    "                nx_graph, pos, edge_weight)\n",
    "        elif qname == 'stress':\n",
    "            result[qname] = stress.quality(nx_graph, pos, all_shortest_paths)\n",
    "\n",
    "    return result\n",
    "\n",
    "\n",
    "EDGE_WEIGHT = 50\n",
    "N_TRIALS = 100\n",
    "\n",
    "all_qnames = [\n",
    "    'angular_resolution',\n",
    "    'aspect_ratio',\n",
    "    'crossing_angle',\n",
    "    'crossing_number',\n",
    "    'gabriel_graph_property',\n",
    "    'ideal_edge_length',\n",
    "    'node_resolution',\n",
    "    'shape_based_metrics',\n",
    "    'stress']\n",
    "qmap = {\n",
    "    'angular_resolution': angular_resolution,\n",
    "    'aspect_ratio': aspect_ratio,\n",
    "    'crossing_angle': crossing_angle,\n",
    "    'crossing_number': crossing_number,\n",
    "    'gabriel_graph_property': gabriel_graph_property,\n",
    "    'ideal_edge_length': ideal_edge_length,\n",
    "    'node_resolution': node_resolution,\n",
    "    'shape_based_metrics': shape_based_metrics,\n",
    "    'stress': stress\n",
    "}\n",
    "base_params = {\n",
    "    'edge_length': 30,\n",
    "    'number_of_pivots': 50,\n",
    "    'number_of_iterations': 100,\n",
    "    'eps': 0.1\n",
    "}\n",
    "\n",
    "# args = parse_args()\n",
    "dataset_name = 'bull'\n",
    "# target_qs = args.target_qs\n",
    "# target_params = args.target_params\n",
    "\n",
    "# if target_params not in base_params:\n",
    "#     raise ValueError(f'{target_params}は無効です')\n",
    "\n",
    "dataset_path = f'lib/egraph-rs/js/dataset/{dataset_name}.json'\n",
    "# export_path = f'data/find_limitations/{dataset_name}/{target_qs}.json'\n",
    "\n",
    "# target_qnames = [\n",
    "#     qname for qname in all_qnames] if target_qs == 'all' else target_qs.split(',')\n",
    "\n",
    "# qnames = []\n",
    "# for tqname in target_qnames:\n",
    "#     if tqname in all_qnames:\n",
    "#         qnames.append(tqname)\n",
    "#     else:\n",
    "#         raise ValueError(f'{tqname} in {target_qnames} is not accepted')\n",
    "# qnames = sorted(qnames)\n",
    "\n",
    "with open(dataset_path) as f:\n",
    "    graph_data = json.load(f)\n",
    "nx_graph = graph_preprocessing(nx.node_link_graph(graph_data), EDGE_WEIGHT)\n",
    "graph, indices = generate_graph_from_nx_graph(nx_graph)\n",
    "all_shortest_paths = dict(nx.all_pairs_dijkstra_path_length(nx_graph))\n",
    "\n",
    "pos = draw_graph(graph, indices, base_params, 0)\n",
    "\n",
    "print(graph)\n"
   ]
  },
  {
   "cell_type": "code",
   "execution_count": 87,
   "metadata": {},
   "outputs": [
    {
     "data": {
      "text/plain": [
       "EdgeDataView([('0', '1', {'weight': 50, 'id': '0'}), ('0', '2', {'weight': 50, 'id': '1'}), ('1', '2', {'weight': 50, 'id': '2'}), ('1', '3', {'weight': 50, 'id': '3'}), ('2', '4', {'weight': 50, 'id': '4'})])"
      ]
     },
     "execution_count": 87,
     "metadata": {},
     "output_type": "execute_result"
    }
   ],
   "source": [
    "nx_graph.edges(data=True)"
   ]
  },
  {
   "cell_type": "code",
   "execution_count": 84,
   "metadata": {},
   "outputs": [
    {
     "name": "stdout",
     "output_type": "stream",
     "text": [
      "('0', '1')\n",
      "('0', '2')\n",
      "('1', '2')\n",
      "('1', '3')\n",
      "('2', '4')\n"
     ]
    }
   ],
   "source": [
    "for a,b in nx_graph.edges:\n",
    "    print((a,b))"
   ]
  },
  {
   "cell_type": "code",
   "execution_count": 85,
   "metadata": {},
   "outputs": [
    {
     "name": "stdout",
     "output_type": "stream",
     "text": [
      "('0', '1')\n",
      "[('0', '2'), ('0', '1')]\n",
      "[('1', '3'), ('1', '2')]\n",
      "[0, 1, 2, 3, 4]\n"
     ]
    }
   ],
   "source": [
    "print(graph.edge_weight(0))\n",
    "print(graph.edges(0))\n",
    "print(graph.edges(1))\n",
    "print(graph.edge_indices())\n"
   ]
  },
  {
   "cell_type": "code",
   "execution_count": 86,
   "metadata": {},
   "outputs": [
    {
     "ename": "TypeError",
     "evalue": "Graph.add_edge() missing 3 required positional arguments: 'a', 'b', and 'value'",
     "output_type": "error",
     "traceback": [
      "\u001b[0;31m---------------------------------------------------------------------------\u001b[0m",
      "\u001b[0;31mTypeError\u001b[0m                                 Traceback (most recent call last)",
      "\u001b[1;32m/Users/fuga_takata/dev/vdslab-project/hyperparameter_optimization/params_stress.ipynb Cell 8\u001b[0m in \u001b[0;36m<cell line: 1>\u001b[0;34m()\u001b[0m\n\u001b[0;32m----> <a href='vscode-notebook-cell:/Users/fuga_takata/dev/vdslab-project/hyperparameter_optimization/params_stress.ipynb#X12sZmlsZQ%3D%3D?line=0'>1</a>\u001b[0m graph\u001b[39m.\u001b[39;49madd_edge()\n",
      "\u001b[0;31mTypeError\u001b[0m: Graph.add_edge() missing 3 required positional arguments: 'a', 'b', and 'value'"
     ]
    }
   ],
   "source": [
    "graph.add_edge()"
   ]
  },
  {
   "cell_type": "code",
   "execution_count": 124,
   "metadata": {},
   "outputs": [
    {
     "name": "stdout",
     "output_type": "stream",
     "text": [
      "1.0\n",
      "0.7943282347242814\n",
      "0.6165950018614819\n",
      "0.4666593803142882\n",
      "0.3434788498657801\n",
      "0.24518279977335575\n",
      "0.16921505521851227\n",
      "0.11253377817846805\n",
      "0.0718474220708564\n",
      "0.04385835201909756\n",
      "0.02548340990009201\n",
      "0.014024367830448045\n",
      "0.007270622954918933\n",
      "0.003529626777994801\n",
      "0.0015940489889168697\n",
      "0.0006648931069620805\n",
      "0.0002541130762044737\n",
      "8.821241561819024e-05\n",
      "2.7547531383556598e-05\n",
      "7.657569641252238e-06\n"
     ]
    }
   ],
   "source": [
    "for iter_n in range(1, 20 + 1):\n",
    "    params_v = 10 ** -(1.1 ** (iter_n - 1) - 1)\n",
    "    print(params_v)"
   ]
  }
 ],
 "metadata": {
  "kernelspec": {
   "display_name": "Python 3.9.11 ('.venv': poetry)",
   "language": "python",
   "name": "python3"
  },
  "language_info": {
   "codemirror_mode": {
    "name": "ipython",
    "version": 3
   },
   "file_extension": ".py",
   "mimetype": "text/x-python",
   "name": "python",
   "nbconvert_exporter": "python",
   "pygments_lexer": "ipython3",
   "version": "3.9.11"
  },
  "orig_nbformat": 4,
  "vscode": {
   "interpreter": {
    "hash": "5031a1c082d374b42824ba4074361c835f9bfd3c33854874e61fd39ef2ddb484"
   }
  }
 },
 "nbformat": 4,
 "nbformat_minor": 2
}

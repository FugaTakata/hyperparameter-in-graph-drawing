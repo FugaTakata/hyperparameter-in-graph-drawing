{
 "cells": [
  {
   "cell_type": "code",
   "execution_count": 1,
   "metadata": {},
   "outputs": [],
   "source": [
    "import pandas as pd"
   ]
  },
  {
   "cell_type": "code",
   "execution_count": 2,
   "metadata": {},
   "outputs": [
    {
     "name": "stderr",
     "output_type": "stream",
     "text": [
      "/Users/fuga_takata/dev/vdslab-project/hyperparameter_optimization/.venv/lib/python3.9/site-packages/tqdm/auto.py:22: TqdmWarning: IProgress not found. Please update jupyter and ipywidgets. See https://ipywidgets.readthedocs.io/en/stable/user_install.html\n",
      "  from .autonotebook import tqdm as notebook_tqdm\n"
     ]
    },
    {
     "ename": "NameError",
     "evalue": "name 'FF' is not defined",
     "output_type": "error",
     "traceback": [
      "\u001b[0;31m---------------------------------------------------------------------------\u001b[0m",
      "\u001b[0;31mNameError\u001b[0m                                 Traceback (most recent call last)",
      "Cell \u001b[0;32mIn[2], line 47\u001b[0m\n\u001b[1;32m     33\u001b[0m ALL_QUALITY_METRICS_NAMES \u001b[39m=\u001b[39m [\n\u001b[1;32m     34\u001b[0m     \u001b[39m\"\u001b[39m\u001b[39mangular_resolution\u001b[39m\u001b[39m\"\u001b[39m,\n\u001b[1;32m     35\u001b[0m     \u001b[39m\"\u001b[39m\u001b[39maspect_ratio\u001b[39m\u001b[39m\"\u001b[39m,\n\u001b[0;32m   (...)\u001b[0m\n\u001b[1;32m     43\u001b[0m     \u001b[39m\"\u001b[39m\u001b[39mstress\u001b[39m\u001b[39m\"\u001b[39m,\n\u001b[1;32m     44\u001b[0m ]\n\u001b[1;32m     46\u001b[0m d \u001b[39m=\u001b[39m \u001b[39m\"\u001b[39m\u001b[39mles_miserables\u001b[39m\u001b[39m\"\u001b[39m\n\u001b[0;32m---> 47\u001b[0m l \u001b[39m=\u001b[39m FF\n",
      "\u001b[0;31mNameError\u001b[0m: name 'FF' is not defined"
     ]
    }
   ],
   "source": [
    "# Standard Library\n",
    "import argparse\n",
    "import json\n",
    "import os\n",
    "\n",
    "# Third Party Library\n",
    "import networkx as nx\n",
    "\n",
    "# First Party Library\n",
    "from quality_metrics import (\n",
    "    angular_resolution,\n",
    "    aspect_ratio,\n",
    "    crossing_angle,\n",
    "    crossing_number,\n",
    "    gabriel_graph_property,\n",
    "    ideal_edge_length,\n",
    "    node_resolution,\n",
    "    run_time,\n",
    "    shape_based_metrics,\n",
    "    stress,\n",
    ")\n",
    "from utils.dataset import dataset_names\n",
    "from utils.graph import graph_preprocessing\n",
    "from utils.objective import ss_objective\n",
    "\n",
    "import optuna\n",
    "\n",
    "SS = \"SS\"\n",
    "FR = \"FR\"\n",
    "FM3 = \"FM3\"\n",
    "KK = \"KK\"\n",
    "\n",
    "ALL_QUALITY_METRICS_NAMES = [\n",
    "    \"angular_resolution\",\n",
    "    \"aspect_ratio\",\n",
    "    \"crossing_angle\",\n",
    "    \"crossing_number\",\n",
    "    \"gabriel_graph_property\",\n",
    "    \"ideal_edge_length\",\n",
    "    \"node_resolution\",\n",
    "    \"run_time\",\n",
    "    \"shape_based_metrics\",\n",
    "    \"stress\",\n",
    "]\n",
    "\n",
    "d = \"les_miserables\"\n",
    "l = FR"
   ]
  },
  {
   "cell_type": "code",
   "execution_count": null,
   "metadata": {},
   "outputs": [],
   "source": [
    "df = pd.DataFrame()\n",
    "\n",
    "for q in ALL_QUALITY_METRICS_NAMES:\n",
    "    study = optuna.load_study(\n",
    "        study_name=q,\n",
    "        storage=f\"sqlite:///db/opt/{l}/{d}/{q}.db\",\n",
    "    )\n",
    "    params = study.best_trial.user_attrs[\"params\"]\n",
    "    new_df = pd.DataFrame([{\"target\": q, \"params\": params}])\n",
    "\n",
    "    df = pd.concat([df, new_df])"
   ]
  },
  {
   "cell_type": "code",
   "execution_count": null,
   "metadata": {},
   "outputs": [],
   "source": [
    "import os\n",
    "\n",
    "os.makedirs(f\"data/params/{l}/{d}\", exist_ok=True)\n",
    "pd.to_pickle(df, f\"data/params/{l}/{d}/opt.pkl\")"
   ]
  },
  {
   "cell_type": "code",
   "execution_count": null,
   "metadata": {},
   "outputs": [],
   "source": [
    "df = pd.read_pickle(f'data/params/{l}/{d}/opt.pkl')"
   ]
  },
  {
   "cell_type": "code",
   "execution_count": null,
   "metadata": {},
   "outputs": [],
   "source": [
    "for i, p in df.iterrows():\n",
    "    dc = p.to_dict()\n",
    "    print(dc['target'] ,dc['params'])"
   ]
  }
 ],
 "metadata": {
  "kernelspec": {
   "display_name": ".venv",
   "language": "python",
   "name": "python3"
  },
  "language_info": {
   "codemirror_mode": {
    "name": "ipython",
    "version": 3
   },
   "file_extension": ".py",
   "mimetype": "text/x-python",
   "name": "python",
   "nbconvert_exporter": "python",
   "pygments_lexer": "ipython3",
   "version": "3.9.12"
  },
  "orig_nbformat": 4,
  "vscode": {
   "interpreter": {
    "hash": "5031a1c082d374b42824ba4074361c835f9bfd3c33854874e61fd39ef2ddb484"
   }
  }
 },
 "nbformat": 4,
 "nbformat_minor": 2
}

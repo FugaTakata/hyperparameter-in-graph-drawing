{
 "cells": [
  {
   "cell_type": "code",
   "execution_count": 1,
   "metadata": {},
   "outputs": [
    {
     "name": "stderr",
     "output_type": "stream",
     "text": [
      "/Users/fuga_takata/dev/vdslab-project/hyperparameter_optimization/.venv/lib/python3.9/site-packages/tqdm/auto.py:22: TqdmWarning: IProgress not found. Please update jupyter and ipywidgets. See https://ipywidgets.readthedocs.io/en/stable/user_install.html\n",
      "  from .autonotebook import tqdm as notebook_tqdm\n"
     ]
    }
   ],
   "source": [
    "import optuna\n",
    "\n",
    "SS = \"SS\"\n",
    "FR = \"FR\"\n",
    "FM3 = \"FM3\"\n",
    "KK = \"KK\"\n",
    "\n",
    "ALL_QUALITY_METRICS_NAMES = [\n",
    "    \"angular_resolution\",\n",
    "    \"aspect_ratio\",\n",
    "    \"crossing_angle\",\n",
    "    \"crossing_number\",\n",
    "    \"gabriel_graph_property\",\n",
    "    \"ideal_edge_length\",\n",
    "    \"node_resolution\",\n",
    "    # \"run_time\",\n",
    "    \"shape_based_metrics\",\n",
    "    \"stress\",\n",
    "]\n",
    "\n",
    "d = \"les_miserables\"\n",
    "l = SS"
   ]
  },
  {
   "cell_type": "code",
   "execution_count": 2,
   "metadata": {},
   "outputs": [],
   "source": [
    "import pandas as pd\n",
    "\n",
    "df = pd.DataFrame()\n",
    "\n",
    "for q in ALL_QUALITY_METRICS_NAMES:\n",
    "    study = optuna.load_study(\n",
    "        study_name=q,\n",
    "        storage=f\"sqlite:///db_opt/{l}/{d}/{q}.db\",\n",
    "    )\n",
    "    params = study.best_trial.user_attrs[\"params\"]\n",
    "    new_df = pd.DataFrame([{\"target\": q, \"params\": params}])\n",
    "\n",
    "    df = pd.concat([df, new_df])"
   ]
  },
  {
   "cell_type": "code",
   "execution_count": 3,
   "metadata": {},
   "outputs": [],
   "source": [
    "import os\n",
    "\n",
    "direc = f\"data/params/optimized/{l}/{d}/\"\n",
    "os.makedirs(direc, exist_ok=True)\n",
    "pd.to_pickle(df, f\"{direc}/opt.pkl\")"
   ]
  },
  {
   "cell_type": "code",
   "execution_count": 4,
   "metadata": {},
   "outputs": [],
   "source": [
    "df = pd.read_pickle(f'{direc}/opt.pkl')"
   ]
  },
  {
   "cell_type": "code",
   "execution_count": 6,
   "metadata": {},
   "outputs": [
    {
     "name": "stdout",
     "output_type": "stream",
     "text": [
      "angular_resolution {'edge_length': 30, 'number_of_pivots': 82, 'number_of_iterations': 48, 'eps': 0.5934583596924896}\n",
      "aspect_ratio {'edge_length': 30, 'number_of_pivots': 92, 'number_of_iterations': 137, 'eps': 0.468031523667312}\n",
      "crossing_angle {'edge_length': 30, 'number_of_pivots': 92, 'number_of_iterations': 4, 'eps': 0.8569217549784414}\n",
      "crossing_number {'edge_length': 30, 'number_of_pivots': 97, 'number_of_iterations': 122, 'eps': 0.3308936969846166}\n",
      "gabriel_graph_property {'edge_length': 30, 'number_of_pivots': 55, 'number_of_iterations': 144, 'eps': 0.4266668848633925}\n",
      "ideal_edge_length {'edge_length': 30, 'number_of_pivots': 1, 'number_of_iterations': 61, 'eps': 0.8168328406622302}\n",
      "node_resolution {'edge_length': 30, 'number_of_pivots': 99, 'number_of_iterations': 164, 'eps': 0.12133955238713373}\n",
      "shape_based_metrics {'edge_length': 30, 'number_of_pivots': 81, 'number_of_iterations': 199, 'eps': 0.3563034624672053}\n",
      "stress {'edge_length': 30, 'number_of_pivots': 91, 'number_of_iterations': 106, 'eps': 0.10346628284160582}\n"
     ]
    }
   ],
   "source": [
    "for i, p in df.iterrows():\n",
    "    dc = p.to_dict()\n",
    "    print(dc['target'] ,dc['params'])"
   ]
  }
 ],
 "metadata": {
  "kernelspec": {
   "display_name": ".venv",
   "language": "python",
   "name": "python3"
  },
  "language_info": {
   "codemirror_mode": {
    "name": "ipython",
    "version": 3
   },
   "file_extension": ".py",
   "mimetype": "text/x-python",
   "name": "python",
   "nbconvert_exporter": "python",
   "pygments_lexer": "ipython3",
   "version": "3.9.12"
  },
  "orig_nbformat": 4,
  "vscode": {
   "interpreter": {
    "hash": "5031a1c082d374b42824ba4074361c835f9bfd3c33854874e61fd39ef2ddb484"
   }
  }
 },
 "nbformat": 4,
 "nbformat_minor": 2
}

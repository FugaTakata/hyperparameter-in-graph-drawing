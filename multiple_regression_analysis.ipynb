{
 "cells": [
  {
   "cell_type": "code",
   "execution_count": 77,
   "metadata": {},
   "outputs": [],
   "source": [
    "import json\n",
    "\n",
    "with open('data/rpfs_pos/USpowerGrid.json') as f:\n",
    "    jsondata = json.load(f)\n"
   ]
  },
  {
   "cell_type": "code",
   "execution_count": 78,
   "metadata": {},
   "outputs": [],
   "source": [
    "import numpy as np\n",
    "\n",
    "\n",
    "tq = 'stress'\n",
    "\n",
    "data = []\n",
    "indices = []\n",
    "\n",
    "\n",
    "for i,e in enumerate(jsondata['e']):\n",
    "    params = e['params']\n",
    "    qs = []\n",
    "    n_len = None\n",
    "    for seed in e['seed']:\n",
    "        t = e['seed'][seed]\n",
    "        qs.append(t[tq])\n",
    "        n_len = len([p for p in t['pos']])\n",
    "\n",
    "    data.append([np.mean(np.array(qs)), params['edge_length'], params['number_of_pivots'], params['number_of_iterations'], params['eps']])\n",
    "    # data.append([np.mean(np.array(qs)), (params['edge_length'] - 1) / (100 - 1), (params['number_of_pivots'] - 1) / (n_len - 1), (params['number_of_iterations'] - 1) / (100 - 1), (params['eps'] - 0.01)/(1 - 0.01)])\n",
    "    indices.append(i)\n"
   ]
  },
  {
   "cell_type": "code",
   "execution_count": 79,
   "metadata": {},
   "outputs": [],
   "source": [
    "import pandas as pd\n",
    "\n",
    "df = pd.DataFrame(data, columns=[\n",
    "                  tq, 'edge_length', 'number_of_pivots', 'number_of_iterations', 'eps'])\n"
   ]
  },
  {
   "cell_type": "code",
   "execution_count": 80,
   "metadata": {},
   "outputs": [],
   "source": [
    "x = df[['edge_length', 'number_of_pivots', 'number_of_iterations', 'eps']]\n",
    "y = df[[tq]]\n"
   ]
  },
  {
   "cell_type": "code",
   "execution_count": 81,
   "metadata": {},
   "outputs": [],
   "source": [
    "xss_pd = (x - x.mean()) / x.std()\n",
    "yss_pd = (y - y.mean()) / y.std()\n",
    "# xss_pd = x\n",
    "# yss_pd = y\n"
   ]
  },
  {
   "cell_type": "code",
   "execution_count": 82,
   "metadata": {},
   "outputs": [
    {
     "data": {
      "text/plain": [
       "60"
      ]
     },
     "execution_count": 82,
     "metadata": {},
     "output_type": "execute_result"
    }
   ],
   "source": [
    "x['number_of_iterations'].min()"
   ]
  },
  {
   "cell_type": "code",
   "execution_count": 83,
   "metadata": {},
   "outputs": [
    {
     "name": "stdout",
     "output_type": "stream",
     "text": [
      "['edge_length', 'number_of_pivots', 'number_of_iterations', 'eps']\n",
      "[ 0.96479778  0.15040917 -0.05715426 -0.03797496]\n",
      "[-1.4768147e-16]\n",
      "0.9200841880947177\n"
     ]
    }
   ],
   "source": [
    "from sklearn.linear_model import LinearRegression\n",
    "\n",
    "model_lr_std = LinearRegression()\n",
    "model_lr_std.fit(xss_pd, yss_pd)\n",
    "\n",
    "print(list(x.columns))\n",
    "print(model_lr_std.coef_[0])\n",
    "print(model_lr_std.intercept_)\n",
    "print(model_lr_std.score(xss_pd, yss_pd))"
   ]
  },
  {
   "cell_type": "code",
   "execution_count": 84,
   "metadata": {},
   "outputs": [
    {
     "name": "stdout",
     "output_type": "stream",
     "text": [
      "                            OLS Regression Results                            \n",
      "==============================================================================\n",
      "Dep. Variable:                 stress   R-squared:                       0.920\n",
      "Model:                            OLS   Adj. R-squared:                  0.899\n",
      "Method:                 Least Squares   F-statistic:                     43.17\n",
      "Date:                Wed, 02 Nov 2022   Prob (F-statistic):           4.65e-08\n",
      "Time:                        23:05:24   Log-Likelihood:                -2.5980\n",
      "No. Observations:                  20   AIC:                             15.20\n",
      "Df Residuals:                      15   BIC:                             20.17\n",
      "Df Model:                           4                                         \n",
      "Covariance Type:            nonrobust                                         \n",
      "========================================================================================\n",
      "                           coef    std err          t      P>|t|      [0.025      0.975]\n",
      "----------------------------------------------------------------------------------------\n",
      "const                         0      0.071          0      1.000      -0.152       0.152\n",
      "edge_length              0.9648      0.078     12.341      0.000       0.798       1.131\n",
      "number_of_pivots         0.1504      0.078      1.934      0.072      -0.015       0.316\n",
      "number_of_iterations    -0.0572      0.077     -0.744      0.468      -0.221       0.106\n",
      "eps                     -0.0380      0.078     -0.486      0.634      -0.205       0.129\n",
      "==============================================================================\n",
      "Omnibus:                        3.602   Durbin-Watson:                   2.017\n",
      "Prob(Omnibus):                  0.165   Jarque-Bera (JB):                1.785\n",
      "Skew:                           0.659   Prob(JB):                        0.410\n",
      "Kurtosis:                       3.636   Cond. No.                         1.56\n",
      "==============================================================================\n",
      "\n",
      "Notes:\n",
      "[1] Standard Errors assume that the covariance matrix of the errors is correctly specified.\n"
     ]
    }
   ],
   "source": [
    "import statsmodels.api as sm\n",
    "\n",
    "x_add_const = sm.add_constant(xss_pd)\n",
    "model_sm = sm.OLS(yss_pd, x_add_const).fit()\n",
    "print(model_sm.summary())"
   ]
  },
  {
   "cell_type": "code",
   "execution_count": 85,
   "metadata": {},
   "outputs": [
    {
     "data": {
      "text/plain": [
       "0    -1.578027\n",
       "1     1.261610\n",
       "2    -0.888401\n",
       "3     0.815381\n",
       "4     0.085189\n",
       "5     0.653117\n",
       "6    -0.036510\n",
       "7     1.545574\n",
       "8    -0.726136\n",
       "9    -0.158208\n",
       "10   -1.618593\n",
       "11   -1.010099\n",
       "12   -0.807268\n",
       "13    0.896514\n",
       "14    0.774815\n",
       "15    0.653117\n",
       "16   -0.401606\n",
       "17    0.571984\n",
       "18   -1.334629\n",
       "19    1.302176\n",
       "Name: edge_length, dtype: float64"
      ]
     },
     "execution_count": 85,
     "metadata": {},
     "output_type": "execute_result"
    }
   ],
   "source": [
    "xss_pd['edge_length']"
   ]
  }
 ],
 "metadata": {
  "kernelspec": {
   "display_name": "Python 3.9.11 ('.venv': poetry)",
   "language": "python",
   "name": "python3"
  },
  "language_info": {
   "codemirror_mode": {
    "name": "ipython",
    "version": 3
   },
   "file_extension": ".py",
   "mimetype": "text/x-python",
   "name": "python",
   "nbconvert_exporter": "python",
   "pygments_lexer": "ipython3",
   "version": "3.9.11"
  },
  "orig_nbformat": 4,
  "vscode": {
   "interpreter": {
    "hash": "5031a1c082d374b42824ba4074361c835f9bfd3c33854874e61fd39ef2ddb484"
   }
  }
 },
 "nbformat": 4,
 "nbformat_minor": 2
}

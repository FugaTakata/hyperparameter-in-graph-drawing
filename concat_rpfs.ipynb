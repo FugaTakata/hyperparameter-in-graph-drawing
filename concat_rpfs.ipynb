{
 "cells": [
  {
   "cell_type": "code",
   "execution_count": null,
   "metadata": {},
   "outputs": [],
   "source": [
    "d = \"les_miserables\"\n",
    "l = \"FR\"\n"
   ]
  },
  {
   "cell_type": "code",
   "execution_count": null,
   "metadata": {},
   "outputs": [],
   "source": [
    "import pandas as pd\n",
    "from quality_metrics import (\n",
    "    angular_resolution,\n",
    "    aspect_ratio,\n",
    "    crossing_angle,\n",
    "    crossing_number,\n",
    "    gabriel_graph_property,\n",
    "    ideal_edge_length,\n",
    "    node_resolution,\n",
    "    run_time,\n",
    "    shape_based_metrics,\n",
    "    stress,\n",
    ")\n",
    "import os"
   ]
  },
  {
   "cell_type": "code",
   "execution_count": null,
   "metadata": {},
   "outputs": [],
   "source": [
    "QUALITY_METRICS = {\n",
    "    \"angular_resolution\": angular_resolution,\n",
    "    \"aspect_ratio\": aspect_ratio,\n",
    "    \"crossing_angle\": crossing_angle,\n",
    "    \"crossing_number\": crossing_number,\n",
    "    \"gabriel_graph_property\": gabriel_graph_property,\n",
    "    \"ideal_edge_length\": ideal_edge_length,\n",
    "    \"node_resolution\": node_resolution,\n",
    "    \"run_time\": run_time,\n",
    "    \"shape_based_metrics\": shape_based_metrics,\n",
    "    \"stress\": stress,\n",
    "}\n",
    "\n",
    "\n",
    "ALL_QUALITY_METRICS_NAMES = sorted([name for name in QUALITY_METRICS])"
   ]
  },
  {
   "cell_type": "code",
   "execution_count": null,
   "metadata": {},
   "outputs": [],
   "source": [
    "df = pd.DataFrame()\n",
    "\n",
    "export_directory = f\"data/n_rpfs/{l}/{d}\"\n",
    "\n",
    "filenames = os.listdir(export_directory)\n",
    "for name in filenames:\n",
    "    if \".pkl\" in name and \"ignore\" not in name:\n",
    "        df = pd.concat([df, pd.read_pickle(f\"{export_directory}/{name}\")])\n",
    "\n",
    "df.info()\n",
    "\n",
    "os.makedirs(export_directory, exist_ok=True)\n",
    "df.to_pickle(f\"{export_directory}/ignore_20rp_50fs.pkl\")"
   ]
  },
  {
   "cell_type": "code",
   "execution_count": null,
   "metadata": {},
   "outputs": [],
   "source": [
    "df"
   ]
  }
 ],
 "metadata": {
  "kernelspec": {
   "display_name": ".venv",
   "language": "python",
   "name": "python3"
  },
  "language_info": {
   "codemirror_mode": {
    "name": "ipython",
    "version": 3
   },
   "file_extension": ".py",
   "mimetype": "text/x-python",
   "name": "python",
   "nbconvert_exporter": "python",
   "pygments_lexer": "ipython3",
   "version": "3.9.12 (main, Mar 26 2022, 15:51:15) \n[Clang 13.1.6 (clang-1316.0.21.2)]"
  },
  "orig_nbformat": 4,
  "vscode": {
   "interpreter": {
    "hash": "5031a1c082d374b42824ba4074361c835f9bfd3c33854874e61fd39ef2ddb484"
   }
  }
 },
 "nbformat": 4,
 "nbformat_minor": 2
}

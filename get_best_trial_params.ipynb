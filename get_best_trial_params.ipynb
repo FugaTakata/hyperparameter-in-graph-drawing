{
 "cells": [
  {
   "cell_type": "code",
   "execution_count": 10,
   "metadata": {},
   "outputs": [],
   "source": [
    "import datetime\n",
    "import optuna\n",
    "import json\n",
    "\n",
    "dataset_name = '1138_bus'\n",
    "\n",
    "target_qs = [\n",
    "    'angular_resolution',\n",
    "    'aspect_ratio',\n",
    "    'crossing_angle',\n",
    "    'crossing_number',\n",
    "    'gabriel_graph_property',\n",
    "    'ideal_edge_length',\n",
    "    'node_resolution',\n",
    "    'run_time',\n",
    "    'shape_based_metrics',\n",
    "    'stress'\n",
    "]\n",
    "\n",
    "\n"
   ]
  },
  {
   "cell_type": "code",
   "execution_count": 11,
   "metadata": {},
   "outputs": [],
   "source": [
    "params = {}\n",
    "\n",
    "for target_q in target_qs:\n",
    "    study = optuna.load_study(\n",
    "        study_name=target_q, storage=f'sqlite:///db/optimization/{dataset_name}/{target_q}.db')\n",
    "\n",
    "    params[target_q] = study.best_trial.user_attrs['params']\n"
   ]
  },
  {
   "cell_type": "code",
   "execution_count": 16,
   "metadata": {},
   "outputs": [
    {
     "name": "stdout",
     "output_type": "stream",
     "text": [
      "{'angular_resolution': {'edge_length': 30, 'number_of_pivots': 793, 'number_of_iterations': 60, 'eps': 0.3983202098343257}, 'aspect_ratio': {'edge_length': 30, 'number_of_pivots': 995, 'number_of_iterations': 18, 'eps': 0.48123795334355796}, 'crossing_angle': {'edge_length': 30, 'number_of_pivots': 784, 'number_of_iterations': 188, 'eps': 0.5868096964515409}, 'crossing_number': {'edge_length': 30, 'number_of_pivots': 1107, 'number_of_iterations': 69, 'eps': 0.10153119578082652}, 'gabriel_graph_property': {'edge_length': 30, 'number_of_pivots': 268, 'number_of_iterations': 51, 'eps': 0.690972256274956}, 'ideal_edge_length': {'edge_length': 30, 'number_of_pivots': 1106, 'number_of_iterations': 177, 'eps': 0.137790984937441}, 'node_resolution': {'edge_length': 30, 'number_of_pivots': 1137, 'number_of_iterations': 131, 'eps': 0.025552291554864243}, 'run_time': {'edge_length': 30, 'number_of_pivots': 1, 'number_of_iterations': 7, 'eps': 0.6886625905114283}, 'shape_based_metrics': {'edge_length': 30, 'number_of_pivots': 1130, 'number_of_iterations': 176, 'eps': 0.1656816502384046}, 'stress': {'edge_length': 30, 'number_of_pivots': 1138, 'number_of_iterations': 101, 'eps': 0.09265759799720127}}\n",
      "2022-11-17_16-51-02\n",
      "angular_resolution,aspect_ratio,crossing_angle,crossing_number,gabriel_graph_property,ideal_edge_length,node_resolution,run_time,shape_based_metrics,stress\n"
     ]
    }
   ],
   "source": [
    "print(params)\n",
    "\n",
    "now = datetime.datetime.now().strftime('%Y-%m-%d_%H-%M-%S')\n",
    "print(now)\n",
    "\n",
    "with open(f'data/optimized_params/{dataset_name}/params.json', mode='w') as f:\n",
    "    json.dump(params, f, ensure_ascii=False)"
   ]
  }
 ],
 "metadata": {
  "kernelspec": {
   "display_name": "Python 3.9.11 ('.venv': poetry)",
   "language": "python",
   "name": "python3"
  },
  "language_info": {
   "codemirror_mode": {
    "name": "ipython",
    "version": 3
   },
   "file_extension": ".py",
   "mimetype": "text/x-python",
   "name": "python",
   "nbconvert_exporter": "python",
   "pygments_lexer": "ipython3",
   "version": "3.9.11"
  },
  "orig_nbformat": 4,
  "vscode": {
   "interpreter": {
    "hash": "5031a1c082d374b42824ba4074361c835f9bfd3c33854874e61fd39ef2ddb484"
   }
  }
 },
 "nbformat": 4,
 "nbformat_minor": 2
}

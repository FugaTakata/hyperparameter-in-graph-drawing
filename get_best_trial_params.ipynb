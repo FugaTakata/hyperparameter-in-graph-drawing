{
 "cells": [
  {
   "cell_type": "code",
   "execution_count": null,
   "metadata": {},
   "outputs": [],
   "source": [
    "import optuna\n",
    "\n",
    "dataset_name = 'qh882'\n",
    "\n",
    "target_qs = [\n",
    "    'angular_resolution',\n",
    "    'aspect_ratio',\n",
    "    'crossing_angle',\n",
    "    'crossing_number',\n",
    "    'gabriel_graph_property',\n",
    "    'ideal_edge_length',\n",
    "    'node_resolution',\n",
    "    'run_time',\n",
    "    'shape_based_metrics',\n",
    "    'stress'\n",
    "]\n",
    "\n",
    "\n",
    "params = {}\n",
    "\n",
    "for target_q in target_qs:\n",
    "    study = optuna.load_study(\n",
    "        study_name=target_q, storage=f'sqlite:///db/optimization/{dataset_name}/{target_q}.db')\n",
    "\n",
    "    params[target_q] = study.best_trial.user_attrs['params']\n",
    "\n",
    "print(params)\n"
   ]
  }
 ],
 "metadata": {
  "kernelspec": {
   "display_name": "Python 3.9.11 ('.venv': poetry)",
   "language": "python",
   "name": "python3"
  },
  "language_info": {
   "codemirror_mode": {
    "name": "ipython",
    "version": 3
   },
   "file_extension": ".py",
   "mimetype": "text/x-python",
   "name": "python",
   "nbconvert_exporter": "python",
   "pygments_lexer": "ipython3",
   "version": "3.9.11"
  },
  "orig_nbformat": 4,
  "vscode": {
   "interpreter": {
    "hash": "5031a1c082d374b42824ba4074361c835f9bfd3c33854874e61fd39ef2ddb484"
   }
  }
 },
 "nbformat": 4,
 "nbformat_minor": 2
}

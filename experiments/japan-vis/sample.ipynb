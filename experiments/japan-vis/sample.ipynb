{
 "cells": [
  {
   "cell_type": "code",
   "execution_count": 1,
   "metadata": {},
   "outputs": [],
   "source": [
    "EDGE_WEIGHT = 30"
   ]
  },
  {
   "cell_type": "code",
   "execution_count": 2,
   "metadata": {},
   "outputs": [
    {
     "name": "stderr",
     "output_type": "stream",
     "text": [
      "/Users/fuga_takata/dev/vdslab-project/hyperparameter-in-graph-drawing/.venv/lib/python3.11/site-packages/tqdm/auto.py:21: TqdmWarning: IProgress not found. Please update jupyter and ipywidgets. See https://ipywidgets.readthedocs.io/en/stable/user_install.html\n",
      "  from .autonotebook import tqdm as notebook_tqdm\n"
     ]
    }
   ],
   "source": [
    "# Standard Library\n",
    "import argparse\n",
    "from statistics import median\n",
    "import json\n",
    "\n",
    "# Third Party Library\n",
    "import optuna\n",
    "import pandas as pd\n",
    "from egraph import Drawing, all_sources_bfs\n",
    "from ex_utils.config.dataset import dataset_names\n",
    "from ex_utils.config.paths import get_dataset_path\n",
    "from ex_utils.config.quality_metrics import qm_names\n",
    "from ex_utils.share import (\n",
    "    draw_and_measure,\n",
    "    ex_path,\n",
    "    generate_seed_median_df,\n",
    "    generate_sscalers,\n",
    "    pivots2rate,\n",
    ")\n",
    "from ex_utils.utils.graph import (\n",
    "    egraph_graph,\n",
    "    load_nx_graph,\n",
    "    nx_graph_preprocessing,\n",
    ")"
   ]
  },
  {
   "cell_type": "code",
   "execution_count": 3,
   "metadata": {},
   "outputs": [],
   "source": [
    "with open(ex_path.joinpath(\"data/random.json\")) as f:\n",
    "    random_data = json.load(f)"
   ]
  },
  {
   "cell_type": "code",
   "execution_count": 4,
   "metadata": {},
   "outputs": [
    {
     "name": "stdout",
     "output_type": "stream",
     "text": [
      "{'angular_resolution': 0.07005193856395217, 'aspect_ratio': 0.048683671444146585, 'crossing_angle': 0.02259706452600273, 'crossing_number': 0.0778221706908293, 'gabriel_graph_property': 0.043494554380670986, 'ideal_edge_length': 0.1296386455302672, 'neighborhood_preservation': 0.0428713607961284, 'node_resolution': 0.24723874592393258, 'stress': 0.09198066416663564, 'time_complexity': 0.2256211839774344}\n"
     ]
    },
    {
     "ename": "KeyError",
     "evalue": "'sscaled_angular_resolution'",
     "output_type": "error",
     "traceback": [
      "\u001b[0;31m---------------------------------------------------------------------------\u001b[0m",
      "\u001b[0;31mKeyError\u001b[0m                                  Traceback (most recent call last)",
      "File \u001b[0;32m~/dev/vdslab-project/hyperparameter-in-graph-drawing/.venv/lib/python3.11/site-packages/pandas/core/indexes/base.py:3790\u001b[0m, in \u001b[0;36mIndex.get_loc\u001b[0;34m(self, key)\u001b[0m\n\u001b[1;32m   3789\u001b[0m \u001b[39mtry\u001b[39;00m:\n\u001b[0;32m-> 3790\u001b[0m     \u001b[39mreturn\u001b[39;00m \u001b[39mself\u001b[39;49m\u001b[39m.\u001b[39;49m_engine\u001b[39m.\u001b[39;49mget_loc(casted_key)\n\u001b[1;32m   3791\u001b[0m \u001b[39mexcept\u001b[39;00m \u001b[39mKeyError\u001b[39;00m \u001b[39mas\u001b[39;00m err:\n",
      "File \u001b[0;32mindex.pyx:152\u001b[0m, in \u001b[0;36mpandas._libs.index.IndexEngine.get_loc\u001b[0;34m()\u001b[0m\n",
      "File \u001b[0;32mindex.pyx:181\u001b[0m, in \u001b[0;36mpandas._libs.index.IndexEngine.get_loc\u001b[0;34m()\u001b[0m\n",
      "File \u001b[0;32mpandas/_libs/hashtable_class_helper.pxi:7080\u001b[0m, in \u001b[0;36mpandas._libs.hashtable.PyObjectHashTable.get_item\u001b[0;34m()\u001b[0m\n",
      "File \u001b[0;32mpandas/_libs/hashtable_class_helper.pxi:7088\u001b[0m, in \u001b[0;36mpandas._libs.hashtable.PyObjectHashTable.get_item\u001b[0;34m()\u001b[0m\n",
      "\u001b[0;31mKeyError\u001b[0m: 'sscaled_angular_resolution'",
      "\nThe above exception was the direct cause of the following exception:\n",
      "\u001b[0;31mKeyError\u001b[0m                                  Traceback (most recent call last)",
      "\u001b[1;32m/Users/fuga_takata/dev/vdslab-project/hyperparameter-in-graph-drawing/experiments/japan-vis/sample.ipynb Cell 4\u001b[0m line \u001b[0;36m3\n\u001b[1;32m     <a href='vscode-notebook-cell:/Users/fuga_takata/dev/vdslab-project/hyperparameter-in-graph-drawing/experiments/japan-vis/sample.ipynb#W4sZmlsZQ%3D%3D?line=22'>23</a>\u001b[0m baseline_sscalers \u001b[39m=\u001b[39m generate_sscalers(baseline_df)\n\u001b[1;32m     <a href='vscode-notebook-cell:/Users/fuga_takata/dev/vdslab-project/hyperparameter-in-graph-drawing/experiments/japan-vis/sample.ipynb#W4sZmlsZQ%3D%3D?line=24'>25</a>\u001b[0m baseline_df[\u001b[39mf\u001b[39m\u001b[39m\"\u001b[39m\u001b[39msscaled_\u001b[39m\u001b[39m{\u001b[39;00mqm_name\u001b[39m}\u001b[39;00m\u001b[39m\"\u001b[39m] \u001b[39m=\u001b[39m baseline_sscalers[qm_name]\u001b[39m.\u001b[39mtransform(\n\u001b[1;32m     <a href='vscode-notebook-cell:/Users/fuga_takata/dev/vdslab-project/hyperparameter-in-graph-drawing/experiments/japan-vis/sample.ipynb#W4sZmlsZQ%3D%3D?line=25'>26</a>\u001b[0m     baseline_df[\u001b[39mf\u001b[39m\u001b[39m\"\u001b[39m\u001b[39mvalues_\u001b[39m\u001b[39m{\u001b[39;00mqm_name\u001b[39m}\u001b[39;00m\u001b[39m\"\u001b[39m]\u001b[39m.\u001b[39mvalues\u001b[39m.\u001b[39mreshape(\u001b[39m-\u001b[39m\u001b[39m1\u001b[39m, \u001b[39m1\u001b[39m)\n\u001b[1;32m     <a href='vscode-notebook-cell:/Users/fuga_takata/dev/vdslab-project/hyperparameter-in-graph-drawing/experiments/japan-vis/sample.ipynb#W4sZmlsZQ%3D%3D?line=26'>27</a>\u001b[0m )\n\u001b[1;32m     <a href='vscode-notebook-cell:/Users/fuga_takata/dev/vdslab-project/hyperparameter-in-graph-drawing/experiments/japan-vis/sample.ipynb#W4sZmlsZQ%3D%3D?line=28'>29</a>\u001b[0m baseline_df[\u001b[39m\"\u001b[39m\u001b[39mweighted_sscaled_sum\u001b[39m\u001b[39m\"\u001b[39m] \u001b[39m=\u001b[39m \u001b[39msum\u001b[39m(\n\u001b[0;32m---> <a href='vscode-notebook-cell:/Users/fuga_takata/dev/vdslab-project/hyperparameter-in-graph-drawing/experiments/japan-vis/sample.ipynb#W4sZmlsZQ%3D%3D?line=29'>30</a>\u001b[0m     [\n\u001b[1;32m     <a href='vscode-notebook-cell:/Users/fuga_takata/dev/vdslab-project/hyperparameter-in-graph-drawing/experiments/japan-vis/sample.ipynb#W4sZmlsZQ%3D%3D?line=30'>31</a>\u001b[0m         baseline_df[\u001b[39mf\u001b[39;49m\u001b[39m\"\u001b[39;49m\u001b[39msscaled_\u001b[39;49m\u001b[39m{\u001b[39;49;00mqm_name\u001b[39m}\u001b[39;49;00m\u001b[39m\"\u001b[39;49m] \u001b[39m*\u001b[39;49m pref[qm_name]\n\u001b[1;32m     <a href='vscode-notebook-cell:/Users/fuga_takata/dev/vdslab-project/hyperparameter-in-graph-drawing/experiments/japan-vis/sample.ipynb#W4sZmlsZQ%3D%3D?line=31'>32</a>\u001b[0m         \u001b[39mfor\u001b[39;49;00m qm_name \u001b[39min\u001b[39;49;00m qm_names\n\u001b[1;32m     <a href='vscode-notebook-cell:/Users/fuga_takata/dev/vdslab-project/hyperparameter-in-graph-drawing/experiments/japan-vis/sample.ipynb#W4sZmlsZQ%3D%3D?line=32'>33</a>\u001b[0m     ]\n\u001b[1;32m     <a href='vscode-notebook-cell:/Users/fuga_takata/dev/vdslab-project/hyperparameter-in-graph-drawing/experiments/japan-vis/sample.ipynb#W4sZmlsZQ%3D%3D?line=33'>34</a>\u001b[0m )\n\u001b[1;32m     <a href='vscode-notebook-cell:/Users/fuga_takata/dev/vdslab-project/hyperparameter-in-graph-drawing/experiments/japan-vis/sample.ipynb#W4sZmlsZQ%3D%3D?line=34'>35</a>\u001b[0m baseline_max \u001b[39m=\u001b[39m baseline_df\u001b[39m.\u001b[39mloc[\n\u001b[1;32m     <a href='vscode-notebook-cell:/Users/fuga_takata/dev/vdslab-project/hyperparameter-in-graph-drawing/experiments/japan-vis/sample.ipynb#W4sZmlsZQ%3D%3D?line=35'>36</a>\u001b[0m     baseline_df[\u001b[39m\"\u001b[39m\u001b[39mweighted_sscaled_sum\u001b[39m\u001b[39m\"\u001b[39m]\u001b[39m.\u001b[39midxmax()\n\u001b[1;32m     <a href='vscode-notebook-cell:/Users/fuga_takata/dev/vdslab-project/hyperparameter-in-graph-drawing/experiments/japan-vis/sample.ipynb#W4sZmlsZQ%3D%3D?line=36'>37</a>\u001b[0m ]\n\u001b[1;32m     <a href='vscode-notebook-cell:/Users/fuga_takata/dev/vdslab-project/hyperparameter-in-graph-drawing/experiments/japan-vis/sample.ipynb#W4sZmlsZQ%3D%3D?line=38'>39</a>\u001b[0m result \u001b[39m=\u001b[39m {}\n",
      "\u001b[1;32m/Users/fuga_takata/dev/vdslab-project/hyperparameter-in-graph-drawing/experiments/japan-vis/sample.ipynb Cell 4\u001b[0m line \u001b[0;36m3\n\u001b[1;32m     <a href='vscode-notebook-cell:/Users/fuga_takata/dev/vdslab-project/hyperparameter-in-graph-drawing/experiments/japan-vis/sample.ipynb#W4sZmlsZQ%3D%3D?line=22'>23</a>\u001b[0m baseline_sscalers \u001b[39m=\u001b[39m generate_sscalers(baseline_df)\n\u001b[1;32m     <a href='vscode-notebook-cell:/Users/fuga_takata/dev/vdslab-project/hyperparameter-in-graph-drawing/experiments/japan-vis/sample.ipynb#W4sZmlsZQ%3D%3D?line=24'>25</a>\u001b[0m baseline_df[\u001b[39mf\u001b[39m\u001b[39m\"\u001b[39m\u001b[39msscaled_\u001b[39m\u001b[39m{\u001b[39;00mqm_name\u001b[39m}\u001b[39;00m\u001b[39m\"\u001b[39m] \u001b[39m=\u001b[39m baseline_sscalers[qm_name]\u001b[39m.\u001b[39mtransform(\n\u001b[1;32m     <a href='vscode-notebook-cell:/Users/fuga_takata/dev/vdslab-project/hyperparameter-in-graph-drawing/experiments/japan-vis/sample.ipynb#W4sZmlsZQ%3D%3D?line=25'>26</a>\u001b[0m     baseline_df[\u001b[39mf\u001b[39m\u001b[39m\"\u001b[39m\u001b[39mvalues_\u001b[39m\u001b[39m{\u001b[39;00mqm_name\u001b[39m}\u001b[39;00m\u001b[39m\"\u001b[39m]\u001b[39m.\u001b[39mvalues\u001b[39m.\u001b[39mreshape(\u001b[39m-\u001b[39m\u001b[39m1\u001b[39m, \u001b[39m1\u001b[39m)\n\u001b[1;32m     <a href='vscode-notebook-cell:/Users/fuga_takata/dev/vdslab-project/hyperparameter-in-graph-drawing/experiments/japan-vis/sample.ipynb#W4sZmlsZQ%3D%3D?line=26'>27</a>\u001b[0m )\n\u001b[1;32m     <a href='vscode-notebook-cell:/Users/fuga_takata/dev/vdslab-project/hyperparameter-in-graph-drawing/experiments/japan-vis/sample.ipynb#W4sZmlsZQ%3D%3D?line=28'>29</a>\u001b[0m baseline_df[\u001b[39m\"\u001b[39m\u001b[39mweighted_sscaled_sum\u001b[39m\u001b[39m\"\u001b[39m] \u001b[39m=\u001b[39m \u001b[39msum\u001b[39m(\n\u001b[1;32m     <a href='vscode-notebook-cell:/Users/fuga_takata/dev/vdslab-project/hyperparameter-in-graph-drawing/experiments/japan-vis/sample.ipynb#W4sZmlsZQ%3D%3D?line=29'>30</a>\u001b[0m     [\n\u001b[0;32m---> <a href='vscode-notebook-cell:/Users/fuga_takata/dev/vdslab-project/hyperparameter-in-graph-drawing/experiments/japan-vis/sample.ipynb#W4sZmlsZQ%3D%3D?line=30'>31</a>\u001b[0m         baseline_df[\u001b[39mf\u001b[39;49m\u001b[39m\"\u001b[39;49m\u001b[39msscaled_\u001b[39;49m\u001b[39m{\u001b[39;49;00mqm_name\u001b[39m}\u001b[39;49;00m\u001b[39m\"\u001b[39;49m] \u001b[39m*\u001b[39m pref[qm_name]\n\u001b[1;32m     <a href='vscode-notebook-cell:/Users/fuga_takata/dev/vdslab-project/hyperparameter-in-graph-drawing/experiments/japan-vis/sample.ipynb#W4sZmlsZQ%3D%3D?line=31'>32</a>\u001b[0m         \u001b[39mfor\u001b[39;00m qm_name \u001b[39min\u001b[39;00m qm_names\n\u001b[1;32m     <a href='vscode-notebook-cell:/Users/fuga_takata/dev/vdslab-project/hyperparameter-in-graph-drawing/experiments/japan-vis/sample.ipynb#W4sZmlsZQ%3D%3D?line=32'>33</a>\u001b[0m     ]\n\u001b[1;32m     <a href='vscode-notebook-cell:/Users/fuga_takata/dev/vdslab-project/hyperparameter-in-graph-drawing/experiments/japan-vis/sample.ipynb#W4sZmlsZQ%3D%3D?line=33'>34</a>\u001b[0m )\n\u001b[1;32m     <a href='vscode-notebook-cell:/Users/fuga_takata/dev/vdslab-project/hyperparameter-in-graph-drawing/experiments/japan-vis/sample.ipynb#W4sZmlsZQ%3D%3D?line=34'>35</a>\u001b[0m baseline_max \u001b[39m=\u001b[39m baseline_df\u001b[39m.\u001b[39mloc[\n\u001b[1;32m     <a href='vscode-notebook-cell:/Users/fuga_takata/dev/vdslab-project/hyperparameter-in-graph-drawing/experiments/japan-vis/sample.ipynb#W4sZmlsZQ%3D%3D?line=35'>36</a>\u001b[0m     baseline_df[\u001b[39m\"\u001b[39m\u001b[39mweighted_sscaled_sum\u001b[39m\u001b[39m\"\u001b[39m]\u001b[39m.\u001b[39midxmax()\n\u001b[1;32m     <a href='vscode-notebook-cell:/Users/fuga_takata/dev/vdslab-project/hyperparameter-in-graph-drawing/experiments/japan-vis/sample.ipynb#W4sZmlsZQ%3D%3D?line=36'>37</a>\u001b[0m ]\n\u001b[1;32m     <a href='vscode-notebook-cell:/Users/fuga_takata/dev/vdslab-project/hyperparameter-in-graph-drawing/experiments/japan-vis/sample.ipynb#W4sZmlsZQ%3D%3D?line=38'>39</a>\u001b[0m result \u001b[39m=\u001b[39m {}\n",
      "File \u001b[0;32m~/dev/vdslab-project/hyperparameter-in-graph-drawing/.venv/lib/python3.11/site-packages/pandas/core/frame.py:3896\u001b[0m, in \u001b[0;36mDataFrame.__getitem__\u001b[0;34m(self, key)\u001b[0m\n\u001b[1;32m   3894\u001b[0m \u001b[39mif\u001b[39;00m \u001b[39mself\u001b[39m\u001b[39m.\u001b[39mcolumns\u001b[39m.\u001b[39mnlevels \u001b[39m>\u001b[39m \u001b[39m1\u001b[39m:\n\u001b[1;32m   3895\u001b[0m     \u001b[39mreturn\u001b[39;00m \u001b[39mself\u001b[39m\u001b[39m.\u001b[39m_getitem_multilevel(key)\n\u001b[0;32m-> 3896\u001b[0m indexer \u001b[39m=\u001b[39m \u001b[39mself\u001b[39;49m\u001b[39m.\u001b[39;49mcolumns\u001b[39m.\u001b[39;49mget_loc(key)\n\u001b[1;32m   3897\u001b[0m \u001b[39mif\u001b[39;00m is_integer(indexer):\n\u001b[1;32m   3898\u001b[0m     indexer \u001b[39m=\u001b[39m [indexer]\n",
      "File \u001b[0;32m~/dev/vdslab-project/hyperparameter-in-graph-drawing/.venv/lib/python3.11/site-packages/pandas/core/indexes/base.py:3797\u001b[0m, in \u001b[0;36mIndex.get_loc\u001b[0;34m(self, key)\u001b[0m\n\u001b[1;32m   3792\u001b[0m     \u001b[39mif\u001b[39;00m \u001b[39misinstance\u001b[39m(casted_key, \u001b[39mslice\u001b[39m) \u001b[39mor\u001b[39;00m (\n\u001b[1;32m   3793\u001b[0m         \u001b[39misinstance\u001b[39m(casted_key, abc\u001b[39m.\u001b[39mIterable)\n\u001b[1;32m   3794\u001b[0m         \u001b[39mand\u001b[39;00m \u001b[39many\u001b[39m(\u001b[39misinstance\u001b[39m(x, \u001b[39mslice\u001b[39m) \u001b[39mfor\u001b[39;00m x \u001b[39min\u001b[39;00m casted_key)\n\u001b[1;32m   3795\u001b[0m     ):\n\u001b[1;32m   3796\u001b[0m         \u001b[39mraise\u001b[39;00m InvalidIndexError(key)\n\u001b[0;32m-> 3797\u001b[0m     \u001b[39mraise\u001b[39;00m \u001b[39mKeyError\u001b[39;00m(key) \u001b[39mfrom\u001b[39;00m \u001b[39merr\u001b[39;00m\n\u001b[1;32m   3798\u001b[0m \u001b[39mexcept\u001b[39;00m \u001b[39mTypeError\u001b[39;00m:\n\u001b[1;32m   3799\u001b[0m     \u001b[39m# If we have a listlike key, _check_indexing_error will raise\u001b[39;00m\n\u001b[1;32m   3800\u001b[0m     \u001b[39m#  InvalidIndexError. Otherwise we fall through and re-raise\u001b[39;00m\n\u001b[1;32m   3801\u001b[0m     \u001b[39m#  the TypeError.\u001b[39;00m\n\u001b[1;32m   3802\u001b[0m     \u001b[39mself\u001b[39m\u001b[39m.\u001b[39m_check_indexing_error(key)\n",
      "\u001b[0;31mKeyError\u001b[0m: 'sscaled_angular_resolution'"
     ]
    }
   ],
   "source": [
    "seeds = list(range(15))\n",
    "n_split = 10\n",
    "n_samples = [50, 100, 500]\n",
    "d_name = \"USpowerGrid\"\n",
    "\n",
    "for random_pref in random_data:\n",
    "    pref = {}\n",
    "    pref_sum = sum(random_pref)\n",
    "    for qm_name, p in zip(qm_names, random_pref):\n",
    "        pref[qm_name] = p / pref_sum\n",
    "\n",
    "    print(pref)\n",
    "\n",
    "    baseline_df_paths = [\n",
    "        ex_path.joinpath(\n",
    "            f\"data/grid/{d_name}/n_split={n_split}/seed={data_seed}.pkl\"\n",
    "        )\n",
    "        for data_seed in seeds\n",
    "    ]\n",
    "    baseline_df = generate_seed_median_df(\n",
    "        pd.concat([pd.read_pickle(df_path) for df_path in baseline_df_paths])\n",
    "    )\n",
    "    baseline_sscalers = generate_sscalers(baseline_df)\n",
    "\n",
    "    for qm_name in qm_names:\n",
    "        baseline_df[f\"sscaled_{qm_name}\"] = baseline_sscalers[\n",
    "            qm_name\n",
    "        ].transform(baseline_df[f\"values_{qm_name}\"].values.reshape(-1, 1))\n",
    "\n",
    "    baseline_df[\"weighted_sscaled_sum\"] = sum(\n",
    "        [\n",
    "            baseline_df[f\"sscaled_{qm_name}\"] * pref[qm_name]\n",
    "            for qm_name in qm_names\n",
    "        ]\n",
    "    )\n",
    "    baseline_max = baseline_df.loc[\n",
    "        baseline_df[\"weighted_sscaled_sum\"].idxmax()\n",
    "    ]\n",
    "\n",
    "    result = {}\n",
    "\n",
    "    for n_sample in n_samples:\n",
    "        result[\"all\"] = 0\n",
    "        result[n_sample] = 0\n",
    "        points_dir = ex_path.joinpath(\n",
    "            f\"data/sampled_points/{d_name}/n_split={n_split}/n_sample={n_sample}/\"\n",
    "        )\n",
    "        for path in points_dir.iterdir():\n",
    "            result[\"all\"] += 1\n",
    "            target_df = pd.read_pickle(path)\n",
    "            sscalers = generate_sscalers(target_df)\n",
    "\n",
    "            for qm_name in qm_names:\n",
    "                target_df[f\"sscaled_{qm_name}\"] = sscalers[qm_name].transform(\n",
    "                    target_df[f\"values_{qm_name}\"].values.reshape(-1, 1)\n",
    "                )\n",
    "\n",
    "            target_df[\"weighted_sscaled_sum\"] = sum(\n",
    "                [\n",
    "                    target_df[f\"sscaled_{qm_name}\"] * pref[qm_name]\n",
    "                    for qm_name in qm_names\n",
    "                ]\n",
    "            )\n",
    "            max_row = target_df.loc[target_df[\"weighted_sscaled_sum\"].idxmax()]\n",
    "\n",
    "            scaled_qm = dict(\n",
    "                [\n",
    "                    (\n",
    "                        qm_name,\n",
    "                        baseline_sscalers[qm_name].transform(\n",
    "                            [[max_row[f\"values_{qm_name}\"]]]\n",
    "                        )[0][0],\n",
    "                    )\n",
    "                    for qm_name in qm_names\n",
    "                ]\n",
    "            )\n",
    "            weighted_sacled_qm_sum = sum(\n",
    "                [scaled_qm[qm_name] * pref[qm_name] for qm_name in qm_names]\n",
    "            )\n",
    "\n",
    "            if baseline_max[\"weighted_sscaled_sum\"] < weighted_sacled_qm_sum:\n",
    "                result[n_sample] += 1"
   ]
  },
  {
   "cell_type": "code",
   "execution_count": null,
   "metadata": {},
   "outputs": [],
   "source": [
    "target_df"
   ]
  },
  {
   "cell_type": "code",
   "execution_count": null,
   "metadata": {},
   "outputs": [],
   "source": [
    "pd.read_pickle(\n",
    "    \"/Users/fuga_takata/dev/vdslab-project/hyperparameter-in-graph-drawing/experiments/japan-vis/data/sampled_points/1138_bus/n_split=10/n_sample=50/0aeab76d-55a8-48a3-9978-f0b1017f6c0c.pkl\"\n",
    ")"
   ]
  }
 ],
 "metadata": {
  "kernelspec": {
   "display_name": ".venv",
   "language": "python",
   "name": "python3"
  },
  "language_info": {
   "codemirror_mode": {
    "name": "ipython",
    "version": 3
   },
   "file_extension": ".py",
   "mimetype": "text/x-python",
   "name": "python",
   "nbconvert_exporter": "python",
   "pygments_lexer": "ipython3",
   "version": "3.11.4"
  }
 },
 "nbformat": 4,
 "nbformat_minor": 2
}

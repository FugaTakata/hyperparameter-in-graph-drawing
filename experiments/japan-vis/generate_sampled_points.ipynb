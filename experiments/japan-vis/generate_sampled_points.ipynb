{
 "cells": [
  {
   "cell_type": "code",
   "execution_count": 1,
   "metadata": {},
   "outputs": [],
   "source": [
    "# Standard Library\n",
    "import uuid\n",
    "import argparse\n",
    "\n",
    "# Third Party Library\n",
    "import pandas as pd\n",
    "from ex_utils.config.dataset import dataset_names\n",
    "from ex_utils.share import (\n",
    "    ex_path,\n",
    "    generate_seed_median_df,\n",
    ")\n",
    "\n",
    "n = 100\n",
    "\n",
    "n_sample = 50\n",
    "n_split = 10\n",
    "\n",
    "d_names = [\n",
    "    \"1138_bus\",\n",
    "    \"USpowerGrid\",\n",
    "    \"dwt_1005\",\n",
    "    \"poli\",\n",
    "    \"qh882\",\n",
    "    \"3elt\",\n",
    "    \"dwt_2680\",\n",
    "]\n",
    "\n",
    "\n",
    "df_paths = [\n",
    "    ex_path.joinpath(\n",
    "        f\"data/grid/qh882/n_split={n_split}/seed={data_seed}.pkl\"\n",
    "    )\n",
    "    for data_seed in list(range(15))\n",
    "]\n",
    "df = pd.concat([pd.read_pickle(df_path) for df_path in df_paths])\n",
    "mdf = generate_seed_median_df(df)\n",
    "for _ in range(n):\n",
    "    sampled_grid = mdf.sample(n=n_sample)\n",
    "\n",
    "    id = uuid.uuid4()\n",
    "    for d_name in d_names:\n",
    "        df_paths = [\n",
    "            ex_path.joinpath(\n",
    "                f\"data/grid/{d_name}/n_split={n_split}/seed={data_seed}.pkl\"\n",
    "            )\n",
    "            for data_seed in list(range(15))\n",
    "        ]\n",
    "        df = pd.concat([pd.read_pickle(df_path) for df_path in df_paths])\n",
    "        mdf = generate_seed_median_df(df)\n",
    "        export_path = ex_path.joinpath(\n",
    "            f\"data/sampled_points/{d_name}/n_split={n_split}/n_sample={n_sample}/{id}.pkl\"\n",
    "        )\n",
    "\n",
    "        export_path.parent.mkdir(parents=True, exist_ok=True)\n",
    "        d_sampled = mdf.loc[sampled_grid.index]\n",
    "        d_sampled.to_pickle(export_path)"
   ]
  }
 ],
 "metadata": {
  "kernelspec": {
   "display_name": ".venv",
   "language": "python",
   "name": "python3"
  },
  "language_info": {
   "codemirror_mode": {
    "name": "ipython",
    "version": 3
   },
   "file_extension": ".py",
   "mimetype": "text/x-python",
   "name": "python",
   "nbconvert_exporter": "python",
   "pygments_lexer": "ipython3",
   "version": "3.11.4"
  }
 },
 "nbformat": 4,
 "nbformat_minor": 2
}

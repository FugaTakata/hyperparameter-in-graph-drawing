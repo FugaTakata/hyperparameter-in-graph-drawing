{
 "cells": [
  {
   "cell_type": "code",
   "execution_count": 3,
   "metadata": {},
   "outputs": [
    {
     "name": "stdout",
     "output_type": "stream",
     "text": [
      "1138_bus 1138 1458\n",
      "3elt 4720 13722\n",
      "USpowerGrid 4941 6594\n",
      "bull 5 5\n",
      "chvatal 12 24\n",
      "cubical 8 12\n",
      "davis_southern_women 32 89\n",
      "desargues 20 30\n",
      "diamond 4 5\n",
      "dodecahedral 20 30\n",
      "dwt_1005 1005 3808\n",
      "dwt_2680 2680 11173\n",
      "florentine_families 15 20\n",
      "frucht 12 18\n",
      "heawood 14 21\n",
      "hoffman_singleton 50 175\n",
      "house 5 6\n",
      "house_x 5 8\n",
      "icosahedral 12 30\n",
      "karate_club 34 78\n",
      "krackhardt_kite 10 18\n",
      "les_miserables 77 254\n",
      "moebius_kantor 16 24\n",
      "octahedral 6 12\n"
     ]
    },
    {
     "ename": "KeyError",
     "evalue": "'nodes'",
     "output_type": "error",
     "traceback": [
      "\u001b[0;31m---------------------------------------------------------------------------\u001b[0m",
      "\u001b[0;31mKeyError\u001b[0m                                  Traceback (most recent call last)",
      "\u001b[1;32m/Users/fuga_takata/dev/vdslab-project/hyperparameter-in-graph-drawing/experiments/optimization/show_graph_info.ipynb Cell 1\u001b[0m line \u001b[0;36m2\n\u001b[1;32m     <a href='vscode-notebook-cell:/Users/fuga_takata/dev/vdslab-project/hyperparameter-in-graph-drawing/experiments/optimization/show_graph_info.ipynb#W0sZmlsZQ%3D%3D?line=25'>26</a>\u001b[0m \u001b[39mfor\u001b[39;00m dataset_name \u001b[39min\u001b[39;00m dataset_names:\n\u001b[1;32m     <a href='vscode-notebook-cell:/Users/fuga_takata/dev/vdslab-project/hyperparameter-in-graph-drawing/experiments/optimization/show_graph_info.ipynb#W0sZmlsZQ%3D%3D?line=26'>27</a>\u001b[0m     dataset_path \u001b[39m=\u001b[39m get_dataset_path(dataset_name)\n\u001b[1;32m     <a href='vscode-notebook-cell:/Users/fuga_takata/dev/vdslab-project/hyperparameter-in-graph-drawing/experiments/optimization/show_graph_info.ipynb#W0sZmlsZQ%3D%3D?line=27'>28</a>\u001b[0m     nx_graph \u001b[39m=\u001b[39m nx_graph_preprocessing(\n\u001b[0;32m---> <a href='vscode-notebook-cell:/Users/fuga_takata/dev/vdslab-project/hyperparameter-in-graph-drawing/experiments/optimization/show_graph_info.ipynb#W0sZmlsZQ%3D%3D?line=28'>29</a>\u001b[0m         load_nx_graph(dataset_path\u001b[39m=\u001b[39;49mdataset_path), EDGE_WEIGHT\n\u001b[1;32m     <a href='vscode-notebook-cell:/Users/fuga_takata/dev/vdslab-project/hyperparameter-in-graph-drawing/experiments/optimization/show_graph_info.ipynb#W0sZmlsZQ%3D%3D?line=29'>30</a>\u001b[0m     )\n\u001b[1;32m     <a href='vscode-notebook-cell:/Users/fuga_takata/dev/vdslab-project/hyperparameter-in-graph-drawing/experiments/optimization/show_graph_info.ipynb#W0sZmlsZQ%3D%3D?line=31'>32</a>\u001b[0m     graph_size \u001b[39m=\u001b[39m \u001b[39mlen\u001b[39m(nx_graph\u001b[39m.\u001b[39mnodes)\n\u001b[1;32m     <a href='vscode-notebook-cell:/Users/fuga_takata/dev/vdslab-project/hyperparameter-in-graph-drawing/experiments/optimization/show_graph_info.ipynb#W0sZmlsZQ%3D%3D?line=32'>33</a>\u001b[0m     edge_count \u001b[39m=\u001b[39m \u001b[39mlen\u001b[39m(nx_graph\u001b[39m.\u001b[39medges)\n",
      "File \u001b[0;32m~/dev/vdslab-project/hyperparameter-in-graph-drawing/experiments/optimization/ex_utils/utils/graph.py:13\u001b[0m, in \u001b[0;36mload_nx_graph\u001b[0;34m(dataset_path)\u001b[0m\n\u001b[1;32m     11\u001b[0m \u001b[39mwith\u001b[39;00m \u001b[39mopen\u001b[39m(dataset_path) \u001b[39mas\u001b[39;00m f:\n\u001b[1;32m     12\u001b[0m     graph_data \u001b[39m=\u001b[39m json\u001b[39m.\u001b[39mload(f)\n\u001b[0;32m---> 13\u001b[0m \u001b[39mreturn\u001b[39;00m nx\u001b[39m.\u001b[39;49mnode_link_graph(graph_data)\n",
      "File \u001b[0;32m~/dev/vdslab-project/hyperparameter-in-graph-drawing/.venv/lib/python3.11/site-packages/networkx/readwrite/json_graph/node_link.py:321\u001b[0m, in \u001b[0;36mnode_link_graph\u001b[0;34m(data, directed, multigraph, attrs, source, target, name, key, link)\u001b[0m\n\u001b[1;32m    319\u001b[0m graph\u001b[39m.\u001b[39mgraph \u001b[39m=\u001b[39m data\u001b[39m.\u001b[39mget(\u001b[39m\"\u001b[39m\u001b[39mgraph\u001b[39m\u001b[39m\"\u001b[39m, {})\n\u001b[1;32m    320\u001b[0m c \u001b[39m=\u001b[39m count()\n\u001b[0;32m--> 321\u001b[0m \u001b[39mfor\u001b[39;00m d \u001b[39min\u001b[39;00m data[\u001b[39m\"\u001b[39;49m\u001b[39mnodes\u001b[39;49m\u001b[39m\"\u001b[39;49m]:\n\u001b[1;32m    322\u001b[0m     node \u001b[39m=\u001b[39m _to_tuple(d\u001b[39m.\u001b[39mget(name, \u001b[39mnext\u001b[39m(c)))\n\u001b[1;32m    323\u001b[0m     nodedata \u001b[39m=\u001b[39m {\u001b[39mstr\u001b[39m(k): v \u001b[39mfor\u001b[39;00m k, v \u001b[39min\u001b[39;00m d\u001b[39m.\u001b[39mitems() \u001b[39mif\u001b[39;00m k \u001b[39m!=\u001b[39m name}\n",
      "\u001b[0;31mKeyError\u001b[0m: 'nodes'"
     ]
    }
   ],
   "source": [
    "# Standard Library\n",
    "import argparse\n",
    "import math\n",
    "\n",
    "# Third Party Library\n",
    "import pandas as pd\n",
    "from egraph import Drawing, all_sources_bfs\n",
    "from ex_utils.config.dataset import dataset_names\n",
    "from ex_utils.config.paths import get_dataset_path\n",
    "from ex_utils.share import (\n",
    "    draw_and_measure,\n",
    "    ex_path,\n",
    "    generate_base_df_data,\n",
    "    generate_hp_grid,\n",
    ")\n",
    "from ex_utils.utils.graph import (\n",
    "    egraph_graph,\n",
    "    load_nx_graph,\n",
    "    nx_graph_preprocessing,\n",
    ")\n",
    "from tqdm import tqdm\n",
    "\n",
    "EDGE_WEIGHT = 30\n",
    "\n",
    "\n",
    "for dataset_name in dataset_names:\n",
    "    dataset_path = get_dataset_path(dataset_name)\n",
    "    nx_graph = nx_graph_preprocessing(\n",
    "        load_nx_graph(dataset_path=dataset_path), EDGE_WEIGHT\n",
    "    )\n",
    "\n",
    "    graph_size = len(nx_graph.nodes)\n",
    "    edge_count = len(nx_graph.edges)\n",
    "    print(dataset_name, graph_size, edge_count)"
   ]
  }
 ],
 "metadata": {
  "kernelspec": {
   "display_name": ".venv",
   "language": "python",
   "name": "python3"
  },
  "language_info": {
   "codemirror_mode": {
    "name": "ipython",
    "version": 3
   },
   "file_extension": ".py",
   "mimetype": "text/x-python",
   "name": "python",
   "nbconvert_exporter": "python",
   "pygments_lexer": "ipython3",
   "version": "3.11.4"
  }
 },
 "nbformat": 4,
 "nbformat_minor": 2
}

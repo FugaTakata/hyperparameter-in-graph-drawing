{
 "cells": [
  {
   "cell_type": "markdown",
   "metadata": {},
   "source": [
    "p i e\n",
    "les 79 73 0.11493222498688235\n",
    "bus 91 32 0.7023128649185882\n",
    "us 92 24 0.6564355750390566\n"
   ]
  },
  {
   "cell_type": "code",
   "execution_count": 29,
   "metadata": {},
   "outputs": [],
   "source": [
    "D = \"USpowerGrid\"\n",
    "N = 500\n",
    "\n",
    "EDGE_WEIGHT = 30"
   ]
  },
  {
   "cell_type": "code",
   "execution_count": 30,
   "metadata": {},
   "outputs": [],
   "source": [
    "pref = {\n",
    "    \"angular_resolution\": 1,\n",
    "    \"aspect_ratio\": 1,\n",
    "    \"crossing_angle\": 1,\n",
    "    \"crossing_number\": 1,\n",
    "    \"gabriel_graph_property\": 1,\n",
    "    \"ideal_edge_length\": 1,\n",
    "    \"node_resolution\": 1,\n",
    "    \"neighborhood_preservation\": 3,\n",
    "    \"runtime\": 1,\n",
    "    \"stress\": 1,\n",
    "}"
   ]
  },
  {
   "cell_type": "code",
   "execution_count": 31,
   "metadata": {},
   "outputs": [],
   "source": [
    "# Standard Library\n",
    "import argparse\n",
    "from time import perf_counter\n",
    "\n",
    "# Third Party Library\n",
    "import matplotlib.pyplot as plt\n",
    "import networkx as nx\n",
    "import optuna\n",
    "import pandas as pd\n",
    "from egraph import Drawing, all_sources_bfs\n",
    "from ex_utils.config.dataset import dataset_names\n",
    "from ex_utils.config.paths import get_dataset_path\n",
    "from ex_utils.config.quality_metrics import qm_names\n",
    "from ex_utils.share import draw_and_measure, ex_path, generate_base_df_data\n",
    "from ex_utils.utils.graph import (\n",
    "    egraph_graph,\n",
    "    load_nx_graph,\n",
    "    nx_graph_preprocessing,\n",
    ")\n",
    "from tqdm import tqdm"
   ]
  },
  {
   "cell_type": "code",
   "execution_count": 32,
   "metadata": {},
   "outputs": [],
   "source": [
    "db_uri = (\n",
    "    f\"sqlite:///{ex_path.joinpath('results/optimization/optimization.db')}\"\n",
    ")\n",
    "study_name = f\"{D}_N={N}_with_runtime\"\n",
    "study = optuna.load_study(study_name=study_name, storage=db_uri)\n",
    "best_trials = study.best_trials"
   ]
  },
  {
   "cell_type": "code",
   "execution_count": 33,
   "metadata": {},
   "outputs": [],
   "source": [
    "best_trials_quality_metrics = dict((qm_name, []) for qm_name in qm_names)\n",
    "for best_trial in best_trials:\n",
    "    for qm_name, value in zip(qm_names, best_trial.values):\n",
    "        best_trials_quality_metrics[qm_name].append(value)\n",
    "\n",
    "for qm_name in qm_names:\n",
    "    best_trials_quality_metrics[qm_name] = sorted(\n",
    "        best_trials_quality_metrics[qm_name]\n",
    "    )\n",
    "\n",
    "for best_trial in best_trials:\n",
    "    for qm_name, value in zip(qm_names, best_trial.values):\n",
    "        best_trial.set_user_attr(\n",
    "            f\"{qm_name}_asc_index\",\n",
    "            best_trials_quality_metrics[qm_name].index(value),\n",
    "        )\n",
    "    s = 0\n",
    "    for qm_name in qm_names:\n",
    "        s += best_trial.user_attrs[f\"{qm_name}_asc_index\"] * pref[qm_name]\n",
    "    best_trial.set_user_attr(\"asc_index_total\", s)"
   ]
  },
  {
   "cell_type": "code",
   "execution_count": 34,
   "metadata": {},
   "outputs": [],
   "source": [
    "list_best_trials = []\n",
    "for best_trial in best_trials:\n",
    "    item = {\n",
    "        \"params\": best_trial.params,\n",
    "        \"values\": best_trial.values,\n",
    "        **best_trial.user_attrs,\n",
    "    }\n",
    "\n",
    "    list_best_trials.append(item)\n",
    "\n",
    "desc_sorted_list_best_trials = sorted(\n",
    "    list_best_trials, key=lambda x: x[\"asc_index_total\"], reverse=True\n",
    ")"
   ]
  },
  {
   "cell_type": "code",
   "execution_count": 35,
   "metadata": {},
   "outputs": [
    {
     "data": {
      "text/plain": [
       "['angular_resolution',\n",
       " 'aspect_ratio',\n",
       " 'crossing_angle',\n",
       " 'crossing_number',\n",
       " 'gabriel_graph_property',\n",
       " 'ideal_edge_length',\n",
       " 'neighborhood_preservation',\n",
       " 'node_resolution',\n",
       " 'runtime',\n",
       " 'stress']"
      ]
     },
     "execution_count": 35,
     "metadata": {},
     "output_type": "execute_result"
    }
   ],
   "source": [
    "qm_names"
   ]
  },
  {
   "cell_type": "code",
   "execution_count": 36,
   "metadata": {},
   "outputs": [],
   "source": [
    "qs = []"
   ]
  },
  {
   "cell_type": "code",
   "execution_count": 37,
   "metadata": {},
   "outputs": [
    {
     "name": "stdout",
     "output_type": "stream",
     "text": [
      "92 24 0.6564355750390566\n"
     ]
    }
   ],
   "source": [
    "dataset_path = get_dataset_path(D)\n",
    "nx_graph = nx_graph_preprocessing(\n",
    "    load_nx_graph(dataset_path=dataset_path), EDGE_WEIGHT\n",
    ")\n",
    "\n",
    "eg_graph, eg_indices = egraph_graph(nx_graph=nx_graph)\n",
    "eg_distance_matrix = all_sources_bfs(eg_graph, EDGE_WEIGHT)\n",
    "\n",
    "i = 0\n",
    "for t in desc_sorted_list_best_trials:\n",
    "    pivots = t[\"params\"][\"pivots\"]\n",
    "    iterations = t[\"params\"][\"iterations\"]\n",
    "    eps = t[\"params\"][\"eps\"]\n",
    "    print(pivots, iterations, eps)\n",
    "    break\n",
    "\n",
    "    eg_drawing = Drawing.initial_placement(eg_graph)\n",
    "\n",
    "    quality_metrics = {}\n",
    "    # print(len(t[\"values\"]))\n",
    "\n",
    "    for qm_name, value in zip(\n",
    "        [\n",
    "            \"angular_resolution\",\n",
    "            \"aspect_ratio\",\n",
    "            \"crossing_angle\",\n",
    "            \"crossing_number\",\n",
    "            \"gabriel_graph_property\",\n",
    "            \"ideal_edge_length\",\n",
    "            \"neighborhood_preservation\",\n",
    "            \"node_resolution\",\n",
    "            \"stress\",\n",
    "            \"runtime\",\n",
    "        ],\n",
    "        t[\"values\"],\n",
    "    ):\n",
    "        # print(qm_name, value)\n",
    "        quality_metrics[qm_name] = value\n",
    "\n",
    "    # print(quality_metrics)\n",
    "\n",
    "    # for qm_name in qm_names:\n",
    "    # t.user\n",
    "    # params, quality_metrics, pos = draw_and_measure(\n",
    "    #     pivots=pivots,\n",
    "    #     iterations=iterations,\n",
    "    #     eps=eps,\n",
    "    #     eg_graph=eg_graph,\n",
    "    #     eg_indices=eg_indices,\n",
    "    #     eg_drawing=eg_drawing,\n",
    "    #     eg_distance_matrix=eg_distance_matrix,\n",
    "    #     edge_weight=EDGE_WEIGHT,\n",
    "    #     seed=0,\n",
    "    # )\n",
    "    #     fig, ax = plt.subplots(dpi=300, facecolor=\"white\")\n",
    "    #     ax.set_aspect(\"equal\")\n",
    "\n",
    "    #     ax.set_title(\n",
    "    #         f\"\"\"{D} pivots={pivots},iter={iterations},eps={round(eps, 4)}\n",
    "    # runtime={t['values'][-1]}\n",
    "    # best_n={len(best_trials)},asc_index_total={t['asc_index_total']}\n",
    "    # {'''\n",
    "    # '''.join([f'{qm_name}={t[f\"{qm_name}_asc_index\"]}' for qm_name in qm_names])}\"\"\"\n",
    "    #     )\n",
    "\n",
    "    # nx.draw(\n",
    "    #     nx_graph,\n",
    "    #     pos=pos,\n",
    "    #     node_size=5,\n",
    "    #     node_color=\"#AB47BC\",\n",
    "    #     edge_color=\"#CFD8DC\",\n",
    "    #     ax=ax,\n",
    "    # )\n",
    "\n",
    "    # print(quality_metrics)\n",
    "    qs.append(quality_metrics)\n",
    "\n",
    "    # plt.show()\n",
    "    if i == 46:\n",
    "        print(pivots, iterations, eps)\n",
    "    i += 1"
   ]
  },
  {
   "cell_type": "code",
   "execution_count": 38,
   "metadata": {},
   "outputs": [],
   "source": [
    "from ex_utils.share import ex_path, generate_sscalers, generate_mmscalers\n",
    "\n",
    "n_split = 10\n",
    "data_seeds = [0, 1, 2, 3, 4, 5, 6, 7, 8, 9]\n",
    "df_paths = [\n",
    "    ex_path.joinpath(f\"data/grid/{D}/seed={data_seed}_n={n_split}.pkl\")\n",
    "    for data_seed in data_seeds\n",
    "]\n",
    "sscalers = generate_sscalers(df_paths)\n",
    "mmscalers = generate_mmscalers(df_paths)"
   ]
  },
  {
   "cell_type": "code",
   "execution_count": 39,
   "metadata": {},
   "outputs": [],
   "source": [
    "import numpy as np\n",
    "\n",
    "mm = []\n",
    "ma = 0\n",
    "i = 0\n",
    "mi = 0\n",
    "for q in qs:\n",
    "    ssq = {}\n",
    "    ssq_sum = 0\n",
    "    for qm_name in qm_names:\n",
    "        ssq[qm_name] = sscalers[qm_name].transform(\n",
    "            np.array(q[qm_name]).reshape(-1, 1)\n",
    "        )[0][0]\n",
    "        ssq_sum += ssq[qm_name]\n",
    "    print(ssq_sum, ssq)\n",
    "    mm.append(ssq_sum)\n",
    "    if ssq_sum > ma:\n",
    "        ma = ssq_sum\n",
    "        mi = i\n",
    "    i += 1"
   ]
  },
  {
   "cell_type": "code",
   "execution_count": 40,
   "metadata": {},
   "outputs": [
    {
     "data": {
      "text/plain": [
       "0"
      ]
     },
     "execution_count": 40,
     "metadata": {},
     "output_type": "execute_result"
    }
   ],
   "source": [
    "mi"
   ]
  },
  {
   "cell_type": "code",
   "execution_count": 41,
   "metadata": {},
   "outputs": [
    {
     "data": {
      "text/plain": [
       "0"
      ]
     },
     "execution_count": 41,
     "metadata": {},
     "output_type": "execute_result"
    }
   ],
   "source": [
    "ma"
   ]
  },
  {
   "cell_type": "code",
   "execution_count": 42,
   "metadata": {},
   "outputs": [
    {
     "ename": "ZeroDivisionError",
     "evalue": "division by zero",
     "output_type": "error",
     "traceback": [
      "\u001b[0;31m---------------------------------------------------------------------------\u001b[0m",
      "\u001b[0;31mZeroDivisionError\u001b[0m                         Traceback (most recent call last)",
      "\u001b[1;32m/Users/fuga_takata/dev/vdslab-project/hyperparameter-in-graph-drawing/experiments/optimization/choice_pareto_runtime.ipynb Cell 15\u001b[0m line \u001b[0;36m1\n\u001b[0;32m----> <a href='vscode-notebook-cell:/Users/fuga_takata/dev/vdslab-project/hyperparameter-in-graph-drawing/experiments/optimization/choice_pareto_runtime.ipynb#X16sZmlsZQ%3D%3D?line=0'>1</a>\u001b[0m \u001b[39mprint\u001b[39m(\u001b[39msum\u001b[39;49m(mm) \u001b[39m/\u001b[39;49m \u001b[39mlen\u001b[39;49m(mm))\n",
      "\u001b[0;31mZeroDivisionError\u001b[0m: division by zero"
     ]
    }
   ],
   "source": [
    "print(sum(mm) / len(mm))"
   ]
  }
 ],
 "metadata": {
  "kernelspec": {
   "display_name": ".venv",
   "language": "python",
   "name": "python3"
  },
  "language_info": {
   "codemirror_mode": {
    "name": "ipython",
    "version": 3
   },
   "file_extension": ".py",
   "mimetype": "text/x-python",
   "name": "python",
   "nbconvert_exporter": "python",
   "pygments_lexer": "ipython3",
   "version": "3.11.4"
  }
 },
 "nbformat": 4,
 "nbformat_minor": 2
}

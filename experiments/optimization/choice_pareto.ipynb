{
 "cells": [
  {
   "cell_type": "code",
   "execution_count": null,
   "metadata": {},
   "outputs": [],
   "source": [
    "D = \"USpowerGrid\"\n",
    "N = 500\n",
    "\n",
    "EDGE_WEIGHT = 30\n"
   ]
  },
  {
   "cell_type": "code",
   "execution_count": null,
   "metadata": {},
   "outputs": [],
   "source": [
    "# Standard Library\n",
    "import argparse\n",
    "from time import perf_counter\n",
    "\n",
    "# Third Party Library\n",
    "import matplotlib.pyplot as plt\n",
    "import networkx as nx\n",
    "import optuna\n",
    "import pandas as pd\n",
    "from egraph import Drawing, all_sources_bfs\n",
    "from ex_utils.config.dataset import dataset_names\n",
    "from ex_utils.config.paths import get_dataset_path\n",
    "from ex_utils.config.quality_metrics import qm_names\n",
    "from ex_utils.share import draw_and_measure, ex_path, generate_base_df_data\n",
    "from ex_utils.utils.graph import (\n",
    "    egraph_graph,\n",
    "    load_nx_graph,\n",
    "    nx_graph_preprocessing,\n",
    ")\n",
    "from tqdm import tqdm\n"
   ]
  },
  {
   "cell_type": "code",
   "execution_count": null,
   "metadata": {},
   "outputs": [],
   "source": [
    "db_uri = (\n",
    "    f\"sqlite:///{ex_path.joinpath('results/optimization/optimization.db')}\"\n",
    ")\n",
    "study_name = f\"{D}_N={N}_with_runtime\"\n",
    "study = optuna.load_study(study_name=study_name, storage=db_uri)\n",
    "best_trials = study.best_trials"
   ]
  },
  {
   "cell_type": "code",
   "execution_count": null,
   "metadata": {},
   "outputs": [],
   "source": [
    "best_trials_quality_metrics = dict((qm_name, []) for qm_name in qm_names)\n",
    "for best_trial in best_trials:\n",
    "    for qm_name, value in zip(qm_names, best_trial.values):\n",
    "        best_trials_quality_metrics[qm_name].append(value)\n",
    "\n",
    "for qm_name in qm_names:\n",
    "    best_trials_quality_metrics[qm_name] = sorted(\n",
    "        best_trials_quality_metrics[qm_name]\n",
    "    )\n",
    "\n",
    "for best_trial in best_trials:\n",
    "    for qm_name, value in zip(qm_names, best_trial.values):\n",
    "        best_trial.set_user_attr(\n",
    "            f\"{qm_name}_asc_index\",\n",
    "            best_trials_quality_metrics[qm_name].index(value),\n",
    "        )\n",
    "    s = 0\n",
    "    for qm_name in qm_names:\n",
    "        s += best_trial.user_attrs[f\"{qm_name}_asc_index\"]\n",
    "    best_trial.set_user_attr(\"asc_index_total\", s)\n"
   ]
  },
  {
   "cell_type": "code",
   "execution_count": null,
   "metadata": {},
   "outputs": [],
   "source": [
    "list_best_trials = []\n",
    "for best_trial in best_trials:\n",
    "    item = {\n",
    "        \"params\": best_trial.params,\n",
    "        \"values\": best_trial.values,\n",
    "        **best_trial.user_attrs,\n",
    "    }\n",
    "\n",
    "    list_best_trials.append(item)\n",
    "\n",
    "desc_sorted_list_best_trials = sorted(\n",
    "    list_best_trials, key=lambda x: x[\"asc_index_total\"], reverse=True\n",
    ")\n"
   ]
  },
  {
   "cell_type": "code",
   "execution_count": null,
   "metadata": {},
   "outputs": [],
   "source": [
    "dataset_path = get_dataset_path(D)\n",
    "nx_graph = nx_graph_preprocessing(\n",
    "    load_nx_graph(dataset_path=dataset_path), EDGE_WEIGHT\n",
    ")\n",
    "\n",
    "eg_graph, eg_indices = egraph_graph(nx_graph=nx_graph)\n",
    "eg_distance_matrix = all_sources_bfs(eg_graph, EDGE_WEIGHT)\n",
    "\n",
    "\n",
    "for t in desc_sorted_list_best_trials:\n",
    "    pivots = t[\"params\"][\"pivots\"]\n",
    "    iterations = t[\"params\"][\"iterations\"]\n",
    "    eps = t[\"params\"][\"eps\"]\n",
    "\n",
    "    eg_drawing = Drawing.initial_placement(eg_graph)\n",
    "\n",
    "    params, quality_metrics, pos = draw_and_measure(\n",
    "        pivots=pivots,\n",
    "        iterations=iterations,\n",
    "        eps=eps,\n",
    "        eg_graph=eg_graph,\n",
    "        eg_indices=eg_indices,\n",
    "        eg_drawing=eg_drawing,\n",
    "        eg_distance_matrix=eg_distance_matrix,\n",
    "        edge_weight=EDGE_WEIGHT,\n",
    "        seed=0,\n",
    "    )\n",
    "\n",
    "    fig, ax = plt.subplots(dpi=300, facecolor=\"white\")\n",
    "    ax.set_aspect(\"equal\")\n",
    "\n",
    "    ax.set_title(\n",
    "        f\"\"\"{D} pivots={pivots},iter={iterations},eps={eps}\n",
    "best_n={len(best_trials)},asc_index_total={t['asc_index_total']}\n",
    "{'''\n",
    "'''.join([f'{qm_name}={t[f\"{qm_name}_asc_index\"]}' for qm_name in qm_names])}\"\"\"\n",
    "    )\n",
    "\n",
    "    nx.draw(\n",
    "        nx_graph,\n",
    "        pos=pos,\n",
    "        node_size=5,\n",
    "        node_color=\"#AB47BC\",\n",
    "        edge_color=\"#CFD8DC\",\n",
    "        ax=ax,\n",
    "    )\n",
    "    print(pos)\n",
    "\n",
    "    print(quality_metrics)\n",
    "\n",
    "    plt.show()"
   ]
  }
 ],
 "metadata": {
  "kernelspec": {
   "display_name": ".venv",
   "language": "python",
   "name": "python3"
  },
  "language_info": {
   "codemirror_mode": {
    "name": "ipython",
    "version": 3
   },
   "file_extension": ".py",
   "mimetype": "text/x-python",
   "name": "python",
   "nbconvert_exporter": "python",
   "pygments_lexer": "ipython3",
   "version": "3.11.4"
  }
 },
 "nbformat": 4,
 "nbformat_minor": 2
}
